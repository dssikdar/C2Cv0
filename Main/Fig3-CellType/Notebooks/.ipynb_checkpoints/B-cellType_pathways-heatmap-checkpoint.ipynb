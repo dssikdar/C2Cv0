{
 "cells": [
  {
   "cell_type": "code",
   "execution_count": 1,
   "id": "0c688dc4-700c-4de9-a7cd-207d116c4064",
   "metadata": {
    "scrolled": true,
    "tags": []
   },
   "outputs": [
    {
     "name": "stderr",
     "output_type": "stream",
     "text": [
      "Loading required package: SeuratObject\n",
      "\n",
      "Loading required package: sp\n",
      "\n",
      "\n",
      "Attaching package: ‘SeuratObject’\n",
      "\n",
      "\n",
      "The following object is masked from ‘package:base’:\n",
      "\n",
      "    intersect\n",
      "\n",
      "\n",
      "Loading required package: registry\n",
      "\n",
      "Loading required package: rngtools\n",
      "\n",
      "Loading required package: cluster\n",
      "\n",
      "NMF - BioConductor layer [OK] | Shared memory capabilities [NO: bigmemory] | Cores 2/2\n",
      "\n",
      "  To enable shared memory capabilities, try: install.extras('\n",
      "NMF\n",
      "')\n",
      "\n",
      "Loading required package: ggplot2\n",
      "\n",
      "Loading required package: grid\n",
      "\n",
      "========================================\n",
      "ComplexHeatmap version 2.15.4\n",
      "Bioconductor page: http://bioconductor.org/packages/ComplexHeatmap/\n",
      "Github page: https://github.com/jokergoo/ComplexHeatmap\n",
      "Documentation: http://jokergoo.github.io/ComplexHeatmap-reference\n",
      "\n",
      "If you use it in published research, please cite either one:\n",
      "- Gu, Z. Complex Heatmap Visualization. iMeta 2022.\n",
      "- Gu, Z. Complex heatmaps reveal patterns and correlations in multidimensional \n",
      "    genomic data. Bioinformatics 2016.\n",
      "\n",
      "\n",
      "The new InteractiveComplexHeatmap package can directly export static \n",
      "complex heatmaps into an interactive Shiny app with zero effort. Have a try!\n",
      "\n",
      "This message can be suppressed by:\n",
      "  suppressPackageStartupMessages(library(ComplexHeatmap))\n",
      "========================================\n",
      "\n",
      "\n",
      "Loading required package: dplyr\n",
      "\n",
      "\n",
      "Attaching package: ‘dplyr’\n",
      "\n",
      "\n",
      "The following object is masked from ‘package:Biobase’:\n",
      "\n",
      "    combine\n",
      "\n",
      "\n",
      "The following objects are masked from ‘package:BiocGenerics’:\n",
      "\n",
      "    combine, intersect, setdiff, union\n",
      "\n",
      "\n",
      "The following objects are masked from ‘package:stats’:\n",
      "\n",
      "    filter, lag\n",
      "\n",
      "\n",
      "The following objects are masked from ‘package:base’:\n",
      "\n",
      "    intersect, setdiff, setequal, union\n",
      "\n",
      "\n",
      "Loading required package: igraph\n",
      "\n",
      "\n",
      "Attaching package: ‘igraph’\n",
      "\n",
      "\n",
      "The following objects are masked from ‘package:dplyr’:\n",
      "\n",
      "    as_data_frame, groups, union\n",
      "\n",
      "\n",
      "The following objects are masked from ‘package:NMF’:\n",
      "\n",
      "    algorithm, compare\n",
      "\n",
      "\n",
      "The following objects are masked from ‘package:BiocGenerics’:\n",
      "\n",
      "    normalize, path, union\n",
      "\n",
      "\n",
      "The following object is masked from ‘package:Seurat’:\n",
      "\n",
      "    components\n",
      "\n",
      "\n",
      "The following objects are masked from ‘package:stats’:\n",
      "\n",
      "    decompose, spectrum\n",
      "\n",
      "\n",
      "The following object is masked from ‘package:base’:\n",
      "\n",
      "    union\n",
      "\n",
      "\n",
      "========================================\n",
      "circlize version 0.4.16\n",
      "CRAN page: https://cran.r-project.org/package=circlize\n",
      "Github page: https://github.com/jokergoo/circlize\n",
      "Documentation: https://jokergoo.github.io/circlize_book/book/\n",
      "\n",
      "If you use it in published research, please cite:\n",
      "Gu, Z. circlize implements and enhances circular visualization\n",
      "  in R. Bioinformatics 2014.\n",
      "\n",
      "This message can be suppressed by:\n",
      "  suppressPackageStartupMessages(library(circlize))\n",
      "========================================\n",
      "\n",
      "\n",
      "\n",
      "Attaching package: ‘circlize’\n",
      "\n",
      "\n",
      "The following object is masked from ‘package:igraph’:\n",
      "\n",
      "    degree\n",
      "\n",
      "\n",
      "\n",
      "Attaching package: ‘pracma’\n",
      "\n",
      "\n",
      "The following objects are masked from ‘package:Matrix’:\n",
      "\n",
      "    expm, lu, tril, triu\n",
      "\n",
      "\n"
     ]
    }
   ],
   "source": [
    "library(Seurat)\n",
    "#library(SeuratDisk)\n",
    "library(NMF)\n",
    "library(ggalluvial)\n",
    "library(ComplexHeatmap)\n",
    "library(CellChat)\n",
    "library(patchwork)\n",
    "library(graphics)\n",
    "library(Matrix)\n",
    "library(circlize)\n",
    "library(colorspace)\n",
    "library(pracma)\n",
    "library(glue)\n",
    "\n",
    "options(stringsAsFactors = FALSE, repr.plot.width = 12, repr.plot.height = 9, repr.plot.res = 300)\n",
    "\n",
    "source(\"../Scripts/B-cellType_pathways-heatmap.r\")"
   ]
  },
  {
   "cell_type": "markdown",
   "id": "4667dbe3-81b5-4583-ac6a-ca15b5fa04f6",
   "metadata": {},
   "source": [
    "# Parameters"
   ]
  },
  {
   "cell_type": "code",
   "execution_count": 56,
   "id": "ce45defd-e472-4d3a-a3e3-54530bf6688a",
   "metadata": {},
   "outputs": [],
   "source": [
    "# for plotting figC, differential network\n",
    "disease = \"AD\"\n",
    "project = \"AD_Paper\"\n",
    "type <- \"truncatedMean\"\n",
    "trim <- 0.05\n",
    "\n",
    "cell_type <- \"Sst\"\n",
    "comm_type <- \"sender\"       # \"receiver\", \"sender\""
   ]
  },
  {
   "cell_type": "code",
   "execution_count": 3,
   "id": "a1715e36-16d8-4b7b-a2f5-65ac1effb23e",
   "metadata": {},
   "outputs": [],
   "source": [
    "inhibitory_celltypes <- c('Chandelier', 'Lamp5', 'Lamp5 Lhx6', 'Pax6', 'Pvalb', 'Sncg', 'Sst', 'Vip', 'Sst Chodl')\n",
    "excitatory_celltypes <- c('L2/3 IT', 'L4 IT', 'L5', 'L5/6 NP', 'L6 CT', 'L6 IT', 'L6 IT Car3', 'L6b')\n",
    "support_celltypes <- c('Astro', 'Endo', 'Oligo', 'OPC', 'VLMC', 'Micro/PVM')\n",
    "celltype_name = c('Chandelier', 'Lamp5', 'Lamp5 Lhx6', 'Pax6', 'Pvalb', 'Sncg', 'Sst', 'Vip', 'Sst Chodl', \n",
    "                  'L2/3 IT', 'L4 IT', 'L5', 'L5/6 NP', 'L6 CT', 'L6 IT', 'L6 IT Car3', 'L6b', \n",
    "                  'Astro', 'Endo', 'Oligo', 'OPC', 'VLMC', 'Micro/PVM')\n",
    "\n",
    "#celltype_name = c('Astro', 'Endo', 'MG', 'Oligo', 'OPC', \n",
    "#                  'Exc CUX2', 'Exc FEZF2', 'Exc OPRK1', 'Exc RORB', \n",
    "#                  'Inh KCNG1', 'Inh LAMP5', 'Inh PVALB', 'Inh SST', 'Inh VIP')\n",
    "\n",
    "measure = 'weight'"
   ]
  },
  {
   "cell_type": "markdown",
   "id": "261f9325-a206-40b4-9565-ab501f45350d",
   "metadata": {},
   "source": [
    "# Read in Data"
   ]
  },
  {
   "cell_type": "code",
   "execution_count": 4,
   "id": "40d02f0d-20f8-4e02-9953-9176f1092444",
   "metadata": {},
   "outputs": [],
   "source": [
    "cellchat.CT <- readRDS(file = \"/extra/zhanglab0/CommonData/AMP-AD/Obj-CellChat/subclass_cellchat_control.rds\")\n",
    "cellchat.DIS <- readRDS(file = \"/extra/zhanglab0/CommonData/AMP-AD/Obj-CellChat/subclass_cellchat_alz.rds\")"
   ]
  },
  {
   "cell_type": "code",
   "execution_count": 5,
   "id": "ff3757c4-4a0f-4ba8-ac29-de7d726c7ca1",
   "metadata": {},
   "outputs": [
    {
     "name": "stderr",
     "output_type": "stream",
     "text": [
      "Warning message in updateCellChat(cellchat.CT):\n",
      "“The 'meta' data does not have a column named `samples`. We now add this column and all cells are assumed to belong to `sample1`!”\n",
      "Warning message in updateCellChat(cellchat.DIS):\n",
      "“The 'meta' data does not have a column named `samples`. We now add this column and all cells are assumed to belong to `sample1`!”\n"
     ]
    }
   ],
   "source": [
    "cellchat.CT <- updateCellChat(cellchat.CT)\n",
    "cellchat.DIS <- updateCellChat(cellchat.DIS)"
   ]
  },
  {
   "cell_type": "code",
   "execution_count": 6,
   "id": "8bdfc213-0a16-4d16-8f54-220a45b38070",
   "metadata": {},
   "outputs": [
    {
     "name": "stderr",
     "output_type": "stream",
     "text": [
      "Merge the following slots: 'data.signaling','images','net', 'netP','meta', 'idents', 'var.features' , 'DB', and 'LR'.\n",
      "\n"
     ]
    },
    {
     "name": "stdout",
     "output_type": "stream",
     "text": [
      "An object of class CellChat created from a merged object with multiple datasets \n",
      " 704 signaling genes.\n",
      " 51171 cells. \n",
      "CellChat analysis of single cell RNA-seq data! \n"
     ]
    },
    {
     "data": {
      "text/html": [
       "<style>\n",
       ".list-inline {list-style: none; margin:0; padding: 0}\n",
       ".list-inline>li {display: inline-block}\n",
       ".list-inline>li:not(:last-child)::after {content: \"\\00b7\"; padding: 0 .5ex}\n",
       "</style>\n",
       "<ol class=list-inline><li>'CT'</li><li>'DIS'</li></ol>\n"
      ],
      "text/latex": [
       "\\begin{enumerate*}\n",
       "\\item 'CT'\n",
       "\\item 'DIS'\n",
       "\\end{enumerate*}\n"
      ],
      "text/markdown": [
       "1. 'CT'\n",
       "2. 'DIS'\n",
       "\n",
       "\n"
      ],
      "text/plain": [
       "[1] \"CT\"  \"DIS\""
      ]
     },
     "metadata": {},
     "output_type": "display_data"
    }
   ],
   "source": [
    "object.list <- list(CT = cellchat.CT, DIS = cellchat.DIS)\n",
    "cellchat <- mergeCellChat(object.list, add.names = names(object.list))\n",
    "print(cellchat)\n",
    "names(object.list)"
   ]
  },
  {
   "cell_type": "markdown",
   "id": "2d4433de-f372-49bd-9833-2c142f9379e5",
   "metadata": {},
   "source": [
    "# Code"
   ]
  },
  {
   "cell_type": "markdown",
   "id": "98768eb7-7997-4d0d-8910-6e0f452f26e0",
   "metadata": {},
   "source": [
    "## Normalization"
   ]
  },
  {
   "cell_type": "code",
   "execution_count": 9,
   "id": "9c222e17-086a-4fb6-aa6d-bead7669c4de",
   "metadata": {},
   "outputs": [],
   "source": [
    "# get the matrix\n",
    "obj1 <- object.list[[1]]@net[[measure]]              # CT\n",
    "obj2 <- object.list[[2]]@net[[measure]]              # DIS\n",
    "melt_1 <- reshape2::melt(obj1, value.name=\"count\")\n",
    "melt_2 <- reshape2::melt(obj2, value.name=\"count\")\n",
    "sum1 <- sum(melt_1$count)\n",
    "sum2 <- sum(melt_2$count)\n",
    "\n",
    "# balance\n",
    "normalization = sum1 / sum2\n",
    "# normalization = sum(object.list[[1]]@netP$prob) / sum(object.list[[2]]@netP$prob)\n",
    "net.diff <- obj2 * (normalization) - obj1\n",
    "\n",
    "# reorder the celltypes\n",
    "net.diff <- net.diff[celltype_name, celltype_name]"
   ]
  },
  {
   "cell_type": "code",
   "execution_count": 10,
   "id": "23827232-e9cf-45ea-9421-f7b64b35888d",
   "metadata": {},
   "outputs": [
    {
     "data": {
      "text/html": [
       "<style>\n",
       ".dl-inline {width: auto; margin:0; padding: 0}\n",
       ".dl-inline>dt, .dl-inline>dd {float: none; width: auto; display: inline-block}\n",
       ".dl-inline>dt::after {content: \":\\0020\"; padding-right: .5ex}\n",
       ".dl-inline>dt:not(:first-of-type) {padding-left: .5ex}\n",
       "</style><dl class=dl-inline><dt>Chandelier</dt><dd>0.953683548614192</dd><dt>Lamp5</dt><dd>0.496960796762695</dd><dt>Lamp5 Lhx6</dt><dd>0.183606443437312</dd><dt>Pax6</dt><dd>0.362277369514244</dd><dt>Pvalb</dt><dd>0.301809851791979</dd><dt>Sncg</dt><dd>0.905339181270896</dd><dt>Sst</dt><dd>-0.957502365114291</dd><dt>Vip</dt><dd>0.85997846333682</dd><dt>Sst Chodl</dt><dd>0</dd><dt>L2/3 IT</dt><dd>-1.59418302409378</dd><dt>L4 IT</dt><dd>-0.447851755989095</dd><dt>L5</dt><dd>-1.65548802920828</dd><dt>L5/6 NP</dt><dd>-0.35579860223482</dd><dt>L6 CT</dt><dd>-0.23412574709297</dd><dt>L6 IT</dt><dd>-0.294521119254933</dd><dt>L6 IT Car3</dt><dd>-0.657613323881614</dd><dt>L6b</dt><dd>-0.0507919047368934</dd><dt>Astro</dt><dd>-0.337780325075515</dd><dt>Endo</dt><dd>-0.332622021153463</dd><dt>Oligo</dt><dd>2.9066157679128</dd><dt>OPC</dt><dd>0.549449701930449</dd><dt>VLMC</dt><dd>-0.605220395717914</dd><dt>Micro/PVM</dt><dd>0.00377748898219819</dd></dl>\n"
      ],
      "text/latex": [
       "\\begin{description*}\n",
       "\\item[Chandelier] 0.953683548614192\n",
       "\\item[Lamp5] 0.496960796762695\n",
       "\\item[Lamp5 Lhx6] 0.183606443437312\n",
       "\\item[Pax6] 0.362277369514244\n",
       "\\item[Pvalb] 0.301809851791979\n",
       "\\item[Sncg] 0.905339181270896\n",
       "\\item[Sst] -0.957502365114291\n",
       "\\item[Vip] 0.85997846333682\n",
       "\\item[Sst Chodl] 0\n",
       "\\item[L2/3 IT] -1.59418302409378\n",
       "\\item[L4 IT] -0.447851755989095\n",
       "\\item[L5] -1.65548802920828\n",
       "\\item[L5/6 NP] -0.35579860223482\n",
       "\\item[L6 CT] -0.23412574709297\n",
       "\\item[L6 IT] -0.294521119254933\n",
       "\\item[L6 IT Car3] -0.657613323881614\n",
       "\\item[L6b] -0.0507919047368934\n",
       "\\item[Astro] -0.337780325075515\n",
       "\\item[Endo] -0.332622021153463\n",
       "\\item[Oligo] 2.9066157679128\n",
       "\\item[OPC] 0.549449701930449\n",
       "\\item[VLMC] -0.605220395717914\n",
       "\\item[Micro/PVM] 0.00377748898219819\n",
       "\\end{description*}\n"
      ],
      "text/markdown": [
       "Chandelier\n",
       ":   0.953683548614192Lamp5\n",
       ":   0.496960796762695Lamp5 Lhx6\n",
       ":   0.183606443437312Pax6\n",
       ":   0.362277369514244Pvalb\n",
       ":   0.301809851791979Sncg\n",
       ":   0.905339181270896Sst\n",
       ":   -0.957502365114291Vip\n",
       ":   0.85997846333682Sst Chodl\n",
       ":   0L2/3 IT\n",
       ":   -1.59418302409378L4 IT\n",
       ":   -0.447851755989095L5\n",
       ":   -1.65548802920828L5/6 NP\n",
       ":   -0.35579860223482L6 CT\n",
       ":   -0.23412574709297L6 IT\n",
       ":   -0.294521119254933L6 IT Car3\n",
       ":   -0.657613323881614L6b\n",
       ":   -0.0507919047368934Astro\n",
       ":   -0.337780325075515Endo\n",
       ":   -0.332622021153463Oligo\n",
       ":   2.9066157679128OPC\n",
       ":   0.549449701930449VLMC\n",
       ":   -0.605220395717914Micro/PVM\n",
       ":   0.00377748898219819\n",
       "\n"
      ],
      "text/plain": [
       "  Chandelier        Lamp5   Lamp5 Lhx6         Pax6        Pvalb         Sncg \n",
       " 0.953683549  0.496960797  0.183606443  0.362277370  0.301809852  0.905339181 \n",
       "         Sst          Vip    Sst Chodl      L2/3 IT        L4 IT           L5 \n",
       "-0.957502365  0.859978463  0.000000000 -1.594183024 -0.447851756 -1.655488029 \n",
       "     L5/6 NP        L6 CT        L6 IT   L6 IT Car3          L6b        Astro \n",
       "-0.355798602 -0.234125747 -0.294521119 -0.657613324 -0.050791905 -0.337780325 \n",
       "        Endo        Oligo          OPC         VLMC    Micro/PVM \n",
       "-0.332622021  2.906615768  0.549449702 -0.605220396  0.003777489 "
      ]
     },
     "metadata": {},
     "output_type": "display_data"
    }
   ],
   "source": [
    "colSums(net.diff)"
   ]
  },
  {
   "cell_type": "code",
   "execution_count": 11,
   "id": "c8841b99-754d-4ee3-bddf-316a33cffeca",
   "metadata": {},
   "outputs": [],
   "source": [
    "#sum(net.diff_comm_slice)"
   ]
  },
  {
   "cell_type": "markdown",
   "id": "da18de23-188b-43e7-a9f0-3143736dd26e",
   "metadata": {},
   "source": [
    "## C2C Difference"
   ]
  },
  {
   "cell_type": "code",
   "execution_count": 62,
   "id": "54901421-bd7e-4dc5-92b5-f68e29dbf85c",
   "metadata": {},
   "outputs": [],
   "source": [
    "data_whole.CT  <- cellchat.CT@netP$prob\n",
    "data_whole.DIS <- cellchat.DIS@netP$prob * normalization\n",
    "\n",
    "if (comm_type == \"receiver\") {\n",
    "    comm_slice.CT  <- data_whole.CT[cell_type, , ]\n",
    "    comm_slice.DIS <- data_whole.DIS[cell_type, , ]\n",
    "    row_title = paste0(\"Sender Cell Types to \", cell_type)\n",
    "} else if (comm_type == \"sender\") {\n",
    "    comm_slice.CT  <- data_whole.CT[cell_type, , ]\n",
    "    comm_slice.DIS <- data_whole.DIS[cell_type, ,]\n",
    "    row_title = paste0(cell_type, \" to Receiver Cell Types\")\n",
    "}\n",
    "\n",
    "if (length(setdiff(colnames(comm_slice.CT), colnames(comm_slice.DIS))) > 0) {\n",
    "    original_names <- colnames(comm_slice.DIS)\n",
    "    for (i in 1:length(setdiff(colnames(comm_slice.CT), colnames(comm_slice.DIS)))) {\n",
    "        comm_slice.DIS <- cbind(comm_slice.DIS, 0)\n",
    "    }\n",
    "    colnames(comm_slice.DIS) <- c(original_names, setdiff(colnames(comm_slice.CT), colnames(comm_slice.DIS)))\n",
    "}\n",
    "\n",
    "if (length(setdiff(colnames(comm_slice.DIS), colnames(comm_slice.CT))) > 0) {\n",
    "    original_names <- colnames(comm_slice.CT)\n",
    "    for (i in 1:length(setdiff(colnames(comm_slice.DIS), colnames(comm_slice.CT)))) {\n",
    "        comm_slice.CT <- cbind(comm_slice.CT, 0)\n",
    "    }\n",
    "    colnames(comm_slice.CT) <- c(original_names, setdiff(colnames(comm_slice.DIS), colnames(comm_slice.CT)))\n",
    "}\n",
    "\n",
    "comm_slice.DIS <- comm_slice.DIS[, colnames(comm_slice.CT)]\n",
    "\n",
    "net.diff_comm_slice <- comm_slice.DIS - comm_slice.CT\n",
    "net.diff_comm_slice <- net.diff_comm_slice[celltype_name, abs(colSums(net.diff_comm_slice)) > 0.005]\n",
    "net.diff_comm_slice <- net.diff_comm_slice[celltype_name, names(sort(colSums(net.diff_comm_slice), decreasing = TRUE))]"
   ]
  },
  {
   "cell_type": "markdown",
   "id": "7f873181-ed9e-4124-baf8-9e5494eeb41f",
   "metadata": {},
   "source": [
    "# Visual"
   ]
  },
  {
   "cell_type": "code",
   "execution_count": 64,
   "id": "2e99cdcf-8848-48ad-b3d6-f561dca616d7",
   "metadata": {},
   "outputs": [
    {
     "data": {
      "text/html": [
       "<strong>png:</strong> 2"
      ],
      "text/latex": [
       "\\textbf{png:} 2"
      ],
      "text/markdown": [
       "**png:** 2"
      ],
      "text/plain": [
       "png \n",
       "  2 "
      ]
     },
     "metadata": {},
     "output_type": "display_data"
    }
   ],
   "source": [
    "# Draw\n",
    "# pdf(file = glue(\"supp_fig-diff_IO-{comm_type}-{cell_type}.pdf\"), width = 14, height = 8)\n",
    "\n",
    "pdf(file = \"image.pdf\", width = 10, height = 10)\n",
    "\n",
    "ht1 <- Heatmap(net.diff_comm_slice, \n",
    "              name = \"Diff Strength\", #title of legend\n",
    "              column_title = glue(\"Differential {disease} vs CON Pathways\"), row_title = row_title, \n",
    "              column_title_gp = gpar(fontsize = 16, fontface=\"bold\"),                                      # Column Title Font\n",
    "              row_title_gp = gpar(fontsize = 16, fontface=\"bold\"),                                                            # Row Title Font\n",
    "              row_names_gp = gpar(fontsize = 12), column_names_gp = gpar(fontsize = 12),\n",
    "              show_row_dend = FALSE, show_column_dend = FALSE,                                               # No dendrograms\n",
    "              rect_gp = gpar(col = \"white\", lwd = 2),                                                        # ea cell has a white border\n",
    "              col = colorRamp2(c(-max(abs(net.diff_comm_slice)), 0, max(abs(net.diff_comm_slice))), \n",
    "                                c(\"blue\", \"white\", \"red\")),     # Set Color\n",
    "              row_names_side = 'left', column_names_side = 'top', \n",
    "              heatmap_legend_param = list(legend_direction = \"horizontal\", legend_width = unit(5, \"cm\")),\n",
    "              width = ncol(net.diff_comm_slice)*unit(5, \"mm\"), height = nrow(net.diff_comm_slice)*unit(8, \"mm\"),   # Row and column names on the right side\n",
    "              cluster_rows = FALSE, cluster_columns = TRUE)\n",
    "draw(ht1, heatmap_legend_side = \"bottom\")\n",
    "dev.off()"
   ]
  },
  {
   "cell_type": "code",
   "execution_count": null,
   "id": "28a266a7-f54e-45d0-a93c-f39c1404b184",
   "metadata": {},
   "outputs": [],
   "source": []
  }
 ],
 "metadata": {
  "kernelspec": {
   "display_name": "R",
   "language": "R",
   "name": "ir"
  },
  "language_info": {
   "codemirror_mode": "r",
   "file_extension": ".r",
   "mimetype": "text/x-r-source",
   "name": "R",
   "pygments_lexer": "r",
   "version": "4.3.2"
  }
 },
 "nbformat": 4,
 "nbformat_minor": 5
}
