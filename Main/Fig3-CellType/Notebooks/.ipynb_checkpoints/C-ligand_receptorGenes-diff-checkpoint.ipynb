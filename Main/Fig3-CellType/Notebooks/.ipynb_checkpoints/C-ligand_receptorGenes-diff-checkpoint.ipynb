{
 "cells": [
  {
   "cell_type": "code",
   "execution_count": 2,
   "id": "c5eb011f-458f-4271-8d7d-79fe02b5cac6",
   "metadata": {
    "scrolled": true
   },
   "outputs": [],
   "source": [
    "library(Seurat)\n",
    "library(SeuratDisk)\n",
    "library(NMF)\n",
    "library(ggalluvial)\n",
    "library(ComplexHeatmap)\n",
    "library(CellChat)\n",
    "library(patchwork)\n",
    "library(graphics)\n",
    "library(Matrix)\n",
    "library(circlize)\n",
    "library(colorspace)\n",
    "library(pracma)\n",
    "library(glue)\n",
    "\n",
    "options(stringsAsFactors = FALSE, repr.plot.width = 8, repr.plot.height = 6, repr.plot.res = 300)\n",
    "\n",
    "source(\"C-ligand_receptorGenes-diff.r\")"
   ]
  },
  {
   "cell_type": "markdown",
   "id": "670665f2-ba7f-42ac-87f1-4bf53d377711",
   "metadata": {},
   "source": [
    "# Parameters"
   ]
  },
  {
   "cell_type": "code",
   "execution_count": 4,
   "id": "ea2cb680-0105-4f50-940e-def6b0c497ac",
   "metadata": {},
   "outputs": [],
   "source": [
    "# for plotting figC, differential network\n",
    "project = \"PTSD_Call\"\n",
    "type <- \"truncatedMean\"\n",
    "trim <- 0.05\n",
    "\n",
    "pathways.show = \"NRG\"\n",
    "thresh <- 0.05"
   ]
  },
  {
   "cell_type": "code",
   "execution_count": 5,
   "id": "55cb5b1b-8bbe-482c-984c-3aaa91a44316",
   "metadata": {},
   "outputs": [],
   "source": [
    "cellchat.CT <- readRDS(file = glue(\"/gpfs/gibbs/pi/girgenti/JZhang/CL/C2C/PTSD_Call/Obj-CellChat/RNA_FINAL-CON-type_{type}-trim_{trim}_cellchat.rds\"))\n",
    "cellchat.PTSD <- readRDS(file = glue(\"/gpfs/gibbs/pi/girgenti/JZhang/CL/C2C/PTSD_Call/Obj-CellChat/RNA_FINAL-PTSD-type_{type}-trim_{trim}_cellchat.rds\"))\n",
    "cellchat.MDD <- readRDS(file = glue(\"/gpfs/gibbs/pi/girgenti/JZhang/CL/C2C/PTSD_Call/Obj-CellChat/RNA_FINAL-MDD-type_{type}-trim_{trim}_cellchat.rds\"))"
   ]
  },
  {
   "cell_type": "code",
   "execution_count": 24,
   "id": "4ca77350-c596-478d-a2c4-d07d2f6c1fdd",
   "metadata": {},
   "outputs": [],
   "source": [
    "disease = \"MDD\"\n",
    "cellchat.DIS <- cellchat.MDD"
   ]
  },
  {
   "cell_type": "code",
   "execution_count": 25,
   "id": "960436c9-f92c-43fc-8e90-ce0b32ddb878",
   "metadata": {},
   "outputs": [],
   "source": [
    "celltype_name = c('Astro', 'Endo', 'MG', 'Oligo', 'OPC', \n",
    "                  'Exc CUX2', 'Exc FEZF2', 'Exc OPRK1', 'Exc RORB', \n",
    "                  'Inh KCNG1', 'Inh LAMP5', 'Inh PVALB', 'Inh SST', 'Inh VIP')\n",
    "\n",
    "senders <- celltype_name\n",
    "receivers <- celltype_name"
   ]
  },
  {
   "cell_type": "code",
   "execution_count": 6,
   "id": "c2ad1cec-2b4b-47f7-b64f-b40f4d7190ee",
   "metadata": {},
   "outputs": [],
   "source": [
    "# object.list <- list(CT = cellchat.CT, DIS = cellchat.DIS)\n",
    "# cellchat <- mergeCellChat(object.list, add.names = names(object.list))\n",
    "# print(cellchat)\n",
    "# names(object.list)"
   ]
  },
  {
   "cell_type": "markdown",
   "id": "66014db6-4c52-4584-a71d-79b2c948ce57",
   "metadata": {},
   "source": [
    "# Code"
   ]
  },
  {
   "cell_type": "code",
   "execution_count": 31,
   "id": "c9b8141f-24cc-4fdd-a8b4-104d35ae47eb",
   "metadata": {},
   "outputs": [
    {
     "name": "stdout",
     "output_type": "stream",
     "text": [
      "[1] \"For CT,   are all LR pairs in database found in C2C matrix? : TRUE\"\n",
      "[1] \"For DIS, are all LR pairs in database found in C2C matrix? : TRUE\"\n"
     ]
    }
   ],
   "source": [
    "# Paramter\n",
    "pathways.show      <- \"NRG\"\n",
    "sender_celltypes   <- celltype_name\n",
    "receiver_celltypes <- \"Inh SST\"\n",
    "LR_pairs      <- searchPair(signaling = pathways.show, pairLR.use = cellchat.CT@LR$LRsig, key = \"pathway_name\", matching.exact = T, pair.only = T)$interaction_name     \n",
    "\n",
    "# Don't change. Hard-coded\n",
    "matrix.CT     <- cellchat.CT@net$prob        # 14 x 14 x 946\n",
    "matrix.DIS    <- cellchat.DIS@net$prob       # 14 x 14 x 943\n",
    "normalization <- sum(cellchat.CT@net$weight) / sum(cellchat.DIS@net$weight)  # CT / DIS, obtained from the 14x14 cell type matrix\n",
    "\n",
    "print(paste0(\"For CT,   are all LR pairs in database found in C2C matrix? : \", all(LR_pairs %in% dimnames(matrix.CT)[[3]])))\n",
    "print(paste0(\"For DIS, are all LR pairs in database found in C2C matrix? : \", all(LR_pairs %in% dimnames(matrix.DIS)[[3]])))\n",
    "LR_pairs <- intersect(LR_pairs[LR_pairs %in% dimnames(matrix.CT)[[3]]], LR_pairs[LR_pairs %in% dimnames(matrix.DIS)[[3]]])\n",
    "\n",
    "# if statement needed for 2D-matrices with only 1 ligand-receptor pair\n",
    "if ((length(LR_pairs) > 1) & (length(sender_celltypes)) > 1 & (length(receiver_celltypes) > 1)) {\n",
    "    LR_pairs_weight.CT           <- apply(matrix.CT[sender_celltypes, receiver_celltypes, LR_pairs], c(3), sum)\n",
    "    LR_pairs_weight.DIS          <- apply(matrix.DIS[sender_celltypes, receiver_celltypes, LR_pairs], c(3), sum)\n",
    "    LR_pairs_weight.differential <- LR_pairs_weight.DIS * normalization - LR_pairs_weight.CT        # DIS - CON\n",
    "} else if (length(LR_pairs) == 1) {\n",
    "    LR_pairs_weight.CT           <- sum(matrix.CT[sender_celltypes, receiver_celltypes, LR_pairs])\n",
    "    LR_pairs_weight.DIS          <- sum(matrix.DIS[sender_celltypes, receiver_celltypes, LR_pairs])\n",
    "    LR_pairs_weight.differential <- LR_pairs_weight.DIS * normalization - LR_pairs_weight.CT        # DIS - CON\n",
    "    names(LR_pairs_weight.differential) <- LR_pairs\n",
    "} else if ((length(sender_celltypes)) == 1 || (length(receiver_celltypes) == 1)) {\n",
    "    LR_pairs_weight.CT           <- apply(matrix.CT[sender_celltypes, receiver_celltypes, LR_pairs], c(2), sum)\n",
    "    LR_pairs_weight.DIS          <- apply(matrix.DIS[sender_celltypes, receiver_celltypes, LR_pairs], c(2), sum)\n",
    "    LR_pairs_weight.differential <- LR_pairs_weight.DIS * normalization - LR_pairs_weight.CT        # DIS - CON\n",
    "}"
   ]
  },
  {
   "cell_type": "code",
   "execution_count": 32,
   "id": "027a5f92-eebd-48e4-9733-4ef67e3ca215",
   "metadata": {},
   "outputs": [
    {
     "data": {
      "text/html": [
       "<style>\n",
       ".dl-inline {width: auto; margin:0; padding: 0}\n",
       ".dl-inline>dt, .dl-inline>dd {float: none; width: auto; display: inline-block}\n",
       ".dl-inline>dt::after {content: \":\\0020\"; padding-right: .5ex}\n",
       ".dl-inline>dt:not(:first-of-type) {padding-left: .5ex}\n",
       "</style><dl class=dl-inline><dt>NRG1_ERBB3</dt><dd>0</dd><dt>NRG1_ERBB2_ERBB3</dt><dd>0</dd><dt>NRG1_ERBB4</dt><dd>0.0538617912245454</dd><dt>NRG1_ERBB2_ERBB4</dt><dd>0</dd><dt>NRG2_ERBB3</dt><dd>0</dd><dt>NRG2_ERBB2_ERBB3</dt><dd>0</dd><dt>NRG2_ERBB4</dt><dd>-0.101455721233037</dd><dt>NRG2_ERBB2_ERBB4</dt><dd>0</dd><dt>NRG3_ERBB4</dt><dd>0.29875536297114</dd><dt>NRG3_ERBB2_ERBB4</dt><dd>0</dd><dt>NRG4_ERBB4</dt><dd>0.0299781457245474</dd><dt>NRG4_ERBB2_ERBB4</dt><dd>0</dd><dt>NRG1_ITGAV_ITGB3</dt><dd>0</dd></dl>\n"
      ],
      "text/latex": [
       "\\begin{description*}\n",
       "\\item[NRG1\\textbackslash{}\\_ERBB3] 0\n",
       "\\item[NRG1\\textbackslash{}\\_ERBB2\\textbackslash{}\\_ERBB3] 0\n",
       "\\item[NRG1\\textbackslash{}\\_ERBB4] 0.0538617912245454\n",
       "\\item[NRG1\\textbackslash{}\\_ERBB2\\textbackslash{}\\_ERBB4] 0\n",
       "\\item[NRG2\\textbackslash{}\\_ERBB3] 0\n",
       "\\item[NRG2\\textbackslash{}\\_ERBB2\\textbackslash{}\\_ERBB3] 0\n",
       "\\item[NRG2\\textbackslash{}\\_ERBB4] -0.101455721233037\n",
       "\\item[NRG2\\textbackslash{}\\_ERBB2\\textbackslash{}\\_ERBB4] 0\n",
       "\\item[NRG3\\textbackslash{}\\_ERBB4] 0.29875536297114\n",
       "\\item[NRG3\\textbackslash{}\\_ERBB2\\textbackslash{}\\_ERBB4] 0\n",
       "\\item[NRG4\\textbackslash{}\\_ERBB4] 0.0299781457245474\n",
       "\\item[NRG4\\textbackslash{}\\_ERBB2\\textbackslash{}\\_ERBB4] 0\n",
       "\\item[NRG1\\textbackslash{}\\_ITGAV\\textbackslash{}\\_ITGB3] 0\n",
       "\\end{description*}\n"
      ],
      "text/markdown": [
       "NRG1_ERBB3\n",
       ":   0NRG1_ERBB2_ERBB3\n",
       ":   0NRG1_ERBB4\n",
       ":   0.0538617912245454NRG1_ERBB2_ERBB4\n",
       ":   0NRG2_ERBB3\n",
       ":   0NRG2_ERBB2_ERBB3\n",
       ":   0NRG2_ERBB4\n",
       ":   -0.101455721233037NRG2_ERBB2_ERBB4\n",
       ":   0NRG3_ERBB4\n",
       ":   0.29875536297114NRG3_ERBB2_ERBB4\n",
       ":   0NRG4_ERBB4\n",
       ":   0.0299781457245474NRG4_ERBB2_ERBB4\n",
       ":   0NRG1_ITGAV_ITGB3\n",
       ":   0\n",
       "\n"
      ],
      "text/plain": [
       "      NRG1_ERBB3 NRG1_ERBB2_ERBB3       NRG1_ERBB4 NRG1_ERBB2_ERBB4 \n",
       "      0.00000000       0.00000000       0.05386179       0.00000000 \n",
       "      NRG2_ERBB3 NRG2_ERBB2_ERBB3       NRG2_ERBB4 NRG2_ERBB2_ERBB4 \n",
       "      0.00000000       0.00000000      -0.10145572       0.00000000 \n",
       "      NRG3_ERBB4 NRG3_ERBB2_ERBB4       NRG4_ERBB4 NRG4_ERBB2_ERBB4 \n",
       "      0.29875536       0.00000000       0.02997815       0.00000000 \n",
       "NRG1_ITGAV_ITGB3 \n",
       "      0.00000000 "
      ]
     },
     "metadata": {},
     "output_type": "display_data"
    }
   ],
   "source": [
    "LR_pairs_weight.differential"
   ]
  },
  {
   "cell_type": "markdown",
   "id": "e6685312-a97d-4e8b-a03f-9404b73affcb",
   "metadata": {},
   "source": [
    "# Visual"
   ]
  },
  {
   "cell_type": "code",
   "execution_count": 33,
   "id": "3c14d898-4a63-49a4-b2ce-e2d9383be3bf",
   "metadata": {},
   "outputs": [],
   "source": [
    "LR_pairs_weight.differential <- LR_pairs_weight.differential[LR_pairs_weight.differential != 0]"
   ]
  },
  {
   "cell_type": "code",
   "execution_count": 34,
   "id": "6a3d88fa-9a49-4e1c-adef-b15ce8097125",
   "metadata": {},
   "outputs": [],
   "source": [
    "if (length(receiver_celltypes) == 1) {\n",
    "    direction <- \"to\"\n",
    "    cell_type <- receiver_celltypes[1]\n",
    "} else {\n",
    "    direction <- \"from\"\n",
    "    cell_type <- sender_celltypes[1]\n",
    "}"
   ]
  },
  {
   "cell_type": "code",
   "execution_count": 35,
   "id": "44fa53ab-9f97-4901-a43c-81737c9ee62f",
   "metadata": {},
   "outputs": [
    {
     "data": {
      "text/html": [
       "<strong>png:</strong> 2"
      ],
      "text/latex": [
       "\\textbf{png:} 2"
      ],
      "text/markdown": [
       "**png:** 2"
      ],
      "text/plain": [
       "png \n",
       "  2 "
      ]
     },
     "metadata": {},
     "output_type": "display_data"
    }
   ],
   "source": [
    "# Barplot\n",
    "pdf(file = glue(\"/gpfs/gibbs/project/girgenti/cl2553/C2C/PTSD_Call/cellchat_figs/LRpairs-{direction}_{cell_type}-{pathways.show}-{disease}.pdf\"), width = 8, height = 8)\n",
    "par(mar = c(5, 15, 4, 2))\n",
    "barplot(LR_pairs_weight.differential, main = glue(\"{disease} - CON\"), xlab = \"Communication Differential Strength\", ylab = \"\", \n",
    "                 col = \"steelblue\", horiz = TRUE, las=1)\n",
    "dev.off()"
   ]
  },
  {
   "cell_type": "code",
   "execution_count": null,
   "id": "d4d5cdd6-7958-4d7e-b3e1-8f7609ed349a",
   "metadata": {},
   "outputs": [],
   "source": []
  }
 ],
 "metadata": {
  "kernelspec": {
   "display_name": "R",
   "language": "R",
   "name": "ir"
  },
  "language_info": {
   "codemirror_mode": "r",
   "file_extension": ".r",
   "mimetype": "text/x-r-source",
   "name": "R",
   "pygments_lexer": "r",
   "version": "4.2.2"
  }
 },
 "nbformat": 4,
 "nbformat_minor": 5
}
