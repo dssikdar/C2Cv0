{
 "cells": [
  {
   "cell_type": "code",
   "execution_count": 8,
   "id": "0c688dc4-700c-4de9-a7cd-207d116c4064",
   "metadata": {
    "scrolled": true
   },
   "outputs": [],
   "source": [
    "library(Seurat)\n",
    "library(SeuratDisk)\n",
    "library(NMF)\n",
    "library(ggalluvial)\n",
    "library(ComplexHeatmap)\n",
    "library(CellChat)\n",
    "library(patchwork)\n",
    "library(graphics)\n",
    "library(Matrix)\n",
    "library(circlize)\n",
    "library(colorspace)\n",
    "library(pracma)\n",
    "library(glue)\n",
    "\n",
    "options(stringsAsFactors = FALSE, repr.plot.width = 12, repr.plot.height = 9, repr.plot.res = 300)\n",
    "\n",
    "source(\"B-cellType_pathways-heatmap.r\")"
   ]
  },
  {
   "cell_type": "markdown",
   "id": "4667dbe3-81b5-4583-ac6a-ca15b5fa04f6",
   "metadata": {},
   "source": [
    "# Parameters"
   ]
  },
  {
   "cell_type": "code",
   "execution_count": 238,
   "id": "ce45defd-e472-4d3a-a3e3-54530bf6688a",
   "metadata": {},
   "outputs": [],
   "source": [
    "# for plotting figC, differential network\n",
    "disease = \"MDD\"\n",
    "project = \"PTSD_Call\"\n",
    "type <- \"truncatedMean\"\n",
    "trim <- 0.05\n",
    "\n",
    "cell_type <- \"MG\"\n",
    "comm_type <- \"sender\"       # \"receiver\", \"sender\""
   ]
  },
  {
   "cell_type": "code",
   "execution_count": 239,
   "id": "a1715e36-16d8-4b7b-a2f5-65ac1effb23e",
   "metadata": {},
   "outputs": [],
   "source": [
    "celltype_name = c('Astro', 'Endo', 'MG', 'Oligo', 'OPC', \n",
    "                  'Exc CUX2', 'Exc FEZF2', 'Exc OPRK1', 'Exc RORB', \n",
    "                  'Inh KCNG1', 'Inh LAMP5', 'Inh PVALB', 'Inh SST', 'Inh VIP')\n",
    "measure = 'weight'"
   ]
  },
  {
   "cell_type": "markdown",
   "id": "261f9325-a206-40b4-9565-ab501f45350d",
   "metadata": {
    "jp-MarkdownHeadingCollapsed": true
   },
   "source": [
    "# Read in Data"
   ]
  },
  {
   "cell_type": "code",
   "execution_count": 169,
   "id": "40d02f0d-20f8-4e02-9953-9176f1092444",
   "metadata": {},
   "outputs": [],
   "source": [
    "cellchat.CT <- readRDS(file = glue(\"/gpfs/gibbs/pi/girgenti/JZhang/CL/C2C/PTSD_Call/Obj-CellChat/RNA_FINAL-CON-type_{type}-trim_{trim}_cellchat.rds\"))\n",
    "cellchat.DIS <- readRDS(file = glue(\"/gpfs/gibbs/pi/girgenti/JZhang/CL/C2C/PTSD_Call/Obj-CellChat/RNA_FINAL-{disease}-type_{type}-trim_{trim}_cellchat.rds\"))"
   ]
  },
  {
   "cell_type": "code",
   "execution_count": 170,
   "id": "8bdfc213-0a16-4d16-8f54-220a45b38070",
   "metadata": {},
   "outputs": [
    {
     "name": "stderr",
     "output_type": "stream",
     "text": [
      "Merge the following slots: 'data.signaling','images','net', 'netP','meta', 'idents', 'var.features' , 'DB', and 'LR'.\n",
      "\n"
     ]
    },
    {
     "name": "stdout",
     "output_type": "stream",
     "text": [
      "An object of class CellChat created from a merged object with multiple datasets \n",
      " 616 signaling genes.\n",
      " 625220 cells. \n",
      "CellChat analysis of single cell RNA-seq data! \n"
     ]
    },
    {
     "data": {
      "text/html": [
       "<style>\n",
       ".list-inline {list-style: none; margin:0; padding: 0}\n",
       ".list-inline>li {display: inline-block}\n",
       ".list-inline>li:not(:last-child)::after {content: \"\\00b7\"; padding: 0 .5ex}\n",
       "</style>\n",
       "<ol class=list-inline><li>'CT'</li><li>'DIS'</li></ol>\n"
      ],
      "text/latex": [
       "\\begin{enumerate*}\n",
       "\\item 'CT'\n",
       "\\item 'DIS'\n",
       "\\end{enumerate*}\n"
      ],
      "text/markdown": [
       "1. 'CT'\n",
       "2. 'DIS'\n",
       "\n",
       "\n"
      ],
      "text/plain": [
       "[1] \"CT\"  \"DIS\""
      ]
     },
     "metadata": {},
     "output_type": "display_data"
    }
   ],
   "source": [
    "object.list <- list(CT = cellchat.CT, DIS = cellchat.DIS)\n",
    "cellchat <- mergeCellChat(object.list, add.names = names(object.list))\n",
    "print(cellchat)\n",
    "names(object.list)"
   ]
  },
  {
   "cell_type": "markdown",
   "id": "2d4433de-f372-49bd-9833-2c142f9379e5",
   "metadata": {},
   "source": [
    "# Code"
   ]
  },
  {
   "cell_type": "markdown",
   "id": "98768eb7-7997-4d0d-8910-6e0f452f26e0",
   "metadata": {},
   "source": [
    "## Normalization"
   ]
  },
  {
   "cell_type": "code",
   "execution_count": 188,
   "id": "9c222e17-086a-4fb6-aa6d-bead7669c4de",
   "metadata": {},
   "outputs": [],
   "source": [
    "# get the matrix\n",
    "obj1 <- object.list[[1]]@net[[measure]]              # CT\n",
    "obj2 <- object.list[[2]]@net[[measure]]              # DIS\n",
    "melt_1 <- reshape2::melt(obj1, value.name=\"count\")\n",
    "melt_2 <- reshape2::melt(obj2, value.name=\"count\")\n",
    "sum1 <- sum(melt_1$count)\n",
    "sum2 <- sum(melt_2$count)\n",
    "\n",
    "# balance\n",
    "normalization = sum1 / sum2\n",
    "# normalization = sum(object.list[[1]]@netP$prob) / sum(object.list[[2]]@netP$prob)\n",
    "net.diff <- obj2 * (normalization) - obj1\n",
    "\n",
    "# reorder the celltypes\n",
    "net.diff <- net.diff[celltype_name, celltype_name]"
   ]
  },
  {
   "cell_type": "code",
   "execution_count": 189,
   "id": "23827232-e9cf-45ea-9421-f7b64b35888d",
   "metadata": {},
   "outputs": [
    {
     "data": {
      "text/html": [
       "<style>\n",
       ".dl-inline {width: auto; margin:0; padding: 0}\n",
       ".dl-inline>dt, .dl-inline>dd {float: none; width: auto; display: inline-block}\n",
       ".dl-inline>dt::after {content: \":\\0020\"; padding-right: .5ex}\n",
       ".dl-inline>dt:not(:first-of-type) {padding-left: .5ex}\n",
       "</style><dl class=dl-inline><dt>Astro</dt><dd>-0.563487772762197</dd><dt>Endo</dt><dd>-0.61268085633229</dd><dt>MG</dt><dd>-0.606882007651208</dd><dt>Oligo</dt><dd>0.337389234724142</dd><dt>OPC</dt><dd>0.387806820041758</dd><dt>Exc CUX2</dt><dd>-0.290330092180091</dd><dt>Exc FEZF2</dt><dd>-0.544768375186359</dd><dt>Exc OPRK1</dt><dd>-0.23446710332334</dd><dt>Exc RORB</dt><dd>-0.456812726469683</dd><dt>Inh KCNG1</dt><dd>0.937969141797772</dd><dt>Inh LAMP5</dt><dd>0.965017748237347</dd><dt>Inh PVALB</dt><dd>1.15585217844788</dd><dt>Inh SST</dt><dd>-0.975124663030299</dd><dt>Inh VIP</dt><dd>0.500518473686576</dd></dl>\n"
      ],
      "text/latex": [
       "\\begin{description*}\n",
       "\\item[Astro] -0.563487772762197\n",
       "\\item[Endo] -0.61268085633229\n",
       "\\item[MG] -0.606882007651208\n",
       "\\item[Oligo] 0.337389234724142\n",
       "\\item[OPC] 0.387806820041758\n",
       "\\item[Exc CUX2] -0.290330092180091\n",
       "\\item[Exc FEZF2] -0.544768375186359\n",
       "\\item[Exc OPRK1] -0.23446710332334\n",
       "\\item[Exc RORB] -0.456812726469683\n",
       "\\item[Inh KCNG1] 0.937969141797772\n",
       "\\item[Inh LAMP5] 0.965017748237347\n",
       "\\item[Inh PVALB] 1.15585217844788\n",
       "\\item[Inh SST] -0.975124663030299\n",
       "\\item[Inh VIP] 0.500518473686576\n",
       "\\end{description*}\n"
      ],
      "text/markdown": [
       "Astro\n",
       ":   -0.563487772762197Endo\n",
       ":   -0.61268085633229MG\n",
       ":   -0.606882007651208Oligo\n",
       ":   0.337389234724142OPC\n",
       ":   0.387806820041758Exc CUX2\n",
       ":   -0.290330092180091Exc FEZF2\n",
       ":   -0.544768375186359Exc OPRK1\n",
       ":   -0.23446710332334Exc RORB\n",
       ":   -0.456812726469683Inh KCNG1\n",
       ":   0.937969141797772Inh LAMP5\n",
       ":   0.965017748237347Inh PVALB\n",
       ":   1.15585217844788Inh SST\n",
       ":   -0.975124663030299Inh VIP\n",
       ":   0.500518473686576\n",
       "\n"
      ],
      "text/plain": [
       "     Astro       Endo         MG      Oligo        OPC   Exc CUX2  Exc FEZF2 \n",
       "-0.5634878 -0.6126809 -0.6068820  0.3373892  0.3878068 -0.2903301 -0.5447684 \n",
       " Exc OPRK1   Exc RORB  Inh KCNG1  Inh LAMP5  Inh PVALB    Inh SST    Inh VIP \n",
       "-0.2344671 -0.4568127  0.9379691  0.9650177  1.1558522 -0.9751247  0.5005185 "
      ]
     },
     "metadata": {},
     "output_type": "display_data"
    }
   ],
   "source": [
    "colSums(net.diff)"
   ]
  },
  {
   "cell_type": "code",
   "execution_count": 190,
   "id": "c8841b99-754d-4ee3-bddf-316a33cffeca",
   "metadata": {},
   "outputs": [
    {
     "data": {
      "text/html": [
       "-0.255460594216727"
      ],
      "text/latex": [
       "-0.255460594216727"
      ],
      "text/markdown": [
       "-0.255460594216727"
      ],
      "text/plain": [
       "[1] -0.2554606"
      ]
     },
     "metadata": {},
     "output_type": "display_data"
    }
   ],
   "source": [
    "sum(net.diff_comm_slice)"
   ]
  },
  {
   "cell_type": "markdown",
   "id": "da18de23-188b-43e7-a9f0-3143736dd26e",
   "metadata": {},
   "source": [
    "## C2C Difference"
   ]
  },
  {
   "cell_type": "code",
   "execution_count": 240,
   "id": "54901421-bd7e-4dc5-92b5-f68e29dbf85c",
   "metadata": {},
   "outputs": [],
   "source": [
    "data_whole.CT  <- cellchat.CT@netP$prob\n",
    "data_whole.DIS <- cellchat.DIS@netP$prob * normalization\n",
    "\n",
    "if (comm_type == \"receiver\") {\n",
    "    comm_slice.CT  <- data_whole.CT[, cell_type, ]\n",
    "    comm_slice.DIS <- data_whole.DIS[, cell_type, ]\n",
    "    row_title = paste0(\"Sender Cell Types to \", cell_type)\n",
    "} else if (comm_type == \"sender\") {\n",
    "    comm_slice.CT  <- data_whole.CT[cell_type, , ]\n",
    "    comm_slice.DIS <- data_whole.DIS[cell_type, , ]\n",
    "    row_title = paste0(cell_type, \" to Receiver Cell Types\")\n",
    "}\n",
    "\n",
    "if (length(setdiff(colnames(comm_slice.CT), colnames(comm_slice.DIS))) > 0) {\n",
    "    original_names <- colnames(comm_slice.DIS)\n",
    "    for (i in 1:length(setdiff(colnames(comm_slice.CT), colnames(comm_slice.DIS)))) {\n",
    "        comm_slice.DIS <- cbind(comm_slice.DIS, 0)\n",
    "    }\n",
    "    colnames(comm_slice.DIS) <- c(original_names, setdiff(colnames(comm_slice.CT), colnames(comm_slice.DIS)))\n",
    "}\n",
    "\n",
    "if (length(setdiff(colnames(comm_slice.DIS), colnames(comm_slice.CT))) > 0) {\n",
    "    original_names <- colnames(comm_slice.CT)\n",
    "    for (i in 1:length(setdiff(colnames(comm_slice.DIS), colnames(comm_slice.CT)))) {\n",
    "        comm_slice.CT <- cbind(comm_slice.CT, 0)\n",
    "    }\n",
    "    colnames(comm_slice.CT) <- c(original_names, setdiff(colnames(comm_slice.DIS), colnames(comm_slice.CT)))\n",
    "}\n",
    "\n",
    "comm_slice.DIS <- comm_slice.DIS[, colnames(comm_slice.CT)]\n",
    "\n",
    "net.diff_comm_slice <- comm_slice.DIS - comm_slice.CT\n",
    "net.diff_comm_slice <- net.diff_comm_slice[celltype_name, abs(colSums(net.diff_comm_slice)) > 0.005]\n",
    "net.diff_comm_slice <- net.diff_comm_slice[celltype_name, names(sort(colSums(net.diff_comm_slice), decreasing = TRUE))]"
   ]
  },
  {
   "cell_type": "markdown",
   "id": "7f873181-ed9e-4124-baf8-9e5494eeb41f",
   "metadata": {},
   "source": [
    "# Visual"
   ]
  },
  {
   "cell_type": "code",
   "execution_count": 241,
   "id": "2e99cdcf-8848-48ad-b3d6-f561dca616d7",
   "metadata": {},
   "outputs": [
    {
     "data": {
      "text/html": [
       "<strong>png:</strong> 2"
      ],
      "text/latex": [
       "\\textbf{png:} 2"
      ],
      "text/markdown": [
       "**png:** 2"
      ],
      "text/plain": [
       "png \n",
       "  2 "
      ]
     },
     "metadata": {},
     "output_type": "display_data"
    }
   ],
   "source": [
    "# Draw\n",
    "# pdf(file = glue(\"/gpfs/gibbs/project/girgenti/cl2553/C2C/PTSD_Call/figures/{disease}vsCON/{type}-{trim}/supp_fig-diff_IO-{comm_type}-{cell_type}.pdf\"), \n",
    "#     width = 14, height = 8)\n",
    "pdf(file = \"image.pdf\", width = 8, height = 8)\n",
    "ht1 <- Heatmap(net.diff_comm_slice, \n",
    "              name = \"Diff Strength\", #title of legend\n",
    "              column_title = glue(\"Differential {disease} vs CON Pathways\"), row_title = row_title, \n",
    "              column_title_gp = gpar(fontsize = 16, fontface=\"bold\"),                                      # Column Title Font\n",
    "              row_title_gp = gpar(fontsize = 16, fontface=\"bold\"),                                                            # Row Title Font\n",
    "              row_names_gp = gpar(fontsize = 12), column_names_gp = gpar(fontsize = 12),\n",
    "              show_row_dend = FALSE, show_column_dend = FALSE,                                               # No dendrograms\n",
    "              rect_gp = gpar(col = \"white\", lwd = 2),                                                        # ea cell has a white border\n",
    "              col = colorRamp2(c(-max(abs(net.diff_comm_slice)), 0, max(abs(net.diff_comm_slice))), \n",
    "                                c(\"blue\", \"white\", \"red\")),     # Set Color\n",
    "              row_names_side = 'left', column_names_side = 'top', \n",
    "              heatmap_legend_param = list(legend_direction = \"horizontal\", legend_width = unit(5, \"cm\")),\n",
    "              width = ncol(net.diff_comm_slice)*unit(5, \"mm\"), height = nrow(net.diff_comm_slice)*unit(8, \"mm\"),   # Row and column names on the right side\n",
    "              cluster_rows = FALSE, cluster_columns = TRUE)\n",
    "draw(ht1, heatmap_legend_side = \"bottom\")\n",
    "dev.off()"
   ]
  },
  {
   "cell_type": "code",
   "execution_count": null,
   "id": "28a266a7-f54e-45d0-a93c-f39c1404b184",
   "metadata": {},
   "outputs": [],
   "source": []
  }
 ],
 "metadata": {
  "kernelspec": {
   "display_name": "R",
   "language": "R",
   "name": "ir"
  },
  "language_info": {
   "codemirror_mode": "r",
   "file_extension": ".r",
   "mimetype": "text/x-r-source",
   "name": "R",
   "pygments_lexer": "r",
   "version": "4.3.1"
  }
 },
 "nbformat": 4,
 "nbformat_minor": 5
}
