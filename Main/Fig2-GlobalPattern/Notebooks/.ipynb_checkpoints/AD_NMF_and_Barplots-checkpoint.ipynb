{
 "cells": [
  {
   "cell_type": "code",
   "execution_count": 1,
   "id": "c7ff7a15-3805-4536-ae1e-d97369831dcd",
   "metadata": {},
   "outputs": [
    {
     "name": "stderr",
     "output_type": "stream",
     "text": [
      "Downloading GitHub repo sqjin/cellchat@v1.5.0\n",
      "\n"
     ]
    },
    {
     "name": "stdout",
     "output_type": "stream",
     "text": [
      "pkgbuild     (1.4.3    -> 1.4.4   ) [CRAN]\n",
      "processx     (3.8.3    -> 3.8.4   ) [CRAN]\n",
      "digest       (0.6.34   -> 0.6.35  ) [CRAN]\n",
      "callr        (3.7.5    -> 3.7.6   ) [CRAN]\n",
      "munsell      (0.5.0    -> 0.5.1   ) [CRAN]\n",
      "lme4         (1.1-35.1 -> 1.1-35.2) [CRAN]\n",
      "ggsci        (3.0.1    -> 3.0.3   ) [CRAN]\n",
      "systemfonts  (1.0.5    -> 1.0.6   ) [CRAN]\n",
      "future       (1.33.1   -> 1.33.2  ) [CRAN]\n",
      "expm         (NA       -> 0.999-9 ) [CRAN]\n",
      "future.apply (1.11.1   -> 1.11.2  ) [CRAN]\n"
     ]
    },
    {
     "name": "stderr",
     "output_type": "stream",
     "text": [
      "Skipping 2 packages not available: Biobase, BiocGenerics\n",
      "\n",
      "Installing 11 packages: pkgbuild, processx, digest, callr, munsell, lme4, ggsci, systemfonts, future, expm, future.apply\n",
      "\n",
      "Warning message in i.p(...):\n",
      "“installation of package ‘digest’ had non-zero exit status”\n",
      "Updating HTML index of packages in '.Library'\n",
      "\n",
      "Making 'packages.html' ...\n",
      " done\n",
      "\n"
     ]
    },
    {
     "name": "stdout",
     "output_type": "stream",
     "text": [
      "\u001b[36m──\u001b[39m \u001b[36mR CMD build\u001b[39m \u001b[36m─────────────────────────────────────────────────────────────────\u001b[39m\n",
      "\u001b[32m✔\u001b[39m  \u001b[90mchecking for file ‘/lv_scratch/tmp/RtmpMvT310/remotes329d486a74afa5/sqjin-CellChat-9e1e605/DESCRIPTION’\u001b[39m\u001b[36m\u001b[36m (590ms)\u001b[36m\u001b[39m\n",
      "\u001b[90m─\u001b[39m\u001b[90m  \u001b[39m\u001b[90mpreparing ‘CellChat’:\u001b[39m\u001b[36m\u001b[39m\n",
      "\u001b[32m✔\u001b[39m  \u001b[90mchecking DESCRIPTION meta-information\u001b[39m\u001b[36m\u001b[39m\n",
      "\u001b[90m─\u001b[39m\u001b[90m  \u001b[39m\u001b[90mcleaning src\u001b[39m\u001b[36m\u001b[39m\n",
      "\u001b[90m─\u001b[39m\u001b[90m  \u001b[39m\u001b[90mchecking for LF line-endings in source and make files and shell scripts\u001b[39m\u001b[36m\u001b[39m\n",
      "\u001b[90m─\u001b[39m\u001b[90m  \u001b[39m\u001b[90mchecking for empty or unneeded directories\u001b[39m\u001b[36m\u001b[39m\n",
      "\u001b[90m─\u001b[39m\u001b[90m  \u001b[39m\u001b[90mbuilding ‘CellChat_1.5.0.tar.gz’\u001b[39m\u001b[36m\u001b[39m\n",
      "   \n",
      "\r"
     ]
    }
   ],
   "source": [
    "remotes::install_github(\"sqjin/cellchat@v1.5.0\")"
   ]
  },
  {
   "cell_type": "code",
   "execution_count": 3,
   "id": "841e2d9e-5c5c-4383-962e-fc752348c4f2",
   "metadata": {
    "tags": []
   },
   "outputs": [
    {
     "name": "stderr",
     "output_type": "stream",
     "text": [
      "Loading required package: SeuratObject\n",
      "\n",
      "Loading required package: sp\n",
      "\n",
      "\n",
      "Attaching package: ‘SeuratObject’\n",
      "\n",
      "\n",
      "The following object is masked from ‘package:base’:\n",
      "\n",
      "    intersect\n",
      "\n",
      "\n",
      "Registered S3 method overwritten by 'SeuratDisk':\n",
      "  method            from  \n",
      "  as.sparse.H5Group Seurat\n",
      "\n",
      "Loading required package: registry\n",
      "\n",
      "Loading required package: rngtools\n",
      "\n",
      "Loading required package: cluster\n",
      "\n",
      "NMF - BioConductor layer [OK] | Shared memory capabilities [NO: bigmemory] | Cores 2/2\n",
      "\n",
      "  To enable shared memory capabilities, try: install.extras('\n",
      "NMF\n",
      "')\n",
      "\n",
      "Loading required package: ggplot2\n",
      "\n",
      "Loading required package: grid\n",
      "\n",
      "========================================\n",
      "ComplexHeatmap version 2.15.4\n",
      "Bioconductor page: http://bioconductor.org/packages/ComplexHeatmap/\n",
      "Github page: https://github.com/jokergoo/ComplexHeatmap\n",
      "Documentation: http://jokergoo.github.io/ComplexHeatmap-reference\n",
      "\n",
      "If you use it in published research, please cite either one:\n",
      "- Gu, Z. Complex Heatmap Visualization. iMeta 2022.\n",
      "- Gu, Z. Complex heatmaps reveal patterns and correlations in multidimensional \n",
      "    genomic data. Bioinformatics 2016.\n",
      "\n",
      "\n",
      "The new InteractiveComplexHeatmap package can directly export static \n",
      "complex heatmaps into an interactive Shiny app with zero effort. Have a try!\n",
      "\n",
      "This message can be suppressed by:\n",
      "  suppressPackageStartupMessages(library(ComplexHeatmap))\n",
      "========================================\n",
      "\n",
      "\n",
      "Loading required package: dplyr\n",
      "\n",
      "\n",
      "Attaching package: ‘dplyr’\n",
      "\n",
      "\n",
      "The following object is masked from ‘package:Biobase’:\n",
      "\n",
      "    combine\n",
      "\n",
      "\n",
      "The following objects are masked from ‘package:BiocGenerics’:\n",
      "\n",
      "    combine, intersect, setdiff, union\n",
      "\n",
      "\n",
      "The following objects are masked from ‘package:stats’:\n",
      "\n",
      "    filter, lag\n",
      "\n",
      "\n",
      "The following objects are masked from ‘package:base’:\n",
      "\n",
      "    intersect, setdiff, setequal, union\n",
      "\n",
      "\n",
      "Loading required package: igraph\n",
      "\n",
      "\n",
      "Attaching package: ‘igraph’\n",
      "\n",
      "\n",
      "The following objects are masked from ‘package:dplyr’:\n",
      "\n",
      "    as_data_frame, groups, union\n",
      "\n",
      "\n",
      "The following objects are masked from ‘package:NMF’:\n",
      "\n",
      "    algorithm, compare\n",
      "\n",
      "\n",
      "The following objects are masked from ‘package:BiocGenerics’:\n",
      "\n",
      "    normalize, path, union\n",
      "\n",
      "\n",
      "The following object is masked from ‘package:Seurat’:\n",
      "\n",
      "    components\n",
      "\n",
      "\n",
      "The following objects are masked from ‘package:stats’:\n",
      "\n",
      "    decompose, spectrum\n",
      "\n",
      "\n",
      "The following object is masked from ‘package:base’:\n",
      "\n",
      "    union\n",
      "\n",
      "\n",
      "========================================\n",
      "circlize version 0.4.16\n",
      "CRAN page: https://cran.r-project.org/package=circlize\n",
      "Github page: https://github.com/jokergoo/circlize\n",
      "Documentation: https://jokergoo.github.io/circlize_book/book/\n",
      "\n",
      "If you use it in published research, please cite:\n",
      "Gu, Z. circlize implements and enhances circular visualization\n",
      "  in R. Bioinformatics 2014.\n",
      "\n",
      "This message can be suppressed by:\n",
      "  suppressPackageStartupMessages(library(circlize))\n",
      "========================================\n",
      "\n",
      "\n",
      "\n",
      "Attaching package: ‘circlize’\n",
      "\n",
      "\n",
      "The following object is masked from ‘package:igraph’:\n",
      "\n",
      "    degree\n",
      "\n",
      "\n",
      "\n",
      "Attaching package: ‘pracma’\n",
      "\n",
      "\n",
      "The following objects are masked from ‘package:Matrix’:\n",
      "\n",
      "    expm, lu, tril, triu\n",
      "\n",
      "\n"
     ]
    }
   ],
   "source": [
    "library(Seurat)\n",
    "library(SeuratDisk)\n",
    "library(NMF)\n",
    "library(ggalluvial)\n",
    "library(ComplexHeatmap)\n",
    "library(CellChat)\n",
    "library(patchwork)\n",
    "library(graphics)\n",
    "library(Matrix)\n",
    "options(stringsAsFactors = FALSE)\n",
    "\n",
    "library(circlize)\n",
    "library(colorspace)\n",
    "options(repr.plot.width = 12, repr.plot.height = 9, repr.plot.res = 300)\n",
    "\n",
    "library(pracma)\n",
    "library(glue)"
   ]
  },
  {
   "cell_type": "code",
   "execution_count": 4,
   "id": "c44476ec-7f09-49d4-82a3-0aff003fdc7f",
   "metadata": {},
   "outputs": [
    {
     "data": {
      "text/plain": [
       "R version 4.3.2 (2023-10-31)\n",
       "Platform: x86_64-conda-linux-gnu (64-bit)\n",
       "Running under: Ubuntu 20.04.6 LTS\n",
       "\n",
       "Matrix products: default\n",
       "BLAS/LAPACK: /home/dsikdar/.conda/envs/c2c_paper/lib/libopenblasp-r0.3.24.so;  LAPACK version 3.11.0\n",
       "\n",
       "locale:\n",
       " [1] LC_CTYPE=en_US.UTF-8       LC_NUMERIC=C              \n",
       " [3] LC_TIME=en_US.UTF-8        LC_COLLATE=en_US.UTF-8    \n",
       " [5] LC_MONETARY=en_US.UTF-8    LC_MESSAGES=en_US.UTF-8   \n",
       " [7] LC_PAPER=en_US.UTF-8       LC_NAME=C                 \n",
       " [9] LC_ADDRESS=C               LC_TELEPHONE=C            \n",
       "[11] LC_MEASUREMENT=en_US.UTF-8 LC_IDENTIFICATION=C       \n",
       "\n",
       "time zone: America/Los_Angeles\n",
       "tzcode source: system (glibc)\n",
       "\n",
       "attached base packages:\n",
       "[1] grid      stats     graphics  grDevices utils     datasets  methods  \n",
       "[8] base     \n",
       "\n",
       "other attached packages:\n",
       " [1] glue_1.7.0            pracma_2.4.4          colorspace_2.1-0     \n",
       " [4] circlize_0.4.16       Matrix_1.6-5          patchwork_1.2.0      \n",
       " [7] CellChat_1.5.0        igraph_2.0.3          dplyr_1.1.4          \n",
       "[10] ComplexHeatmap_2.15.4 ggalluvial_0.12.5     ggplot2_3.5.0        \n",
       "[13] NMF_0.27              Biobase_2.62.0        BiocGenerics_0.46.0  \n",
       "[16] cluster_2.1.4         rngtools_1.5.2        registry_0.5-1       \n",
       "[19] SeuratDisk_0.0.0.9021 Seurat_5.0.3          SeuratObject_5.0.1   \n",
       "[22] sp_2.1-3             \n",
       "\n",
       "loaded via a namespace (and not attached):\n",
       "  [1] RcppAnnoy_0.0.22       splines_4.3.2          later_1.3.2           \n",
       "  [4] pbdZMQ_0.3-10          tibble_3.2.1           polyclip_1.10-6       \n",
       "  [7] fastDummies_1.7.3      lifecycle_1.0.4        rstatix_0.7.2         \n",
       " [10] doParallel_1.0.17      globals_0.16.3         processx_3.8.4        \n",
       " [13] lattice_0.22-5         hdf5r_1.3.10           MASS_7.3-60           \n",
       " [16] backports_1.4.1        magrittr_2.0.3         plotly_4.10.4         \n",
       " [19] remotes_2.4.2.1        httpuv_1.6.14          sctransform_0.4.1     \n",
       " [22] spam_2.10-0            pkgbuild_1.4.4         spatstat.sparse_3.0-3 \n",
       " [25] reticulate_1.35.0      cowplot_1.1.3          pbapply_1.7-2         \n",
       " [28] RColorBrewer_1.1-3     abind_1.4-5            Rtsne_0.17            \n",
       " [31] purrr_1.0.2            IRanges_2.34.1         S4Vectors_0.38.1      \n",
       " [34] ggrepel_0.9.5          irlba_2.3.5.1          listenv_0.9.1         \n",
       " [37] spatstat.utils_3.0-4   goftest_1.2-3          RSpectra_0.16-1       \n",
       " [40] spatstat.random_3.2-3  fitdistrplus_1.1-11    parallelly_1.37.1     \n",
       " [43] svglite_2.1.3          leiden_0.4.3.1         codetools_0.2-19      \n",
       " [46] tidyselect_1.2.1       shape_1.4.6.1          matrixStats_1.2.0     \n",
       " [49] stats4_4.3.2           base64enc_0.1-3        spatstat.explore_3.2-7\n",
       " [52] jsonlite_1.8.8         GetoptLong_1.0.5       ellipsis_0.3.2        \n",
       " [55] progressr_0.14.0       ggridges_0.5.6         survival_3.5-7        \n",
       " [58] iterators_1.0.14       systemfonts_1.0.6      foreach_1.5.2         \n",
       " [61] tools_4.3.2            sna_2.7-2              ica_1.0-3             \n",
       " [64] Rcpp_1.0.12            gridExtra_2.3          IRdisplay_1.1         \n",
       " [67] withr_3.0.0            fastmap_1.1.1          fansi_1.0.6           \n",
       " [70] callr_3.7.6            digest_0.6.34          R6_2.5.1              \n",
       " [73] mime_0.12              scattermore_1.2        tensor_1.5            \n",
       " [76] spatstat.data_3.0-4    utf8_1.2.4             tidyr_1.3.1           \n",
       " [79] generics_0.1.3         data.table_1.15.2      FNN_1.1.4             \n",
       " [82] httr_1.4.7             htmlwidgets_1.6.4      uwot_0.1.16           \n",
       " [85] pkgconfig_2.0.3        gtable_0.3.4           lmtest_0.9-40         \n",
       " [88] htmltools_0.5.7        carData_3.0-5          dotCall64_1.1-1       \n",
       " [91] clue_0.3-65            scales_1.3.0           png_0.1-8             \n",
       " [94] reshape2_1.4.4         rjson_0.2.21           uuid_1.2-0            \n",
       " [97] coda_0.19-4.1          statnet.common_4.9.0   nlme_3.1-163          \n",
       "[100] curl_5.1.0             repr_1.1.6             zoo_1.8-12            \n",
       "[103] GlobalOptions_0.1.2    stringr_1.5.1          KernSmooth_2.23-22    \n",
       "[106] parallel_4.3.2         miniUI_0.1.1.1         desc_1.4.3            \n",
       "[109] pillar_1.9.0           vctrs_0.6.5            RANN_2.6.1            \n",
       "[112] promises_1.2.1         ggpubr_0.6.0           car_3.1-2             \n",
       "[115] xtable_1.8-4           evaluate_0.23          cli_3.6.2             \n",
       "[118] compiler_4.3.2         rlang_1.1.3            crayon_1.5.2          \n",
       "[121] future.apply_1.11.2    ggsignif_0.6.4         ps_1.7.6              \n",
       "[124] plyr_1.8.9             stringi_1.8.3          network_1.18.2        \n",
       "[127] viridisLite_0.4.2      deldir_2.0-4           gridBase_0.4-7        \n",
       "[130] munsell_0.5.1          lazyeval_0.2.2         spatstat.geom_3.2-9   \n",
       "[133] IRkernel_1.3.2         RcppHNSW_0.6.0         bit64_4.0.5           \n",
       "[136] future_1.33.2          shiny_1.8.0            ROCR_1.0-11           \n",
       "[139] broom_1.0.5            bit_4.0.5             "
      ]
     },
     "metadata": {},
     "output_type": "display_data"
    }
   ],
   "source": [
    "sessionInfo()"
   ]
  },
  {
   "cell_type": "code",
   "execution_count": 5,
   "id": "acbd9dc9-4ed9-4b4a-9959-47b8fe8dda01",
   "metadata": {
    "tags": []
   },
   "outputs": [],
   "source": [
    "cellchat_con <- readRDS(file = '/extra/zhanglab0/CommonData/AMP-AD/Obj-CellChat/subclass_cellchat_control.rds')\n",
    "cellchat_ad <- readRDS(file = '/extra/zhanglab0/CommonData/AMP-AD/Obj-CellChat/subclass_cellchat_alz.rds')"
   ]
  },
  {
   "cell_type": "code",
   "execution_count": 6,
   "id": "8e738ad1-04ed-4095-bfb7-c48a8800cdd8",
   "metadata": {},
   "outputs": [
    {
     "name": "stderr",
     "output_type": "stream",
     "text": [
      "Warning message:\n",
      "“replacing previous import ‘data.table::dcast’ by ‘reshape2::dcast’ when loading ‘NeuronChat’”\n",
      "Warning message:\n",
      "“replacing previous import ‘data.table::melt’ by ‘reshape2::melt’ when loading ‘NeuronChat’”\n",
      "\n",
      "Attaching package: ‘NeuronChat’\n",
      "\n",
      "\n",
      "The following object is masked _by_ ‘.GlobalEnv’:\n",
      "\n",
      "    identifyCommunicationPatterns_Neuron\n",
      "\n",
      "\n"
     ]
    }
   ],
   "source": [
    "source(\"../Scripts/NMF.r\")\n",
    "source(\"../Scripts/NMF_and_River_OUT.r\")\n",
    "source(\"../Scripts/NMF_and_River_IN.r\")\n",
    "source(\"../Scripts/NetAnalysis_River_Neuron.r\")\n",
    "source(\"../Scripts/MergedRiver.r\")"
   ]
  },
  {
   "cell_type": "code",
   "execution_count": 7,
   "id": "e4d20f10-bd7f-4281-af96-79fbeba1391e",
   "metadata": {},
   "outputs": [],
   "source": [
    "cellchat_con <- updateCellChat(cellchat_con)\n",
    "cellchat_ad <- updateCellChat(cellchat_ad)"
   ]
  },
  {
   "cell_type": "code",
   "execution_count": 8,
   "id": "657feb6e-b778-4b98-bf6f-d2c03da5bf61",
   "metadata": {},
   "outputs": [],
   "source": [
    "inhibitory_celltypes <- c('Chandelier', 'Lamp5', 'Lamp5 Lhx6', 'Pax6', 'Pvalb', 'Sncg', 'Sst', 'Vip', 'Sst Chodl')\n",
    "excitatory_celltypes <- c('L2/3 IT', 'L4 IT', 'L5', 'L5/6 NP', 'L6 CT', 'L6 IT', 'L6 IT Car3', 'L6b')\n",
    "support_celltypes <- c('Astro', 'Endo', 'Oligo', 'OPC', 'VLMC', 'Micro/PVM')\n",
    "celltype_name = c('Chandelier', 'Lamp5', 'Lamp5 Lhx6', 'Pax6', 'Pvalb', 'Sncg', 'Sst', 'Vip', 'Sst Chodl', \n",
    "                  'L2/3 IT', 'L4 IT', 'L5', 'L5/6 NP', 'L6 CT', 'L6 IT', 'L6 IT Car3', 'L6b', \n",
    "                  'Astro', 'Endo', 'Oligo', 'OPC', 'VLMC', 'Micro/PVM')\n",
    "\n",
    "plot_dir <- \"zhanglab_research/Comprehensive_C2C/FINAL/C2Cv0/Main/Fig2-GlobalPattern/Notebooks/\"\n",
    "\n",
    "cutoff1 = 0.5           # cutoff for communication strength in visualizations (default is 0.5)\n",
    "cutoff2 = 0.5           # cutoff for communication strength in visualizations (default is 0.5)\n",
    "\n",
    "versions = seq(from = 1, to = 20, by = 1) \n",
    "# NMF methods to be used, can be \"brunet\" or \"lee\"...\n",
    "methods = list(\"brunet\")\n",
    "# NMF seeding methods to be used, can be \"random\" or \"nndsvd\"...\n",
    "seeds = list(\"random\")\n",
    "# NMF number of runs to be used, can be 200, 500, 1000, 2000, 5000, 10000...\n",
    "nruns = list(200)\n",
    "nrums = list(200)\n",
    "rank = 3"
   ]
  },
  {
   "cell_type": "markdown",
   "id": "5a2d15d0-0493-42d6-9e61-e45a36e1ebcc",
   "metadata": {},
   "source": [
    "# NMF"
   ]
  },
  {
   "cell_type": "markdown",
   "id": "9e29c230-b85f-454b-8224-dbec56c09475",
   "metadata": {},
   "source": [
    "### Outgoing NMF"
   ]
  },
  {
   "cell_type": "code",
   "execution_count": 9,
   "id": "c1626364-d669-4045-8045-da89f9822a9b",
   "metadata": {},
   "outputs": [
    {
     "name": "stdout",
     "output_type": "stream",
     "text": [
      "[1] \"beginning NMF\"\n",
      "[1] \"Finished NMF\"\n",
      "[1] \"beginning NMF\"\n",
      "[1] \"Finished NMF\"\n"
     ]
    }
   ],
   "source": [
    "obj_out_AD2 = NMF_and_river_OUT(cellchat_ad, study=\"tutorial data\", disease=\"AD\", \n",
    "                            inhibitory_celltypes, excitatory_celltypes, support_celltypes, \n",
    "                            quant_threshold = 0, k = 3, chosen_version=1, parallel='p16')\n",
    "obj_out_CON2 = NMF_and_river_OUT(cellchat_con, study=\"tutorial data\", disease=\"Control\", \n",
    "                            inhibitory_celltypes, excitatory_celltypes, support_celltypes, \n",
    "                            quant_threshold = 0, k = 3, chosen_version=1, parallel='p16')"
   ]
  },
  {
   "cell_type": "code",
   "execution_count": 10,
   "id": "6820fdfe-9556-424d-b7db-3e1790b8c19f",
   "metadata": {
    "scrolled": true
   },
   "outputs": [
    {
     "name": "stdout",
     "output_type": "stream",
     "text": [
      "[1] 0\n",
      "[1] 1\n",
      "[1] 2\n",
      "[1] 3\n",
      " [1] \"TGFB2_TGFBR1_TGFBR2\" \"BMP5_BMPR1A_ACVR2A\"  \"BMP5_BMPR1A_ACVR2B\" \n",
      " [4] \"BMP5_BMPR1A_BMPR2\"   \"BMP5_BMPR1B_BMPR2\"   \"BMP6_BMPR1A_ACVR2A\" \n",
      " [7] \"BMP6_BMPR1A_ACVR2B\"  \"BMP6_BMPR1A_BMPR2\"   \"BMP6_BMPR1B_BMPR2\"  \n",
      "[10] \"BMP7_BMPR1A_ACVR2A\"  \"BMP7_BMPR1A_ACVR2B\"  \"BMP7_BMPR1A_BMPR2\"  \n",
      "[13] \"BMP7_BMPR1B_BMPR2\"   \"WNT10B_FZD3_LRP6\"    \"WNT2B_FZD3_LRP6\"    \n",
      "[16] \"WNT3_FZD3_LRP6\"      \"NRG1_ERBB3\"          \"NRG1_ERBB4\"         \n",
      "[19] \"NRG2_ERBB3\"          \"NRG2_ERBB4\"          \"NRG3_ERBB4\"         \n",
      "[22] \"NRG4_ERBB4\"          \"FGF1_FGFR1\"          \"FGF1_FGFR2\"         \n",
      "[25] \"FGF1_FGFR3\"          \"FGF2_FGFR1\"          \"FGF2_FGFR2\"         \n",
      "[28] \"FGF2_FGFR3\"          \"FGF9_FGFR1\"          \"FGF9_FGFR2\"         \n",
      "[31] \"FGF9_FGFR3\"          \"PDGFC_PDGFRA\"        \"PDGFD_PDGFRB\"       \n",
      "[34] \"IGF1_IGF1R\"          \"IGF1_ITGA6_ITGB4\"    \"CX3CL1_CX3CR1\"      \n",
      "[37] \"IL34_CSF1R\"          \"SPP1_ITGAV_ITGB1\"    \"SPP1_ITGA9_ITGB1\"   \n",
      "[40] \"SPP1_ITGA8_ITGB1\"    \"ANGPTL1_ITGA1_ITGB1\" \"ANGPTL4_CDH11\"      \n",
      "[43] \"ANGPTL4_SDC3\"        \"ANGPTL4_SDC4\"        \"ANGPT1_TEK\"         \n",
      "[46] \"ANGPT2_TEK\"          \"PTN_PTPRZ1\"          \"PTN_SDC3\"           \n",
      "[49] \"PTN_SDC4\"            \"PTN_NCL\"             \"PTN_ALK\"            \n",
      "[52] \"CCK_CCKBR\"           \"EDN1_EDNRA\"          \"SST_SSTR2\"          \n",
      "[55] \"TAC1_TACR1\"          \"PRSS3_PARD3\"         \"VIP_VIPR1\"          \n",
      "[58] \"VIP_VIPR2\"           \"KITL_KIT\"            \"BDNF_NTRK2\"         \n",
      "[61] \"SEMA3A_NRP1_PLXNA1\"  \"SEMA3A_NRP1_PLXNA2\"  \"SEMA3A_NRP1_PLXNA4\" \n",
      "[64] \"SEMA3B_NRP1_PLXNA1\"  \"SEMA3B_NRP1_PLXNA2\"  \"SEMA3B_NRP1_PLXNA4\" \n",
      "[67] \"SEMA3C_NRP1_PLXNA1\"  \"SEMA3C_NRP1_PLXNA2\"  \"SEMA3C_NRP1_PLXNA4\" \n",
      "[70] \"SEMA3D_NRP1_PLXNA1\"  \"SEMA3D_NRP1_PLXNA2\"  \"SEMA3D_NRP1_PLXNA4\" \n",
      "[73] \"SEMA3B_NRP2_PLXNA1\"  \"SEMA3B_NRP2_PLXNA2\"  \"SEMA3B_NRP2_PLXNA4\" \n",
      "[76] \"SEMA3C_NRP2_PLXNA1\"  \"SEMA3C_NRP2_PLXNA2\"  \"SEMA3C_NRP2_PLXNA4\" \n",
      "[79] \"SEMA3D_NRP2_PLXNA1\"  \"SEMA3D_NRP2_PLXNA2\"  \"SEMA3D_NRP2_PLXNA4\" \n",
      "[82] \"SEMA3C_PLXND1\"       \"SEMA3E_PLXND1\"       \"CRH_CRHR1\"          \n",
      "[85] \"GAS6_AXL\"            \"GAS6_MERTK\"          \"GAS6_TYRO3\"         \n",
      "[88] \"PSAP_GPR37L1\"        \"PSAP_GPR37\"         \n",
      "[1] 4\n",
      "[1] \"TGFB2\"\n",
      "[1] \"BMP5\"\n",
      "[1] \"BMP6\"\n",
      "[1] \"BMP7\"\n",
      "[1] \"WNT10B\"\n",
      "[1] \"WNT2B\"\n",
      "[1] \"WNT3\"\n",
      "[1] \"NRG1\"\n",
      "[1] \"NRG2\"\n",
      "[1] \"NRG3\"\n",
      "[1] \"NRG4\"\n",
      "[1] \"FGF1\"\n",
      "[1] \"FGF2\"\n",
      "[1] \"FGF9\"\n",
      "[1] \"PDGFC\"\n",
      "[1] \"PDGFD\"\n",
      "[1] \"IGF1\"\n",
      "[1] \"CX3CL1\"\n",
      "[1] \"IL34\"\n",
      "[1] \"SPP1\"\n",
      "[1] \"ANGPTL1\"\n",
      "[1] \"ANGPTL4\"\n",
      "[1] \"ANGPT1\"\n",
      "[1] \"ANGPT2\"\n",
      "[1] \"PTN\"\n",
      "[1] \"CCK\"\n",
      "[1] \"EDN1\"\n",
      "[1] \"SST\"\n",
      "[1] \"TAC1\"\n",
      "[1] \"PRSS3\"\n",
      "[1] \"VIP\"\n",
      "[1] \"KITL\"\n",
      "[1] \"BDNF\"\n",
      "[1] \"SEMA3A\"\n",
      "[1] \"SEMA3B\"\n",
      "[1] \"SEMA3C\"\n",
      "[1] \"SEMA3D\"\n",
      "[1] \"SEMA3E\"\n",
      "[1] \"CRH\"\n",
      "[1] \"GAS6\"\n",
      "[1] \"PSAP\"\n",
      "[1] 728\n"
     ]
    },
    {
     "data": {
      "text/html": [
       "<strong>png:</strong> 2"
      ],
      "text/latex": [
       "\\textbf{png:} 2"
      ],
      "text/markdown": [
       "**png:** 2"
      ],
      "text/plain": [
       "png \n",
       "  2 "
      ]
     },
     "metadata": {},
     "output_type": "display_data"
    },
    {
     "name": "stdout",
     "output_type": "stream",
     "text": [
      "[1] 0\n",
      "[1] 1\n",
      "[1] 2\n",
      "[1] 3\n",
      " [1] \"TGFB2_TGFBR1_TGFBR2\" \"BMP7_ACVR1_BMPR2\"    \"BMP7_BMPR1A_ACVR2A\" \n",
      " [4] \"BMP7_BMPR1A_BMPR2\"   \"BMP7_BMPR1B_BMPR2\"   \"WNT10B_FZD3_LRP6\"   \n",
      " [7] \"WNT2B_FZD3_LRP6\"     \"WNT3_FZD3_LRP6\"      \"NRG1_ERBB3\"         \n",
      "[10] \"NRG1_ERBB4\"          \"NRG2_ERBB3\"          \"NRG2_ERBB4\"         \n",
      "[13] \"NRG3_ERBB4\"          \"FGF2_FGFR1\"          \"FGF2_FGFR2\"         \n",
      "[16] \"FGF2_FGFR3\"          \"FGF9_FGFR1\"          \"FGF9_FGFR2\"         \n",
      "[19] \"FGF9_FGFR3\"          \"PDGFC_PDGFRA\"        \"PDGFD_PDGFRB\"       \n",
      "[22] \"IGF1_IGF1R\"          \"CX3CL1_CX3CR1\"       \"IL34_CSF1R\"         \n",
      "[25] \"SPP1_ITGAV_ITGB1\"    \"SPP1_ITGA9_ITGB1\"    \"SPP1_ITGA8_ITGB1\"   \n",
      "[28] \"NAMPT_INSR\"          \"ANGPTL1_ITGA1_ITGB1\" \"ANGPTL4_CDH5\"       \n",
      "[31] \"ANGPTL4_CDH11\"       \"ANGPTL4_SDC2\"        \"ANGPTL4_SDC3\"       \n",
      "[34] \"ANGPTL4_SDC4\"        \"ANGPT1_TEK\"          \"PTN_PTPRZ1\"         \n",
      "[37] \"PTN_SDC2\"            \"PTN_SDC3\"            \"PTN_SDC4\"           \n",
      "[40] \"PTN_NCL\"             \"PTN_ALK\"             \"CCK_CCKBR\"          \n",
      "[43] \"EDN1_EDNRA\"          \"SST_SSTR2\"           \"TAC1_TACR1\"         \n",
      "[46] \"PRSS3_PARD3\"         \"VIP_VIPR1\"           \"VIP_VIPR2\"          \n",
      "[49] \"BDNF_NTRK2\"          \"SEMA3A_NRP1_PLXNA1\"  \"SEMA3A_NRP1_PLXNA2\" \n",
      "[52] \"SEMA3A_NRP1_PLXNA4\"  \"SEMA3B_NRP1_PLXNA1\"  \"SEMA3B_NRP1_PLXNA2\" \n",
      "[55] \"SEMA3B_NRP1_PLXNA4\"  \"SEMA3C_NRP1_PLXNA1\"  \"SEMA3C_NRP1_PLXNA2\" \n",
      "[58] \"SEMA3C_NRP1_PLXNA4\"  \"SEMA3D_NRP1_PLXNA1\"  \"SEMA3D_NRP1_PLXNA2\" \n",
      "[61] \"SEMA3D_NRP1_PLXNA4\"  \"SEMA3B_NRP2_PLXNA1\"  \"SEMA3B_NRP2_PLXNA2\" \n",
      "[64] \"SEMA3B_NRP2_PLXNA4\"  \"SEMA3C_NRP2_PLXNA1\"  \"SEMA3C_NRP2_PLXNA2\" \n",
      "[67] \"SEMA3C_NRP2_PLXNA4\"  \"SEMA3D_NRP2_PLXNA1\"  \"SEMA3D_NRP2_PLXNA2\" \n",
      "[70] \"SEMA3D_NRP2_PLXNA4\"  \"SEMA3C_PLXND1\"       \"SEMA3E_PLXND1\"      \n",
      "[73] \"GAS6_MERTK\"          \"GAS6_TYRO3\"          \"PSAP_GPR37L1\"       \n",
      "[76] \"PSAP_GPR37\"         \n",
      "[1] 4\n",
      "[1] \"TGFB2\"\n",
      "[1] \"BMP7\"\n",
      "[1] \"WNT10B\"\n",
      "[1] \"WNT2B\"\n",
      "[1] \"WNT3\"\n",
      "[1] \"NRG1\"\n",
      "[1] \"NRG2\"\n",
      "[1] \"NRG3\"\n",
      "[1] \"FGF2\"\n",
      "[1] \"FGF9\"\n",
      "[1] \"PDGFC\"\n",
      "[1] \"PDGFD\"\n",
      "[1] \"IGF1\"\n",
      "[1] \"CX3CL1\"\n",
      "[1] \"IL34\"\n",
      "[1] \"SPP1\"\n",
      "[1] \"NAMPT\"\n",
      "[1] \"ANGPTL1\"\n",
      "[1] \"ANGPTL4\"\n",
      "[1] \"ANGPT1\"\n",
      "[1] \"PTN\"\n",
      "[1] \"CCK\"\n",
      "[1] \"EDN1\"\n",
      "[1] \"SST\"\n",
      "[1] \"TAC1\"\n",
      "[1] \"PRSS3\"\n",
      "[1] \"VIP\"\n",
      "[1] \"BDNF\"\n",
      "[1] \"SEMA3A\"\n",
      "[1] \"SEMA3B\"\n",
      "[1] \"SEMA3C\"\n",
      "[1] \"SEMA3D\"\n",
      "[1] \"SEMA3E\"\n",
      "[1] \"GAS6\"\n",
      "[1] \"PSAP\"\n",
      "[1] 21\n"
     ]
    },
    {
     "data": {
      "text/html": [
       "<strong>png:</strong> 2"
      ],
      "text/latex": [
       "\\textbf{png:} 2"
      ],
      "text/markdown": [
       "**png:** 2"
      ],
      "text/plain": [
       "png \n",
       "  2 "
      ]
     },
     "metadata": {},
     "output_type": "display_data"
    }
   ],
   "source": [
    "outgoing_ligand_order <- c()\n",
    "incoming_ligand_order <- c()\n",
    "# print(1) \n",
    "plot_created <- my_merged_river(obj_out_CON2, pattern = \"outgoing\", disease = \"control\", inhibitory_celltypes, excitatory_celltypes, support_celltypes)\n",
    "# plot_created\n",
    "\n",
    "pdf(file = \"AD_plot/CON_out.pdf\", width=12, height=11)\n",
    "# png(filename=glue(\"AD_plot/CON_out.png\"), width=850, height=700)\n",
    "plot(plot_created)\n",
    "dev.off()\n",
    "\n",
    "plot_created <- my_merged_river(obj_out_AD2, pattern = \"outgoing\", disease = \"AD\", inhibitory_celltypes, excitatory_celltypes, support_celltypes)\n",
    "# plot_created\n",
    "\n",
    "pdf(file = \"AD_plot/AD_out.pdf\", width=12, height=11)\n",
    "# png(filename=glue(\"AD_plot/AD_out.png\"), width=850, height=700)\n",
    "plot(plot_created)\n",
    "dev.off()"
   ]
  },
  {
   "cell_type": "markdown",
   "id": "fb52a292-abe6-470d-bb54-f5929eac3c61",
   "metadata": {},
   "source": [
    "### Incoming NMF"
   ]
  },
  {
   "cell_type": "code",
   "execution_count": 6,
   "id": "f50f36c4-e075-4f76-8ef6-92191b5019aa",
   "metadata": {},
   "outputs": [
    {
     "name": "stdout",
     "output_type": "stream",
     "text": [
      "[1] \"beginning NMF\"\n",
      "[1] \"Finished NMF\"\n",
      "[1] \"beginning NMF\"\n",
      "[1] \"Finished NMF\"\n"
     ]
    }
   ],
   "source": [
    "obj_in_AD2 = NMF_and_river_IN(cellchat_ad, study=\"tutorial data\", disease=\"AD\", \n",
    "                            inhibitory_celltypes, excitatory_celltypes, support_celltypes, \n",
    "                            quant_threshold = 0, k = 3, chosen_version=1, parallel='p16')\n",
    "obj_in_CON2 = NMF_and_river_IN(cellchat_con, study=\"tutorial data\", disease=\"Control\", \n",
    "                            inhibitory_celltypes, excitatory_celltypes, support_celltypes, \n",
    "                            quant_threshold = 0, k = 3, chosen_version=1, parallel='p16')"
   ]
  },
  {
   "cell_type": "code",
   "execution_count": null,
   "id": "e090c2f6-f628-4363-b6ed-db6d1700d8ac",
   "metadata": {
    "scrolled": true
   },
   "outputs": [],
   "source": [
    "outgoing_ligand_order <- c()\n",
    "incoming_ligand_order <- c()\n",
    "\n",
    "# print(1) \n",
    "plot_created <- my_merged_river(obj_in_CON2, pattern = \"incoming\", disease = \"control\", inhibitory_celltypes, excitatory_celltypes, support_celltypes)\n",
    "# plot_created\n",
    "pdf(file = \"AD_plot/CON_in.pdf\", width=12, height=11)\n",
    "# pdf(filename=glue(\"AD_plot/CON_in.pdf\"), width=850, height=700)\n",
    "plot(plot_created)\n",
    "\n",
    "\n",
    "dev.off()\n",
    "\n",
    "plot_created <- my_merged_river(obj_in_AD2, pattern = \"incoming\", disease = \"AD\", inhibitory_celltypes, excitatory_celltypes, support_celltypes)\n",
    "#plot(plot_created)\n",
    "\n",
    "pdf(file = \"AD_plot/AD_in.pdf\", width=12, height=11)\n",
    "#png(filename=glue(\"AD_plot/AD_in.png\"), width=850, height=700)\n",
    "plot(plot_created)\n",
    "dev.off()"
   ]
  },
  {
   "cell_type": "markdown",
   "id": "26da66a1-bd01-422e-958c-13c5c358360f",
   "metadata": {},
   "source": [
    "# barplots (Cell count)"
   ]
  },
  {
   "cell_type": "code",
   "execution_count": 10,
   "id": "e9eb733e-749a-49ff-ba88-9c3bca8d8de6",
   "metadata": {},
   "outputs": [
    {
     "data": {
      "text/html": [
       "<strong>png:</strong> 2"
      ],
      "text/latex": [
       "\\textbf{png:} 2"
      ],
      "text/markdown": [
       "**png:** 2"
      ],
      "text/plain": [
       "png \n",
       "  2 "
      ]
     },
     "metadata": {},
     "output_type": "display_data"
    }
   ],
   "source": [
    "# unique(meta$NSForest)\n",
    "# meta_AD <- cellchat@meta[cellchat@meta$disease == 'control',]$subclass\n",
    "meta_CON <- cellchat_con@meta[cellchat_con@meta$disease == 'control',]$subclass\n",
    "frequency_table <- table(meta_CON)\n",
    "\n",
    "# Convert the table to a data frame\n",
    "df <- as.data.frame(frequency_table)\n",
    "\n",
    "# Rename the columns\n",
    "names(df) <- c(\"Value\", \"Frequency\")\n",
    "\n",
    "# Print the data frame\n",
    "# sum(df$Frequency)\n",
    "pdf(file = \"AD_plot/CON_cell_count.pdf\", width=30, height=11)\n",
    "barplot(df$Frequency, names.arg = df$Value, xlab = \"Celltypes\", ylab = \"# of cells\", main = \"Cell counts for CON data\")\n",
    "dev.off()\n"
   ]
  },
  {
   "cell_type": "code",
   "execution_count": 11,
   "id": "d56d831f-28e0-4531-984c-74464f78e645",
   "metadata": {},
   "outputs": [
    {
     "data": {
      "text/html": [
       "<strong>png:</strong> 2"
      ],
      "text/latex": [
       "\\textbf{png:} 2"
      ],
      "text/markdown": [
       "**png:** 2"
      ],
      "text/plain": [
       "png \n",
       "  2 "
      ]
     },
     "metadata": {},
     "output_type": "display_data"
    }
   ],
   "source": [
    "# unique(meta$NSForest)\n",
    "meta_AD <- cellchat_ad@meta[cellchat_ad@meta$disease == 'Alzheimers/dementia',]$subclass\n",
    "# meta_AD <- cellchat@meta$subclass\n",
    "# meta_CON <- cellchat@meta[cellchat@meta$disease == 'control',]$subclass\n",
    "frequency_table_AD <- table(meta_AD)\n",
    "\n",
    "# Convert the table to a data frame\n",
    "df_AD <- as.data.frame(frequency_table_AD)\n",
    "\n",
    "# Rename the columns\n",
    "names(df_AD) <- c(\"Value\", \"Frequency\")\n",
    "\n",
    "# Print the data frame\n",
    "# sum(df_AD$Frequency)\n",
    "# length(meta_AD)\n",
    "pdf(file = \"AD_plot/AD_cell_count.pdf\", width=30, height=11)\n",
    "barplot(df_AD$Frequency, names.arg = df_AD$Value, xlab = \"Celltypes\", ylab = \"# of cells\", main = \"Cell counts for AD data\")\n",
    "dev.off()"
   ]
  },
  {
   "cell_type": "markdown",
   "id": "1a1769ff-eb8e-4073-a5ec-00e7d30268ba",
   "metadata": {},
   "source": [
    "# barplots (L-R count)"
   ]
  },
  {
   "cell_type": "code",
   "execution_count": 12,
   "id": "fc6d5e74-d052-4537-a198-67644a394fc4",
   "metadata": {
    "scrolled": true
   },
   "outputs": [],
   "source": [
    "counts_CON <- apply(cellchat_con@netP$prob, c(1, 2), function(x) sum(x != 0))\n",
    "counts_AD <- apply(cellchat_ad@netP$prob, c(1, 2), function(x) sum(x != 0))"
   ]
  },
  {
   "cell_type": "code",
   "execution_count": 15,
   "id": "b6e8429e-67ae-4877-b19d-f4f519cec57d",
   "metadata": {},
   "outputs": [
    {
     "data": {
      "text/html": [
       "<strong>png:</strong> 2"
      ],
      "text/latex": [
       "\\textbf{png:} 2"
      ],
      "text/markdown": [
       "**png:** 2"
      ],
      "text/plain": [
       "png \n",
       "  2 "
      ]
     },
     "metadata": {},
     "output_type": "display_data"
    },
    {
     "data": {
      "text/html": [
       "<strong>png:</strong> 2"
      ],
      "text/latex": [
       "\\textbf{png:} 2"
      ],
      "text/markdown": [
       "**png:** 2"
      ],
      "text/plain": [
       "png \n",
       "  2 "
      ]
     },
     "metadata": {},
     "output_type": "display_data"
    }
   ],
   "source": [
    "pdf(file = \"AD_plot/CON_out_L-R_count.pdf\", width=30, height=11)\n",
    "barplot(rowSums(counts_CON), names.arg = names(rowSums(counts_CON)), xlab = \"Celltypes\", ylab = \"# of L-R pairs\", main = \"L-R pairs counts (CON_out)\")\n",
    "dev.off()\n",
    "\n",
    "pdf(file = \"AD_plot/AD_out_L-R_count.pdf\", width=30, height=11)\n",
    "barplot(rowSums(counts_AD), names.arg = names(rowSums(counts_AD)), xlab = \"Celltypes\", ylab = \"# of L-R pairs\", main = \"L-R pairs counts (AD_out)\")\n",
    "dev.off()"
   ]
  },
  {
   "cell_type": "code",
   "execution_count": 16,
   "id": "89367603-26fa-409f-b6b8-02d1b8bc1ecb",
   "metadata": {},
   "outputs": [
    {
     "data": {
      "text/html": [
       "<strong>png:</strong> 2"
      ],
      "text/latex": [
       "\\textbf{png:} 2"
      ],
      "text/markdown": [
       "**png:** 2"
      ],
      "text/plain": [
       "png \n",
       "  2 "
      ]
     },
     "metadata": {},
     "output_type": "display_data"
    },
    {
     "data": {
      "text/html": [
       "<strong>png:</strong> 2"
      ],
      "text/latex": [
       "\\textbf{png:} 2"
      ],
      "text/markdown": [
       "**png:** 2"
      ],
      "text/plain": [
       "png \n",
       "  2 "
      ]
     },
     "metadata": {},
     "output_type": "display_data"
    }
   ],
   "source": [
    "pdf(file = \"AD_plot/CON_in_L-R_count.pdf\", width=30, height=11)\n",
    "barplot(colSums(counts_CON), names.arg = names(colSums(counts_CON)), xlab = \"Celltypes\", ylab = \"# of L-R pairs\", main = \"L-R pairs counts (CON_in)\")\n",
    "dev.off()\n",
    "\n",
    "pdf(file = \"AD_plot/AD_in_L-R_count.pdf\", width=30, height=11)\n",
    "barplot(colSums(counts_AD), names.arg = names(colSums(counts_AD)), xlab = \"Celltypes\", ylab = \"# of L-R pairs\", main = \"L-R pairs counts (AD_in)\")\n",
    "dev.off()"
   ]
  },
  {
   "cell_type": "markdown",
   "id": "345d75cc-8a59-40e0-a4d4-075451c1354a",
   "metadata": {},
   "source": [
    "# Correlation test"
   ]
  },
  {
   "cell_type": "code",
   "execution_count": 17,
   "id": "7413f0a3-0414-49ed-9848-b86ff9bbfba6",
   "metadata": {},
   "outputs": [
    {
     "data": {
      "text/html": [
       "<strong>cor:</strong> -0.10399313713848"
      ],
      "text/latex": [
       "\\textbf{cor:} -0.10399313713848"
      ],
      "text/markdown": [
       "**cor:** -0.10399313713848"
      ],
      "text/plain": [
       "       cor \n",
       "-0.1039931 "
      ]
     },
     "metadata": {},
     "output_type": "display_data"
    },
    {
     "data": {
      "text/html": [
       "<strong>cor:</strong> 0.174695868142936"
      ],
      "text/latex": [
       "\\textbf{cor:} 0.174695868142936"
      ],
      "text/markdown": [
       "**cor:** 0.174695868142936"
      ],
      "text/plain": [
       "      cor \n",
       "0.1746959 "
      ]
     },
     "metadata": {},
     "output_type": "display_data"
    },
    {
     "data": {
      "text/html": [
       "<strong>cor:</strong> -0.265672928455904"
      ],
      "text/latex": [
       "\\textbf{cor:} -0.265672928455904"
      ],
      "text/markdown": [
       "**cor:** -0.265672928455904"
      ],
      "text/plain": [
       "       cor \n",
       "-0.2656729 "
      ]
     },
     "metadata": {},
     "output_type": "display_data"
    },
    {
     "data": {
      "text/html": [
       "<strong>cor:</strong> 0.192592815701993"
      ],
      "text/latex": [
       "\\textbf{cor:} 0.192592815701993"
      ],
      "text/markdown": [
       "**cor:** 0.192592815701993"
      ],
      "text/plain": [
       "      cor \n",
       "0.1925928 "
      ]
     },
     "metadata": {},
     "output_type": "display_data"
    }
   ],
   "source": [
    "correlation_test1 <- cor.test(df$Frequency, rowSums(counts_CON))\n",
    "correlation_test2 <- cor.test(df$Frequency, colSums(counts_CON))\n",
    "correlation_test3 <- cor.test(df_AD$Frequency, rowSums(counts_AD))\n",
    "correlation_test4 <- cor.test(df_AD$Frequency, colSums(counts_AD))\n",
    "\n",
    "\n",
    "correlation_test1$estimate\n",
    "correlation_test2$estimate\n",
    "correlation_test3$estimate\n",
    "correlation_test4$estimate"
   ]
  },
  {
   "cell_type": "code",
   "execution_count": 18,
   "id": "8d7841d0-eff4-4d7f-87b7-120c0d23c806",
   "metadata": {},
   "outputs": [
    {
     "data": {
      "text/html": [
       "<table class=\"dataframe\">\n",
       "<caption>A data.frame: 4 × 1</caption>\n",
       "<thead>\n",
       "\t<tr><th></th><th scope=col>estimate</th></tr>\n",
       "\t<tr><th></th><th scope=col>&lt;dbl&gt;</th></tr>\n",
       "</thead>\n",
       "<tbody>\n",
       "\t<tr><th scope=row>CON_out</th><td>-0.1039931</td></tr>\n",
       "\t<tr><th scope=row>CON_in</th><td> 0.1746959</td></tr>\n",
       "\t<tr><th scope=row>AD_out</th><td>-0.2656729</td></tr>\n",
       "\t<tr><th scope=row>AD_in</th><td> 0.1925928</td></tr>\n",
       "</tbody>\n",
       "</table>\n"
      ],
      "text/latex": [
       "A data.frame: 4 × 1\n",
       "\\begin{tabular}{r|l}\n",
       "  & estimate\\\\\n",
       "  & <dbl>\\\\\n",
       "\\hline\n",
       "\tCON\\_out & -0.1039931\\\\\n",
       "\tCON\\_in &  0.1746959\\\\\n",
       "\tAD\\_out & -0.2656729\\\\\n",
       "\tAD\\_in &  0.1925928\\\\\n",
       "\\end{tabular}\n"
      ],
      "text/markdown": [
       "\n",
       "A data.frame: 4 × 1\n",
       "\n",
       "| <!--/--> | estimate &lt;dbl&gt; |\n",
       "|---|---|\n",
       "| CON_out | -0.1039931 |\n",
       "| CON_in |  0.1746959 |\n",
       "| AD_out | -0.2656729 |\n",
       "| AD_in |  0.1925928 |\n",
       "\n"
      ],
      "text/plain": [
       "        estimate  \n",
       "CON_out -0.1039931\n",
       "CON_in   0.1746959\n",
       "AD_out  -0.2656729\n",
       "AD_in    0.1925928"
      ]
     },
     "metadata": {},
     "output_type": "display_data"
    }
   ],
   "source": [
    "corr_df <- as.data.frame(c(correlation_test1$estimate,\n",
    "            correlation_test2$estimate,\n",
    "            correlation_test3$estimate,\n",
    "            correlation_test4$estimate))\n",
    "colnames(corr_df) <- c('estimate')\n",
    "rownames(corr_df) <- c('CON_out', 'CON_in', 'AD_out', 'AD_in')\n",
    "corr_df"
   ]
  },
  {
   "cell_type": "code",
   "execution_count": null,
   "id": "749be41e-7d36-4e6b-8f41-8c65f41fbfc4",
   "metadata": {},
   "outputs": [],
   "source": []
  }
 ],
 "metadata": {
  "kernelspec": {
   "display_name": "R",
   "language": "R",
   "name": "ir"
  },
  "language_info": {
   "codemirror_mode": "r",
   "file_extension": ".r",
   "mimetype": "text/x-r-source",
   "name": "R",
   "pygments_lexer": "r",
   "version": "4.3.2"
  }
 },
 "nbformat": 4,
 "nbformat_minor": 5
}
