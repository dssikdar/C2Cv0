{
 "cells": [
  {
   "cell_type": "code",
   "execution_count": 1,
   "id": "841e2d9e-5c5c-4383-962e-fc752348c4f2",
   "metadata": {
    "scrolled": true
   },
   "outputs": [
    {
     "name": "stderr",
     "output_type": "stream",
     "text": [
      "Attaching SeuratObject\n",
      "\n",
      "Seurat v4 was just loaded with SeuratObject v5; disabling v5 assays and\n",
      "validation routines, and ensuring assays work in strict v3/v4\n",
      "compatibility mode\n",
      "\n",
      "Registered S3 method overwritten by 'SeuratDisk':\n",
      "  method            from  \n",
      "  as.sparse.H5Group Seurat\n",
      "\n",
      "Loading required package: registry\n",
      "\n",
      "Loading required package: rngtools\n",
      "\n",
      "Loading required package: cluster\n",
      "\n",
      "NMF - BioConductor layer [OK] | Shared memory capabilities [NO: bigmemory] | Cores 2/2\n",
      "\n",
      "  To enable shared memory capabilities, try: install.extras('\n",
      "NMF\n",
      "')\n",
      "\n",
      "Loading required package: ggplot2\n",
      "\n",
      "Loading required package: grid\n",
      "\n",
      "========================================\n",
      "ComplexHeatmap version 2.14.0\n",
      "Bioconductor page: http://bioconductor.org/packages/ComplexHeatmap/\n",
      "Github page: https://github.com/jokergoo/ComplexHeatmap\n",
      "Documentation: http://jokergoo.github.io/ComplexHeatmap-reference\n",
      "\n",
      "If you use it in published research, please cite either one:\n",
      "- Gu, Z. Complex Heatmap Visualization. iMeta 2022.\n",
      "- Gu, Z. Complex heatmaps reveal patterns and correlations in multidimensional \n",
      "    genomic data. Bioinformatics 2016.\n",
      "\n",
      "\n",
      "The new InteractiveComplexHeatmap package can directly export static \n",
      "complex heatmaps into an interactive Shiny app with zero effort. Have a try!\n",
      "\n",
      "This message can be suppressed by:\n",
      "  suppressPackageStartupMessages(library(ComplexHeatmap))\n",
      "========================================\n",
      "\n",
      "\n",
      "Loading required package: dplyr\n",
      "\n",
      "\n",
      "Attaching package: ‘dplyr’\n",
      "\n",
      "\n",
      "The following object is masked from ‘package:Biobase’:\n",
      "\n",
      "    combine\n",
      "\n",
      "\n",
      "The following objects are masked from ‘package:BiocGenerics’:\n",
      "\n",
      "    combine, intersect, setdiff, union\n",
      "\n",
      "\n",
      "The following objects are masked from ‘package:stats’:\n",
      "\n",
      "    filter, lag\n",
      "\n",
      "\n",
      "The following objects are masked from ‘package:base’:\n",
      "\n",
      "    intersect, setdiff, setequal, union\n",
      "\n",
      "\n",
      "Loading required package: igraph\n",
      "\n",
      "\n",
      "Attaching package: ‘igraph’\n",
      "\n",
      "\n",
      "The following objects are masked from ‘package:dplyr’:\n",
      "\n",
      "    as_data_frame, groups, union\n",
      "\n",
      "\n",
      "The following objects are masked from ‘package:NMF’:\n",
      "\n",
      "    algorithm, compare\n",
      "\n",
      "\n",
      "The following objects are masked from ‘package:BiocGenerics’:\n",
      "\n",
      "    normalize, path, union\n",
      "\n",
      "\n",
      "The following objects are masked from ‘package:stats’:\n",
      "\n",
      "    decompose, spectrum\n",
      "\n",
      "\n",
      "The following object is masked from ‘package:base’:\n",
      "\n",
      "    union\n",
      "\n",
      "\n",
      "========================================\n",
      "circlize version 0.4.15\n",
      "CRAN page: https://cran.r-project.org/package=circlize\n",
      "Github page: https://github.com/jokergoo/circlize\n",
      "Documentation: https://jokergoo.github.io/circlize_book/book/\n",
      "\n",
      "If you use it in published research, please cite:\n",
      "Gu, Z. circlize implements and enhances circular visualization\n",
      "  in R. Bioinformatics 2014.\n",
      "\n",
      "This message can be suppressed by:\n",
      "  suppressPackageStartupMessages(library(circlize))\n",
      "========================================\n",
      "\n",
      "\n",
      "\n",
      "Attaching package: ‘circlize’\n",
      "\n",
      "\n",
      "The following object is masked from ‘package:igraph’:\n",
      "\n",
      "    degree\n",
      "\n",
      "\n",
      "\n",
      "Attaching package: ‘pracma’\n",
      "\n",
      "\n",
      "The following objects are masked from ‘package:Matrix’:\n",
      "\n",
      "    expm, lu, tril, triu\n",
      "\n",
      "\n"
     ]
    }
   ],
   "source": [
    "library(Seurat)\n",
    "library(SeuratDisk)\n",
    "library(NMF)\n",
    "library(ggalluvial)\n",
    "library(ComplexHeatmap)\n",
    "library(CellChat)\n",
    "library(patchwork)\n",
    "library(graphics)\n",
    "library(Matrix)\n",
    "options(stringsAsFactors = FALSE)\n",
    "\n",
    "library(circlize)\n",
    "library(colorspace)\n",
    "options(repr.plot.width = 12, repr.plot.height = 9, repr.plot.res = 300)\n",
    "\n",
    "library(pracma)\n",
    "library(glue)"
   ]
  },
  {
   "cell_type": "code",
   "execution_count": 2,
   "id": "acbd9dc9-4ed9-4b4a-9959-47b8fe8dda01",
   "metadata": {},
   "outputs": [],
   "source": [
    "cellchat_con <- readRDS(file = '/extra/zhanglab0/CommonData/AMP-AD/Obj-CellChat/subclass_cellchat_control.rds')\n",
    "cellchat_ad <- readRDS(file = '/extra/zhanglab0/CommonData/AMP-AD/Obj-CellChat/subclass_cellchat_alz.rds')"
   ]
  },
  {
   "cell_type": "code",
   "execution_count": 15,
   "id": "8e738ad1-04ed-4095-bfb7-c48a8800cdd8",
   "metadata": {},
   "outputs": [],
   "source": [
    "source(\"src/NMF.r\")\n",
    "source(\"src/NMF_and_river_OUT.r\")\n",
    "source(\"src/NMF_and_river_IN.r\")\n",
    "source(\"src/MY_netAnalysis_river_Neuron.r\")\n",
    "source(\"src/MY_mergedRiver.r\")"
   ]
  },
  {
   "cell_type": "code",
   "execution_count": 6,
   "id": "657feb6e-b778-4b98-bf6f-d2c03da5bf61",
   "metadata": {},
   "outputs": [],
   "source": [
    "inhibitory_celltypes <- c('Chandelier', 'Lamp5', 'Lamp5 Lhx6', 'Pax6', 'Pvalb', 'Sncg', 'Sst', 'Vip', 'Sst Chodl')\n",
    "excitatory_celltypes <- c('L2/3 IT', 'L4 IT', 'L5', 'L5/6 NP', 'L6 CT', 'L6 IT', 'L6 IT Car3', 'L6b')\n",
    "support_celltypes <- c('Astro', 'Endo', 'Oligo', 'OPC', 'VLMC', 'Micro/PVM')\n",
    "celltype_name = c('Chandelier', 'Lamp5', 'Lamp5 Lhx6', 'Pax6', 'Pvalb', 'Sncg', 'Sst', 'Vip', 'Sst Chodl', \n",
    "                  'L2/3 IT', 'L4 IT', 'L5', 'L5/6 NP', 'L6 CT', 'L6 IT', 'L6 IT Car3', 'L6b', \n",
    "                  'Astro', 'Endo', 'Oligo', 'OPC', 'VLMC', 'Micro/PVM')\n",
    "cutoff1 = 0.5           # cutoff for communication strength in visualizations (default is 0.5)\n",
    "cutoff2 = 0.5           # cutoff for communication strength in visualizations (default is 0.5)\n",
    "versions = seq(from = 1, to = 20, by = 1) \n",
    "# NMF methods to be used, can be \"brunet\" or \"lee\"...\n",
    "methods = list(\"brunet\")\n",
    "# NMF seeding methods to be used, can be \"random\" or \"nndsvd\"...\n",
    "seeds = list(\"random\")\n",
    "# NMF number of runs to be used, can be 200, 500, 1000, 2000, 5000, 10000...\n",
    "nrums = list(200)"
   ]
  },
  {
   "cell_type": "markdown",
   "id": "5a2d15d0-0493-42d6-9e61-e45a36e1ebcc",
   "metadata": {},
   "source": [
    "# NMF"
   ]
  },
  {
   "cell_type": "code",
   "execution_count": 17,
   "id": "f50f36c4-e075-4f76-8ef6-92191b5019aa",
   "metadata": {},
   "outputs": [
    {
     "name": "stdout",
     "output_type": "stream",
     "text": [
      "[1] \"beginning NMF\"\n",
      "[1] \"Finished NMF\"\n",
      "[1] \"beginning NMF\"\n",
      "[1] \"Finished NMF\"\n"
     ]
    }
   ],
   "source": [
    "obj_in_AD2 = NMF_and_river_IN(cellchat_ad, study=\"tutorial data\", disease=\"AD\", \n",
    "                            inhibitory_celltypes, excitatory_celltypes, support_celltypes, \n",
    "                            quant_threshold = 0, k = 3, chosen_version=1, parallel='p16')\n",
    "obj_in_CON2 = NMF_and_river_IN(cellchat_con, study=\"tutorial data\", disease=\"Control\", \n",
    "                            inhibitory_celltypes, excitatory_celltypes, support_celltypes, \n",
    "                            quant_threshold = 0, k = 3, chosen_version=1, parallel='p16')"
   ]
  },
  {
   "cell_type": "code",
   "execution_count": 35,
   "id": "e090c2f6-f628-4363-b6ed-db6d1700d8ac",
   "metadata": {
    "scrolled": true
   },
   "outputs": [
    {
     "name": "stdout",
     "output_type": "stream",
     "text": [
      "[1] 0\n",
      "[1] 1\n",
      "[1] 2\n",
      "[1] 3\n",
      " [1] \"TGFB2_TGFBR1_TGFBR2\" \"BMP5_BMPR1A_ACVR2A\"  \"BMP5_BMPR1A_ACVR2B\" \n",
      " [4] \"BMP5_BMPR1A_BMPR2\"   \"BMP5_BMPR1B_BMPR2\"   \"BMP6_BMPR1A_ACVR2A\" \n",
      " [7] \"BMP6_BMPR1A_ACVR2B\"  \"BMP6_BMPR1A_BMPR2\"   \"BMP6_BMPR1B_BMPR2\"  \n",
      "[10] \"BMP7_BMPR1A_ACVR2A\"  \"BMP7_BMPR1A_ACVR2B\"  \"BMP7_BMPR1A_BMPR2\"  \n",
      "[13] \"BMP7_BMPR1B_BMPR2\"   \"WNT10B_FZD3_LRP6\"    \"WNT2B_FZD3_LRP6\"    \n",
      "[16] \"WNT3_FZD3_LRP6\"      \"NRG1_ERBB3\"          \"NRG1_ERBB4\"         \n",
      "[19] \"NRG2_ERBB3\"          \"NRG2_ERBB4\"          \"NRG3_ERBB4\"         \n",
      "[22] \"NRG4_ERBB4\"          \"FGF1_FGFR1\"          \"FGF1_FGFR2\"         \n",
      "[25] \"FGF1_FGFR3\"          \"FGF2_FGFR1\"          \"FGF2_FGFR2\"         \n",
      "[28] \"FGF2_FGFR3\"          \"FGF9_FGFR1\"          \"FGF9_FGFR2\"         \n",
      "[31] \"FGF9_FGFR3\"          \"PDGFC_PDGFRA\"        \"PDGFD_PDGFRB\"       \n",
      "[34] \"IGF1_IGF1R\"          \"IGF1_ITGA6_ITGB4\"    \"CX3CL1_CX3CR1\"      \n",
      "[37] \"IL34_CSF1R\"          \"SPP1_ITGAV_ITGB1\"    \"SPP1_ITGA9_ITGB1\"   \n",
      "[40] \"SPP1_ITGA8_ITGB1\"    \"ANGPTL1_ITGA1_ITGB1\" \"ANGPTL4_CDH11\"      \n",
      "[43] \"ANGPTL4_SDC3\"        \"ANGPTL4_SDC4\"        \"ANGPT1_TEK\"         \n",
      "[46] \"ANGPT2_TEK\"          \"PTN_PTPRZ1\"          \"PTN_SDC3\"           \n",
      "[49] \"PTN_SDC4\"            \"PTN_NCL\"             \"PTN_ALK\"            \n",
      "[52] \"CCK_CCKBR\"           \"EDN1_EDNRA\"          \"SST_SSTR2\"          \n",
      "[55] \"TAC1_TACR1\"          \"PRSS3_PARD3\"         \"VIP_VIPR1\"          \n",
      "[58] \"VIP_VIPR2\"           \"KITL_KIT\"            \"BDNF_NTRK2\"         \n",
      "[61] \"SEMA3A_NRP1_PLXNA1\"  \"SEMA3A_NRP1_PLXNA2\"  \"SEMA3A_NRP1_PLXNA4\" \n",
      "[64] \"SEMA3B_NRP1_PLXNA1\"  \"SEMA3B_NRP1_PLXNA2\"  \"SEMA3B_NRP1_PLXNA4\" \n",
      "[67] \"SEMA3C_NRP1_PLXNA1\"  \"SEMA3C_NRP1_PLXNA2\"  \"SEMA3C_NRP1_PLXNA4\" \n",
      "[70] \"SEMA3D_NRP1_PLXNA1\"  \"SEMA3D_NRP1_PLXNA2\"  \"SEMA3D_NRP1_PLXNA4\" \n",
      "[73] \"SEMA3B_NRP2_PLXNA1\"  \"SEMA3B_NRP2_PLXNA2\"  \"SEMA3B_NRP2_PLXNA4\" \n",
      "[76] \"SEMA3C_NRP2_PLXNA1\"  \"SEMA3C_NRP2_PLXNA2\"  \"SEMA3C_NRP2_PLXNA4\" \n",
      "[79] \"SEMA3D_NRP2_PLXNA1\"  \"SEMA3D_NRP2_PLXNA2\"  \"SEMA3D_NRP2_PLXNA4\" \n",
      "[82] \"SEMA3C_PLXND1\"       \"SEMA3E_PLXND1\"       \"CRH_CRHR1\"          \n",
      "[85] \"GAS6_AXL\"            \"GAS6_MERTK\"          \"GAS6_TYRO3\"         \n",
      "[88] \"PSAP_GPR37L1\"        \"PSAP_GPR37\"         \n",
      "[1] 4\n",
      "[1] \"TGFB2\"\n",
      "[1] \"BMP5\"\n",
      "[1] \"BMP6\"\n",
      "[1] \"BMP7\"\n",
      "[1] \"WNT10B\"\n",
      "[1] \"WNT2B\"\n",
      "[1] \"WNT3\"\n",
      "[1] \"NRG1\"\n",
      "[1] \"NRG2\"\n",
      "[1] \"NRG3\"\n",
      "[1] \"NRG4\"\n",
      "[1] \"FGF1\"\n",
      "[1] \"FGF2\"\n",
      "[1] \"FGF9\"\n",
      "[1] \"PDGFC\"\n",
      "[1] \"PDGFD\"\n",
      "[1] \"IGF1\"\n",
      "[1] \"CX3CL1\"\n",
      "[1] \"IL34\"\n",
      "[1] \"SPP1\"\n",
      "[1] \"ANGPTL1\"\n",
      "[1] \"ANGPTL4\"\n",
      "[1] \"ANGPT1\"\n",
      "[1] \"ANGPT2\"\n",
      "[1] \"PTN\"\n",
      "[1] \"CCK\"\n",
      "[1] \"EDN1\"\n",
      "[1] \"SST\"\n",
      "[1] \"TAC1\"\n",
      "[1] \"PRSS3\"\n",
      "[1] \"VIP\"\n",
      "[1] \"KITL\"\n",
      "[1] \"BDNF\"\n",
      "[1] \"SEMA3A\"\n",
      "[1] \"SEMA3B\"\n",
      "[1] \"SEMA3C\"\n",
      "[1] \"SEMA3D\"\n",
      "[1] \"SEMA3E\"\n",
      "[1] \"CRH\"\n",
      "[1] \"GAS6\"\n",
      "[1] \"PSAP\"\n",
      "[1] 1615\n"
     ]
    },
    {
     "data": {
      "text/html": [
       "<strong>png:</strong> 2"
      ],
      "text/latex": [
       "\\textbf{png:} 2"
      ],
      "text/markdown": [
       "**png:** 2"
      ],
      "text/plain": [
       "png \n",
       "  2 "
      ]
     },
     "metadata": {},
     "output_type": "display_data"
    }
   ],
   "source": [
    "outgoing_ligand_order <- c()\n",
    "incoming_ligand_order <- c()\n",
    "# print(1) \n",
    "plot_created <- my_merged_river(obj_in_CON2, pattern = \"incoming\", disease = \"control\", inhibitory_celltypes, excitatory_celltypes, support_celltypes)\n",
    "# plot_created\n",
    "pdf(file = \"AD_plot/CON_in.pdf\", width=12, height=11)\n",
    "# pdf(filename=glue(\"AD_plot/CON_in.pdf\"), width=850, height=700)\n",
    "plot(plot_created)\n",
    "dev.off()\n",
    "\n",
    "# plot_created <- my_merged_river(obj_in_AD2, pattern = \"incoming\", disease = \"AD\", inhibitory_celltypes, excitatory_celltypes, support_celltypes)\n",
    "# # plot_created\n",
    "\n",
    "# pdf(file = \"AD_plot/AD_in.pdf\", width=12, height=11)\n",
    "# # png(filename=glue(\"AD_plot/AD_in.png\"), width=850, height=700)\n",
    "# plot(plot_created)\n",
    "# dev.off()"
   ]
  },
  {
   "cell_type": "code",
   "execution_count": 40,
   "id": "c1626364-d669-4045-8045-da89f9822a9b",
   "metadata": {},
   "outputs": [
    {
     "name": "stdout",
     "output_type": "stream",
     "text": [
      "[1] \"beginning NMF\"\n",
      "[1] \"Finished NMF\"\n",
      "[1] \"beginning NMF\"\n",
      "[1] \"Finished NMF\"\n"
     ]
    }
   ],
   "source": [
    "obj_out_AD2 = NMF_and_river_OUT(cellchat_ad, study=\"tutorial data\", disease=\"AD\", \n",
    "                            inhibitory_celltypes, excitatory_celltypes, support_celltypes, \n",
    "                            quant_threshold = 0, k = 3, chosen_version=1, parallel='p16')\n",
    "obj_out_CON2 = NMF_and_river_OUT(cellchat_con, study=\"tutorial data\", disease=\"Control\", \n",
    "                            inhibitory_celltypes, excitatory_celltypes, support_celltypes, \n",
    "                            quant_threshold = 0, k = 3, chosen_version=1, parallel='p16')"
   ]
  },
  {
   "cell_type": "code",
   "execution_count": 41,
   "id": "6820fdfe-9556-424d-b7db-3e1790b8c19f",
   "metadata": {
    "scrolled": true
   },
   "outputs": [
    {
     "name": "stdout",
     "output_type": "stream",
     "text": [
      "[1] 0\n",
      "[1] 1\n",
      "[1] 2\n",
      "[1] 3\n",
      " [1] \"TGFB2_TGFBR1_TGFBR2\" \"BMP5_BMPR1A_ACVR2A\"  \"BMP5_BMPR1A_ACVR2B\" \n",
      " [4] \"BMP5_BMPR1A_BMPR2\"   \"BMP5_BMPR1B_BMPR2\"   \"BMP6_BMPR1A_ACVR2A\" \n",
      " [7] \"BMP6_BMPR1A_ACVR2B\"  \"BMP6_BMPR1A_BMPR2\"   \"BMP6_BMPR1B_BMPR2\"  \n",
      "[10] \"BMP7_BMPR1A_ACVR2A\"  \"BMP7_BMPR1A_ACVR2B\"  \"BMP7_BMPR1A_BMPR2\"  \n",
      "[13] \"BMP7_BMPR1B_BMPR2\"   \"WNT10B_FZD3_LRP6\"    \"WNT2B_FZD3_LRP6\"    \n",
      "[16] \"WNT3_FZD3_LRP6\"      \"NRG1_ERBB3\"          \"NRG1_ERBB4\"         \n",
      "[19] \"NRG2_ERBB3\"          \"NRG2_ERBB4\"          \"NRG3_ERBB4\"         \n",
      "[22] \"NRG4_ERBB4\"          \"FGF1_FGFR1\"          \"FGF1_FGFR2\"         \n",
      "[25] \"FGF1_FGFR3\"          \"FGF2_FGFR1\"          \"FGF2_FGFR2\"         \n",
      "[28] \"FGF2_FGFR3\"          \"FGF9_FGFR1\"          \"FGF9_FGFR2\"         \n",
      "[31] \"FGF9_FGFR3\"          \"PDGFC_PDGFRA\"        \"PDGFD_PDGFRB\"       \n",
      "[34] \"IGF1_IGF1R\"          \"IGF1_ITGA6_ITGB4\"    \"CX3CL1_CX3CR1\"      \n",
      "[37] \"IL34_CSF1R\"          \"SPP1_ITGAV_ITGB1\"    \"SPP1_ITGA9_ITGB1\"   \n",
      "[40] \"SPP1_ITGA8_ITGB1\"    \"ANGPTL1_ITGA1_ITGB1\" \"ANGPTL4_CDH11\"      \n",
      "[43] \"ANGPTL4_SDC3\"        \"ANGPTL4_SDC4\"        \"ANGPT1_TEK\"         \n",
      "[46] \"ANGPT2_TEK\"          \"PTN_PTPRZ1\"          \"PTN_SDC3\"           \n",
      "[49] \"PTN_SDC4\"            \"PTN_NCL\"             \"PTN_ALK\"            \n",
      "[52] \"CCK_CCKBR\"           \"EDN1_EDNRA\"          \"SST_SSTR2\"          \n",
      "[55] \"TAC1_TACR1\"          \"PRSS3_PARD3\"         \"VIP_VIPR1\"          \n",
      "[58] \"VIP_VIPR2\"           \"KITL_KIT\"            \"BDNF_NTRK2\"         \n",
      "[61] \"SEMA3A_NRP1_PLXNA1\"  \"SEMA3A_NRP1_PLXNA2\"  \"SEMA3A_NRP1_PLXNA4\" \n",
      "[64] \"SEMA3B_NRP1_PLXNA1\"  \"SEMA3B_NRP1_PLXNA2\"  \"SEMA3B_NRP1_PLXNA4\" \n",
      "[67] \"SEMA3C_NRP1_PLXNA1\"  \"SEMA3C_NRP1_PLXNA2\"  \"SEMA3C_NRP1_PLXNA4\" \n",
      "[70] \"SEMA3D_NRP1_PLXNA1\"  \"SEMA3D_NRP1_PLXNA2\"  \"SEMA3D_NRP1_PLXNA4\" \n",
      "[73] \"SEMA3B_NRP2_PLXNA1\"  \"SEMA3B_NRP2_PLXNA2\"  \"SEMA3B_NRP2_PLXNA4\" \n",
      "[76] \"SEMA3C_NRP2_PLXNA1\"  \"SEMA3C_NRP2_PLXNA2\"  \"SEMA3C_NRP2_PLXNA4\" \n",
      "[79] \"SEMA3D_NRP2_PLXNA1\"  \"SEMA3D_NRP2_PLXNA2\"  \"SEMA3D_NRP2_PLXNA4\" \n",
      "[82] \"SEMA3C_PLXND1\"       \"SEMA3E_PLXND1\"       \"CRH_CRHR1\"          \n",
      "[85] \"GAS6_AXL\"            \"GAS6_MERTK\"          \"GAS6_TYRO3\"         \n",
      "[88] \"PSAP_GPR37L1\"        \"PSAP_GPR37\"         \n",
      "[1] 4\n",
      "[1] \"TGFB2\"\n",
      "[1] \"BMP5\"\n",
      "[1] \"BMP6\"\n",
      "[1] \"BMP7\"\n",
      "[1] \"WNT10B\"\n",
      "[1] \"WNT2B\"\n",
      "[1] \"WNT3\"\n",
      "[1] \"NRG1\"\n",
      "[1] \"NRG2\"\n",
      "[1] \"NRG3\"\n",
      "[1] \"NRG4\"\n",
      "[1] \"FGF1\"\n",
      "[1] \"FGF2\"\n",
      "[1] \"FGF9\"\n",
      "[1] \"PDGFC\"\n",
      "[1] \"PDGFD\"\n",
      "[1] \"IGF1\"\n",
      "[1] \"CX3CL1\"\n",
      "[1] \"IL34\"\n",
      "[1] \"SPP1\"\n",
      "[1] \"ANGPTL1\"\n",
      "[1] \"ANGPTL4\"\n",
      "[1] \"ANGPT1\"\n",
      "[1] \"ANGPT2\"\n",
      "[1] \"PTN\"\n",
      "[1] \"CCK\"\n",
      "[1] \"EDN1\"\n",
      "[1] \"SST\"\n",
      "[1] \"TAC1\"\n",
      "[1] \"PRSS3\"\n",
      "[1] \"VIP\"\n",
      "[1] \"KITL\"\n",
      "[1] \"BDNF\"\n",
      "[1] \"SEMA3A\"\n",
      "[1] \"SEMA3B\"\n",
      "[1] \"SEMA3C\"\n",
      "[1] \"SEMA3D\"\n",
      "[1] \"SEMA3E\"\n",
      "[1] \"CRH\"\n",
      "[1] \"GAS6\"\n",
      "[1] \"PSAP\"\n",
      "[1] 275\n"
     ]
    },
    {
     "data": {
      "text/html": [
       "<strong>png:</strong> 2"
      ],
      "text/latex": [
       "\\textbf{png:} 2"
      ],
      "text/markdown": [
       "**png:** 2"
      ],
      "text/plain": [
       "png \n",
       "  2 "
      ]
     },
     "metadata": {},
     "output_type": "display_data"
    },
    {
     "name": "stdout",
     "output_type": "stream",
     "text": [
      "[1] 0\n",
      "[1] 1\n",
      "[1] 2\n",
      "[1] 3\n",
      " [1] \"TGFB2_TGFBR1_TGFBR2\" \"BMP7_ACVR1_BMPR2\"    \"BMP7_BMPR1A_ACVR2A\" \n",
      " [4] \"BMP7_BMPR1A_BMPR2\"   \"BMP7_BMPR1B_BMPR2\"   \"WNT10B_FZD3_LRP6\"   \n",
      " [7] \"WNT2B_FZD3_LRP6\"     \"WNT3_FZD3_LRP6\"      \"NRG1_ERBB3\"         \n",
      "[10] \"NRG1_ERBB4\"          \"NRG2_ERBB3\"          \"NRG2_ERBB4\"         \n",
      "[13] \"NRG3_ERBB4\"          \"FGF2_FGFR1\"          \"FGF2_FGFR2\"         \n",
      "[16] \"FGF2_FGFR3\"          \"FGF9_FGFR1\"          \"FGF9_FGFR2\"         \n",
      "[19] \"FGF9_FGFR3\"          \"PDGFC_PDGFRA\"        \"PDGFD_PDGFRB\"       \n",
      "[22] \"IGF1_IGF1R\"          \"CX3CL1_CX3CR1\"       \"IL34_CSF1R\"         \n",
      "[25] \"SPP1_ITGAV_ITGB1\"    \"SPP1_ITGA9_ITGB1\"    \"SPP1_ITGA8_ITGB1\"   \n",
      "[28] \"NAMPT_INSR\"          \"ANGPTL1_ITGA1_ITGB1\" \"ANGPTL4_CDH5\"       \n",
      "[31] \"ANGPTL4_CDH11\"       \"ANGPTL4_SDC2\"        \"ANGPTL4_SDC3\"       \n",
      "[34] \"ANGPTL4_SDC4\"        \"ANGPT1_TEK\"          \"PTN_PTPRZ1\"         \n",
      "[37] \"PTN_SDC2\"            \"PTN_SDC3\"            \"PTN_SDC4\"           \n",
      "[40] \"PTN_NCL\"             \"PTN_ALK\"             \"CCK_CCKBR\"          \n",
      "[43] \"EDN1_EDNRA\"          \"SST_SSTR2\"           \"TAC1_TACR1\"         \n",
      "[46] \"PRSS3_PARD3\"         \"VIP_VIPR1\"           \"VIP_VIPR2\"          \n",
      "[49] \"BDNF_NTRK2\"          \"SEMA3A_NRP1_PLXNA1\"  \"SEMA3A_NRP1_PLXNA2\" \n",
      "[52] \"SEMA3A_NRP1_PLXNA4\"  \"SEMA3B_NRP1_PLXNA1\"  \"SEMA3B_NRP1_PLXNA2\" \n",
      "[55] \"SEMA3B_NRP1_PLXNA4\"  \"SEMA3C_NRP1_PLXNA1\"  \"SEMA3C_NRP1_PLXNA2\" \n",
      "[58] \"SEMA3C_NRP1_PLXNA4\"  \"SEMA3D_NRP1_PLXNA1\"  \"SEMA3D_NRP1_PLXNA2\" \n",
      "[61] \"SEMA3D_NRP1_PLXNA4\"  \"SEMA3B_NRP2_PLXNA1\"  \"SEMA3B_NRP2_PLXNA2\" \n",
      "[64] \"SEMA3B_NRP2_PLXNA4\"  \"SEMA3C_NRP2_PLXNA1\"  \"SEMA3C_NRP2_PLXNA2\" \n",
      "[67] \"SEMA3C_NRP2_PLXNA4\"  \"SEMA3D_NRP2_PLXNA1\"  \"SEMA3D_NRP2_PLXNA2\" \n",
      "[70] \"SEMA3D_NRP2_PLXNA4\"  \"SEMA3C_PLXND1\"       \"SEMA3E_PLXND1\"      \n",
      "[73] \"GAS6_MERTK\"          \"GAS6_TYRO3\"          \"PSAP_GPR37L1\"       \n",
      "[76] \"PSAP_GPR37\"         \n",
      "[1] 4\n",
      "[1] \"TGFB2\"\n",
      "[1] \"BMP7\"\n",
      "[1] \"WNT10B\"\n",
      "[1] \"WNT2B\"\n",
      "[1] \"WNT3\"\n",
      "[1] \"NRG1\"\n",
      "[1] \"NRG2\"\n",
      "[1] \"NRG3\"\n",
      "[1] \"FGF2\"\n",
      "[1] \"FGF9\"\n",
      "[1] \"PDGFC\"\n",
      "[1] \"PDGFD\"\n",
      "[1] \"IGF1\"\n",
      "[1] \"CX3CL1\"\n",
      "[1] \"IL34\"\n",
      "[1] \"SPP1\"\n",
      "[1] \"NAMPT\"\n",
      "[1] \"ANGPTL1\"\n",
      "[1] \"ANGPTL4\"\n",
      "[1] \"ANGPT1\"\n",
      "[1] \"PTN\"\n",
      "[1] \"CCK\"\n",
      "[1] \"EDN1\"\n",
      "[1] \"SST\"\n",
      "[1] \"TAC1\"\n",
      "[1] \"PRSS3\"\n",
      "[1] \"VIP\"\n",
      "[1] \"BDNF\"\n",
      "[1] \"SEMA3A\"\n",
      "[1] \"SEMA3B\"\n",
      "[1] \"SEMA3C\"\n",
      "[1] \"SEMA3D\"\n",
      "[1] \"SEMA3E\"\n",
      "[1] \"GAS6\"\n",
      "[1] \"PSAP\"\n",
      "[1] 168\n"
     ]
    },
    {
     "data": {
      "text/html": [
       "<strong>png:</strong> 2"
      ],
      "text/latex": [
       "\\textbf{png:} 2"
      ],
      "text/markdown": [
       "**png:** 2"
      ],
      "text/plain": [
       "png \n",
       "  2 "
      ]
     },
     "metadata": {},
     "output_type": "display_data"
    }
   ],
   "source": [
    "outgoing_ligand_order <- c()\n",
    "incoming_ligand_order <- c()\n",
    "# print(1) \n",
    "plot_created <- my_merged_river(obj_out_CON2, pattern = \"outgoing\", disease = \"control\", inhibitory_celltypes, excitatory_celltypes, support_celltypes)\n",
    "# plot_created\n",
    "\n",
    "pdf(file = \"AD_plot/CON_out.pdf\", width=12, height=11)\n",
    "# png(filename=glue(\"AD_plot/CON_out.png\"), width=850, height=700)\n",
    "plot(plot_created)\n",
    "dev.off()\n",
    "\n",
    "plot_created <- my_merged_river(obj_out_AD2, pattern = \"outgoing\", disease = \"AD\", inhibitory_celltypes, excitatory_celltypes, support_celltypes)\n",
    "# plot_created\n",
    "\n",
    "pdf(file = \"AD_plot/AD_out.pdf\", width=12, height=11)\n",
    "# png(filename=glue(\"AD_plot/AD_out.png\"), width=850, height=700)\n",
    "plot(plot_created)\n",
    "dev.off()"
   ]
  },
  {
   "cell_type": "markdown",
   "id": "26da66a1-bd01-422e-958c-13c5c358360f",
   "metadata": {},
   "source": [
    "# barplots (Cell count)"
   ]
  },
  {
   "cell_type": "code",
   "execution_count": 49,
   "id": "e9eb733e-749a-49ff-ba88-9c3bca8d8de6",
   "metadata": {
    "scrolled": true
   },
   "outputs": [
    {
     "data": {
      "text/html": [
       "<strong>png:</strong> 2"
      ],
      "text/latex": [
       "\\textbf{png:} 2"
      ],
      "text/markdown": [
       "**png:** 2"
      ],
      "text/plain": [
       "png \n",
       "  2 "
      ]
     },
     "metadata": {},
     "output_type": "display_data"
    }
   ],
   "source": [
    "# unique(meta$NSForest)\n",
    "# meta_AD <- cellchat@meta[cellchat@meta$disease == 'control',]$subclass\n",
    "meta_CON <- cellchat_con@meta[cellchat_con@meta$disease == 'control',]$subclass\n",
    "frequency_table <- table(meta_CON)\n",
    "\n",
    "# Convert the table to a data frame\n",
    "df <- as.data.frame(frequency_table)\n",
    "\n",
    "# Rename the columns\n",
    "names(df) <- c(\"Value\", \"Frequency\")\n",
    "\n",
    "# Print the data frame\n",
    "# sum(df$Frequency)\n",
    "pdf(file = \"AD_plot/CON_cell_count.pdf\", width=30, height=11)\n",
    "barplot(df$Frequency, names.arg = df$Value, xlab = \"Celltypes\", ylab = \"# of cells\", main = \"Cell counts for CON data\")\n",
    "dev.off()\n"
   ]
  },
  {
   "cell_type": "code",
   "execution_count": 50,
   "id": "d56d831f-28e0-4531-984c-74464f78e645",
   "metadata": {
    "scrolled": true
   },
   "outputs": [
    {
     "data": {
      "text/html": [
       "<strong>png:</strong> 2"
      ],
      "text/latex": [
       "\\textbf{png:} 2"
      ],
      "text/markdown": [
       "**png:** 2"
      ],
      "text/plain": [
       "png \n",
       "  2 "
      ]
     },
     "metadata": {},
     "output_type": "display_data"
    }
   ],
   "source": [
    "# unique(meta$NSForest)\n",
    "meta_AD <- cellchat_ad@meta[cellchat_ad@meta$disease == 'Alzheimers/dementia',]$subclass\n",
    "# meta_AD <- cellchat@meta$subclass\n",
    "# meta_CON <- cellchat@meta[cellchat@meta$disease == 'control',]$subclass\n",
    "frequency_table_AD <- table(meta_AD)\n",
    "\n",
    "# Convert the table to a data frame\n",
    "df_AD <- as.data.frame(frequency_table_AD)\n",
    "\n",
    "# Rename the columns\n",
    "names(df_AD) <- c(\"Value\", \"Frequency\")\n",
    "\n",
    "# Print the data frame\n",
    "# sum(df_AD$Frequency)\n",
    "# length(meta_AD)\n",
    "pdf(file = \"AD_plot/AD_cell_count.pdf\", width=30, height=11)\n",
    "barplot(df_AD$Frequency, names.arg = df_AD$Value, xlab = \"Celltypes\", ylab = \"# of cells\", main = \"Cell counts for AD data\")\n",
    "dev.off()"
   ]
  },
  {
   "cell_type": "markdown",
   "id": "1a1769ff-eb8e-4073-a5ec-00e7d30268ba",
   "metadata": {},
   "source": [
    "# barplots (L-R count)"
   ]
  },
  {
   "cell_type": "code",
   "execution_count": 78,
   "id": "fc6d5e74-d052-4537-a198-67644a394fc4",
   "metadata": {
    "scrolled": true
   },
   "outputs": [],
   "source": [
    "counts_CON <- apply(cellchat_con@netP$prob, c(1, 2), function(x) sum(x != 0))\n",
    "counts_AD <- apply(cellchat_ad@netP$prob, c(1, 2), function(x) sum(x != 0))"
   ]
  },
  {
   "cell_type": "code",
   "execution_count": 71,
   "id": "637df7a1-6d08-4d63-890d-f6ce8aabf195",
   "metadata": {},
   "outputs": [
    {
     "data": {
      "text/html": [
       "<style>\n",
       ".dl-inline {width: auto; margin:0; padding: 0}\n",
       ".dl-inline>dt, .dl-inline>dd {float: none; width: auto; display: inline-block}\n",
       ".dl-inline>dt::after {content: \":\\0020\"; padding-right: .5ex}\n",
       ".dl-inline>dt:not(:first-of-type) {padding-left: .5ex}\n",
       "</style><dl class=dl-inline><dt>Astro</dt><dd>74</dd><dt>Chandelier</dt><dd>31</dd><dt>Endo</dt><dd>35</dd><dt>L2/3 IT</dt><dd>71</dd><dt>L4 IT</dt><dd>34</dd><dt>L5</dt><dd>70</dd><dt>L5/6 NP</dt><dd>68</dd><dt>L6 CT</dt><dd>28</dd><dt>L6 IT</dt><dd>63</dd><dt>L6 IT Car3</dt><dd>83</dd><dt>L6b</dt><dd>55</dd><dt>Lamp5</dt><dd>73</dd><dt>Lamp5 Lhx6</dt><dd>57</dd><dt>Micro/PVM</dt><dd>6</dd><dt>OPC</dt><dd>51</dd><dt>Oligo</dt><dd>14</dd><dt>Pax6</dt><dd>79</dd><dt>Pvalb</dt><dd>68</dd><dt>Sncg</dt><dd>48</dd><dt>Sst</dt><dd>45</dd><dt>Sst Chodl</dt><dd>0</dd><dt>VLMC</dt><dd>44</dd><dt>Vip</dt><dd>43</dd></dl>\n"
      ],
      "text/latex": [
       "\\begin{description*}\n",
       "\\item[Astro] 74\n",
       "\\item[Chandelier] 31\n",
       "\\item[Endo] 35\n",
       "\\item[L2/3 IT] 71\n",
       "\\item[L4 IT] 34\n",
       "\\item[L5] 70\n",
       "\\item[L5/6 NP] 68\n",
       "\\item[L6 CT] 28\n",
       "\\item[L6 IT] 63\n",
       "\\item[L6 IT Car3] 83\n",
       "\\item[L6b] 55\n",
       "\\item[Lamp5] 73\n",
       "\\item[Lamp5 Lhx6] 57\n",
       "\\item[Micro/PVM] 6\n",
       "\\item[OPC] 51\n",
       "\\item[Oligo] 14\n",
       "\\item[Pax6] 79\n",
       "\\item[Pvalb] 68\n",
       "\\item[Sncg] 48\n",
       "\\item[Sst] 45\n",
       "\\item[Sst Chodl] 0\n",
       "\\item[VLMC] 44\n",
       "\\item[Vip] 43\n",
       "\\end{description*}\n"
      ],
      "text/markdown": [
       "Astro\n",
       ":   74Chandelier\n",
       ":   31Endo\n",
       ":   35L2/3 IT\n",
       ":   71L4 IT\n",
       ":   34L5\n",
       ":   70L5/6 NP\n",
       ":   68L6 CT\n",
       ":   28L6 IT\n",
       ":   63L6 IT Car3\n",
       ":   83L6b\n",
       ":   55Lamp5\n",
       ":   73Lamp5 Lhx6\n",
       ":   57Micro/PVM\n",
       ":   6OPC\n",
       ":   51Oligo\n",
       ":   14Pax6\n",
       ":   79Pvalb\n",
       ":   68Sncg\n",
       ":   48Sst\n",
       ":   45Sst Chodl\n",
       ":   0VLMC\n",
       ":   44Vip\n",
       ":   43\n",
       "\n"
      ],
      "text/plain": [
       "     Astro Chandelier       Endo    L2/3 IT      L4 IT         L5    L5/6 NP \n",
       "        74         31         35         71         34         70         68 \n",
       "     L6 CT      L6 IT L6 IT Car3        L6b      Lamp5 Lamp5 Lhx6  Micro/PVM \n",
       "        28         63         83         55         73         57          6 \n",
       "       OPC      Oligo       Pax6      Pvalb       Sncg        Sst  Sst Chodl \n",
       "        51         14         79         68         48         45          0 \n",
       "      VLMC        Vip \n",
       "        44         43 "
      ]
     },
     "metadata": {},
     "output_type": "display_data"
    }
   ],
   "source": [
    "rowSums(counts)\n",
    "colSums(counts)"
   ]
  },
  {
   "cell_type": "code",
   "execution_count": 79,
   "id": "b6e8429e-67ae-4877-b19d-f4f519cec57d",
   "metadata": {},
   "outputs": [
    {
     "data": {
      "text/html": [
       "<strong>png:</strong> 2"
      ],
      "text/latex": [
       "\\textbf{png:} 2"
      ],
      "text/markdown": [
       "**png:** 2"
      ],
      "text/plain": [
       "png \n",
       "  2 "
      ]
     },
     "metadata": {},
     "output_type": "display_data"
    },
    {
     "data": {
      "text/html": [
       "<strong>png:</strong> 2"
      ],
      "text/latex": [
       "\\textbf{png:} 2"
      ],
      "text/markdown": [
       "**png:** 2"
      ],
      "text/plain": [
       "png \n",
       "  2 "
      ]
     },
     "metadata": {},
     "output_type": "display_data"
    }
   ],
   "source": [
    "pdf(file = \"AD_plot/CON_out_L-R_count.pdf\", width=30, height=11)\n",
    "barplot(rowSums(counts_CON), names.arg = names(rowSums(counts_CON)), xlab = \"Celltypes\", ylab = \"# of L-R pairs\", main = \"L-R pairs counts (CON_out)\")\n",
    "dev.off()\n",
    "\n",
    "pdf(file = \"AD_plot/AD_out_L-R_count.pdf\", width=30, height=11)\n",
    "barplot(rowSums(counts_AD), names.arg = names(rowSums(counts_AD)), xlab = \"Celltypes\", ylab = \"# of L-R pairs\", main = \"L-R pairs counts (AD_out)\")\n",
    "dev.off()"
   ]
  },
  {
   "cell_type": "code",
   "execution_count": 80,
   "id": "89367603-26fa-409f-b6b8-02d1b8bc1ecb",
   "metadata": {},
   "outputs": [
    {
     "data": {
      "text/html": [
       "<strong>png:</strong> 2"
      ],
      "text/latex": [
       "\\textbf{png:} 2"
      ],
      "text/markdown": [
       "**png:** 2"
      ],
      "text/plain": [
       "png \n",
       "  2 "
      ]
     },
     "metadata": {},
     "output_type": "display_data"
    },
    {
     "data": {
      "text/html": [
       "<strong>png:</strong> 2"
      ],
      "text/latex": [
       "\\textbf{png:} 2"
      ],
      "text/markdown": [
       "**png:** 2"
      ],
      "text/plain": [
       "png \n",
       "  2 "
      ]
     },
     "metadata": {},
     "output_type": "display_data"
    }
   ],
   "source": [
    "pdf(file = \"AD_plot/CON_in_L-R_count.pdf\", width=30, height=11)\n",
    "barplot(colSums(counts_CON), names.arg = names(colSums(counts_CON)), xlab = \"Celltypes\", ylab = \"# of L-R pairs\", main = \"L-R pairs counts (CON_in)\")\n",
    "dev.off()\n",
    "\n",
    "pdf(file = \"AD_plot/AD_in_L-R_count.pdf\", width=30, height=11)\n",
    "barplot(colSums(counts_AD), names.arg = names(colSums(counts_AD)), xlab = \"Celltypes\", ylab = \"# of L-R pairs\", main = \"L-R pairs counts (AD_in)\")\n",
    "dev.off()"
   ]
  },
  {
   "cell_type": "markdown",
   "id": "345d75cc-8a59-40e0-a4d4-075451c1354a",
   "metadata": {},
   "source": [
    "# Correlation test"
   ]
  },
  {
   "cell_type": "code",
   "execution_count": 86,
   "id": "7413f0a3-0414-49ed-9848-b86ff9bbfba6",
   "metadata": {},
   "outputs": [
    {
     "data": {
      "text/html": [
       "<strong>cor:</strong> -0.10399313713848"
      ],
      "text/latex": [
       "\\textbf{cor:} -0.10399313713848"
      ],
      "text/markdown": [
       "**cor:** -0.10399313713848"
      ],
      "text/plain": [
       "       cor \n",
       "-0.1039931 "
      ]
     },
     "metadata": {},
     "output_type": "display_data"
    },
    {
     "data": {
      "text/html": [
       "<strong>cor:</strong> 0.174695868142936"
      ],
      "text/latex": [
       "\\textbf{cor:} 0.174695868142936"
      ],
      "text/markdown": [
       "**cor:** 0.174695868142936"
      ],
      "text/plain": [
       "      cor \n",
       "0.1746959 "
      ]
     },
     "metadata": {},
     "output_type": "display_data"
    },
    {
     "data": {
      "text/html": [
       "<strong>cor:</strong> -0.265672928455904"
      ],
      "text/latex": [
       "\\textbf{cor:} -0.265672928455904"
      ],
      "text/markdown": [
       "**cor:** -0.265672928455904"
      ],
      "text/plain": [
       "       cor \n",
       "-0.2656729 "
      ]
     },
     "metadata": {},
     "output_type": "display_data"
    },
    {
     "data": {
      "text/html": [
       "<strong>cor:</strong> 0.192592815701993"
      ],
      "text/latex": [
       "\\textbf{cor:} 0.192592815701993"
      ],
      "text/markdown": [
       "**cor:** 0.192592815701993"
      ],
      "text/plain": [
       "      cor \n",
       "0.1925928 "
      ]
     },
     "metadata": {},
     "output_type": "display_data"
    }
   ],
   "source": [
    "correlation_test1 <- cor.test(df$Frequency, rowSums(counts_CON))\n",
    "correlation_test2 <- cor.test(df$Frequency, colSums(counts_CON))\n",
    "correlation_test3 <- cor.test(df_AD$Frequency, rowSums(counts_AD))\n",
    "correlation_test4 <- cor.test(df_AD$Frequency, colSums(counts_AD))\n",
    "\n",
    "\n",
    "correlation_test1$estimate\n",
    "correlation_test2$estimate\n",
    "correlation_test3$estimate\n",
    "correlation_test4$estimate"
   ]
  },
  {
   "cell_type": "code",
   "execution_count": 92,
   "id": "8d7841d0-eff4-4d7f-87b7-120c0d23c806",
   "metadata": {},
   "outputs": [
    {
     "data": {
      "text/html": [
       "<table class=\"dataframe\">\n",
       "<caption>A data.frame: 4 × 1</caption>\n",
       "<thead>\n",
       "\t<tr><th></th><th scope=col>estimate</th></tr>\n",
       "\t<tr><th></th><th scope=col>&lt;dbl&gt;</th></tr>\n",
       "</thead>\n",
       "<tbody>\n",
       "\t<tr><th scope=row>CON_out</th><td>-0.1039931</td></tr>\n",
       "\t<tr><th scope=row>CON_in</th><td> 0.1746959</td></tr>\n",
       "\t<tr><th scope=row>AD_out</th><td>-0.2656729</td></tr>\n",
       "\t<tr><th scope=row>AD_in</th><td> 0.1925928</td></tr>\n",
       "</tbody>\n",
       "</table>\n"
      ],
      "text/latex": [
       "A data.frame: 4 × 1\n",
       "\\begin{tabular}{r|l}\n",
       "  & estimate\\\\\n",
       "  & <dbl>\\\\\n",
       "\\hline\n",
       "\tCON\\_out & -0.1039931\\\\\n",
       "\tCON\\_in &  0.1746959\\\\\n",
       "\tAD\\_out & -0.2656729\\\\\n",
       "\tAD\\_in &  0.1925928\\\\\n",
       "\\end{tabular}\n"
      ],
      "text/markdown": [
       "\n",
       "A data.frame: 4 × 1\n",
       "\n",
       "| <!--/--> | estimate &lt;dbl&gt; |\n",
       "|---|---|\n",
       "| CON_out | -0.1039931 |\n",
       "| CON_in |  0.1746959 |\n",
       "| AD_out | -0.2656729 |\n",
       "| AD_in |  0.1925928 |\n",
       "\n"
      ],
      "text/plain": [
       "        estimate  \n",
       "CON_out -0.1039931\n",
       "CON_in   0.1746959\n",
       "AD_out  -0.2656729\n",
       "AD_in    0.1925928"
      ]
     },
     "metadata": {},
     "output_type": "display_data"
    }
   ],
   "source": [
    "corr_df <- as.data.frame(c(correlation_test1$estimate,\n",
    "            correlation_test2$estimate,\n",
    "            correlation_test3$estimate,\n",
    "            correlation_test4$estimate))\n",
    "colnames(corr_df) <- c('estimate')\n",
    "rownames(corr_df) <- c('CON_out', 'CON_in', 'AD_out', 'AD_in')\n",
    "corr_df"
   ]
  }
 ],
 "metadata": {
  "kernelspec": {
   "display_name": "R [conda env:.conda-R_env] *",
   "language": "R",
   "name": "conda-env-.conda-R_env-r"
  },
  "language_info": {
   "codemirror_mode": "r",
   "file_extension": ".r",
   "mimetype": "text/x-r-source",
   "name": "R",
   "pygments_lexer": "r",
   "version": "4.2.0"
  }
 },
 "nbformat": 4,
 "nbformat_minor": 5
}
