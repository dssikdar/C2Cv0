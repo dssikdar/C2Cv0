{
 "cells": [
  {
   "cell_type": "code",
   "execution_count": 14,
   "metadata": {},
   "outputs": [
    {
     "data": {
      "text/plain": [
       "(  Paper:  https://alzres.biomedcentral.com/articles/10.1186/s13195-017-0252-z\n",
       " 0    A2M                                                NaN                  \n",
       " 1  AASDH                                                NaN                  \n",
       " 2  ABCA1                                                NaN                  \n",
       " 3  ABCA2                                                NaN                  \n",
       " 4  ABCA7                                                NaN                  ,\n",
       "    Paper: https://www.nature.com/articles/s41588-022-01208-7\n",
       " 0    Gene                                              Notes\n",
       " 1   SORL1                                                NaN\n",
       " 2   TREM2                                                NaN\n",
       " 3   ABCA7                                                NaN\n",
       " 4  ATP8B4                                                NaN,\n",
       "      Paper: https://www.nature.com/articles/s41588-021-00921-z   Unnamed: 2  \\\n",
       " 0      AGRN                                          1:985,377  rs113020870   \n",
       " 1     TNIP1                                      5:150,432,388     rs871269   \n",
       " 2    HAVCR2                                      5:156,526,331    rs6891966   \n",
       " 3  HLA-DRB1                                       6:32,583,813    rs1846190   \n",
       " 4     TREM2                                       6:40,942,196  rs187370608   \n",
       " \n",
       "   Unnamed: 3  Unnamed: 4    Unnamed: 5 Unnamed: 6  \n",
       " 0          T      0.0041   3.83 × 10−8    776,379  \n",
       " 1          T      0.3200   1.37 × 10−9  1,089,904  \n",
       " 2          G      0.7700  7.91 × 10−10  1,089,230  \n",
       " 3          A      0.3000  2.66 × 10−14    754,040  \n",
       " 4          G      0.9970  1.26 × 10−25    791,668  ,\n",
       "      Paper: https://www.nature.com/articles/s41588-022-01024-z Unnamed: 2\n",
       " 0      Gene                                    Confidence Tier        NaN\n",
       " 1     SORT1                                                  1        NaN\n",
       " 2  ITGB1BP1                                                  2        NaN\n",
       " 3    ADAM17                                                  1        NaN\n",
       " 4   EIF2AK2                                                  2        NaN)"
      ]
     },
     "execution_count": 14,
     "metadata": {},
     "output_type": "execute_result"
    }
   ],
   "source": [
    "import pandas as pd\n",
    "\n",
    "network_path = 'AD Risk Genes all 3 - Network Analysis [Analyzing the genes...].csv'\n",
    "exome_path = 'AD Risk Genes all 3 - Exome [Exome sequencing identifies...].csv'\n",
    "gwas_path = 'AD Risk Genes all 3 - GWAS [A genome-wide...].csv'\n",
    "gwas2_path = 'AD Risk Genes all 3 - GWAS 2 [New insights into...] .csv'\n",
    "\n",
    "network_df = pd.read_csv(network_path)\n",
    "exome_df = pd.read_csv(exome_path)\n",
    "gwas_df = pd.read_csv(gwas_path)\n",
    "gwas2_df = pd.read_csv(gwas2_path)\n",
    "\n",
    "network_df.head(), exome_df.head(), gwas_df.head(), gwas2_df.head()\n"
   ]
  },
  {
   "cell_type": "code",
   "execution_count": 15,
   "metadata": {},
   "outputs": [
    {
     "data": {
      "text/plain": [
       "{'Network': 430, 'Exome': 7, 'GWAS': 38, 'GWAS2': 55}"
      ]
     },
     "execution_count": 15,
     "metadata": {},
     "output_type": "execute_result"
    }
   ],
   "source": [
    "network_genes = network_df.iloc[:, 0].dropna().unique()\n",
    "network_gene_count = len(network_genes)\n",
    "exome_genes = exome_df.iloc[:, 0].dropna().unique()\n",
    "exome_gene_count = len(exome_genes)\n",
    "gwas_genes = gwas_df.iloc[:, 0].dropna().unique()\n",
    "gwas_gene_count = len(gwas_genes)\n",
    "gwas2_genes = gwas2_df.iloc[:, 0].dropna().unique()\n",
    "gwas2_gene_count = len(gwas2_genes)\n",
    "\n",
    "gene_counts = {\n",
    "    \"Network\": network_gene_count,\n",
    "    \"Exome\": exome_gene_count,\n",
    "    \"GWAS\": gwas_gene_count,\n",
    "    \"GWAS2\": gwas2_gene_count\n",
    "}\n",
    "\n",
    "gene_counts\n",
    "\n"
   ]
  },
  {
   "cell_type": "code",
   "execution_count": 17,
   "metadata": {},
   "outputs": [
    {
     "data": {
      "image/png": "[encoded data removed]",
      "text/plain": [
       "<Figure size 576x576 with 1 Axes>"
      ]
     },
     "metadata": {},
     "output_type": "display_data"
    }
   ],
   "source": [
    "from matplotlib_venn import venn2\n",
    "import matplotlib.pyplot as plt\n",
    "import matplotlib\n",
    "\n",
    "matthew_genes = set(network_genes)  # Matthew's genes from Network\n",
    "vivek_genes = set(exome_genes).union(set(gwas_genes), set(gwas2_genes))  # Vivek's genes from Exome, GWAS, GWAS2\n",
    "\n",
    "plt.figure(figsize=(8, 8))\n",
    "venn = venn2([matthew_genes, vivek_genes], ('Matthew', 'Vivek'))\n",
    "\n",
    "plt.title('Venn Diagram of Genes between Matthew and Vivek')\n",
    "\n",
    "plt.savefig('venn_diagram.pdf')\n",
    "plt.savefig('venn_diagram.png')\n",
    "plt.show()\n"
   ]
  }
 ],
 "metadata": {
  "kernelspec": {
   "display_name": "machine-learning",
   "language": "python",
   "name": "python3"
  },
  "language_info": {
   "codemirror_mode": {
    "name": "ipython",
    "version": 3
   },
   "file_extension": ".py",
   "mimetype": "text/x-python",
   "name": "python",
   "nbconvert_exporter": "python",
   "pygments_lexer": "ipython3",
   "version": "3.8.13"
  }
 },
 "nbformat": 4,
 "nbformat_minor": 2
}
