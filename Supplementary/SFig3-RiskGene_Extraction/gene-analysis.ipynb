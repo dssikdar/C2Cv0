{
 "cells": [
  {
   "cell_type": "code",
   "execution_count": 4,
   "metadata": {},
   "outputs": [
    {
     "name": "stdout",
     "output_type": "stream",
     "text": [
      "Index(['Gene', 'Confidence Tier', 'Notes'], dtype='object')\n",
      "Index(['Gene', 'Notes'], dtype='object')\n",
      "Index(['Gene'], dtype='object')\n"
     ]
    },
    {
     "data": {
      "text/plain": [
       "0        SORT1\n",
       "1     ITGB1BP1\n",
       "2       ADAM17\n",
       "3      EIF2AK2\n",
       "4      CEBPZOS\n",
       "        ...   \n",
       "94        NTN5\n",
       "95        CD33\n",
       "96      LILRB2\n",
       "97       CASS4\n",
       "98         APP\n",
       "Name: Gene, Length: 99, dtype: object"
      ]
     },
     "execution_count": 4,
     "metadata": {},
     "output_type": "execute_result"
    }
   ],
   "source": [
    "import pandas as pd\n",
    "import glob\n",
    "\n",
    "#load each csv in this directory\n",
    "csvs = glob.glob('*.csv')\n",
    "#load each csv into a dataframe\n",
    "dfs = [pd.read_csv(csv) for csv in csvs]\n",
    "\n",
    "#list the columns of each dataframe\n",
    "for df in dfs:\n",
    "    print(df.columns)\n",
    "\n",
    "#concat all the Gene columns\n",
    "genes = pd.concat([df['Gene'] for df in dfs], ignore_index=True)\n",
    "\n",
    "genes\n"
   ]
  },
  {
   "cell_type": "code",
   "execution_count": 9,
   "metadata": {},
   "outputs": [],
   "source": [
    "# load /Users/dylanriffle/Desktop/custom-genesets/Matthew_ALZ.txt into a df\n",
    "df = pd.read_csv('/Users/dylanriffle/Desktop/custom-genesets/Matthew_ALZ.txt', sep='\\t', header=None)\n",
    "df\n",
    "\n",
    "matthew_genes = list(df[0])"
   ]
  },
  {
   "cell_type": "code",
   "execution_count": 15,
   "metadata": {},
   "outputs": [
    {
     "name": "stdout",
     "output_type": "stream",
     "text": [
      "length of matthew_genes:  429\n",
      "length of genes from papers:  86\n",
      "length of intersection: 23\n",
      "length of union: 492\n"
     ]
    }
   ],
   "source": [
    "# intersect mathew_genes with genes\n",
    "matthew_genes = set(matthew_genes)\n",
    "genes = set(genes)\n",
    "intersections = matthew_genes.intersection(genes)\n",
    "\n",
    "# print the number of intersections\n",
    "print(\"length of matthew_genes: \", len(matthew_genes))\n",
    "print(\"length of genes from papers: \", len(genes))\n",
    "print(\"length of intersection:\", len(intersections))\n",
    "print(\"length of union:\", len(matthew_genes.union(genes)))\n",
    "\n"
   ]
  },
  {
   "cell_type": "code",
   "execution_count": 13,
   "metadata": {},
   "outputs": [
    {
     "name": "stdout",
     "output_type": "stream",
     "text": [
      "{'APH1B', 'HLA-DRB1', 'PICALM', 'EIF2AK2', 'CLU', 'ACE', 'ABCA7', 'MME', 'APP', 'TREM2', 'BIN1', 'GRN', 'CASS4', 'SNX1', 'CD2AP', 'FERMT2', 'MS4A4A', 'CR1', 'APOE', 'ABCA1', 'SORL1', 'ADAM10', 'CD33'}\n"
     ]
    }
   ],
   "source": [
    "print(intersections)"
   ]
  },
  {
   "cell_type": "code",
   "execution_count": 16,
   "metadata": {},
   "outputs": [],
   "source": [
    "# save genes as a txt file\n",
    "with open('vivek-paper-genes.txt', 'w') as f:\n",
    "    for gene in genes:\n",
    "        f.write(gene + '\\n')\n"
   ]
  }
 ],
 "metadata": {
  "kernelspec": {
   "display_name": "machine-learning",
   "language": "python",
   "name": "python3"
  },
  "language_info": {
   "codemirror_mode": {
    "name": "ipython",
    "version": 3
   },
   "file_extension": ".py",
   "mimetype": "text/x-python",
   "name": "python",
   "nbconvert_exporter": "python",
   "pygments_lexer": "ipython3",
   "version": "3.8.13"
  },
  "orig_nbformat": 4
 },
 "nbformat": 4,
 "nbformat_minor": 2
}
