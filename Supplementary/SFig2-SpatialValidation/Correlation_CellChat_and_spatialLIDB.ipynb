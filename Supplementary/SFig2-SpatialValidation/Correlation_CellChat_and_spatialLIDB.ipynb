{
 "cells": [
  {
   "cell_type": "code",
   "execution_count": 1,
   "id": "b2be31db-d7c4-4fa8-8c1d-bd3d3a7621b5",
   "metadata": {
    "collapsed": true,
    "jupyter": {
     "outputs_hidden": true
    },
    "scrolled": true
   },
   "outputs": [
    {
     "name": "stderr",
     "output_type": "stream",
     "text": [
      "Loading required package: dplyr\n",
      "\n",
      "\n",
      "Attaching package: ‘dplyr’\n",
      "\n",
      "\n",
      "The following objects are masked from ‘package:stats’:\n",
      "\n",
      "    filter, lag\n",
      "\n",
      "\n",
      "The following objects are masked from ‘package:base’:\n",
      "\n",
      "    intersect, setdiff, setequal, union\n",
      "\n",
      "\n",
      "Loading required package: igraph\n",
      "\n",
      "\n",
      "Attaching package: ‘igraph’\n",
      "\n",
      "\n",
      "The following objects are masked from ‘package:dplyr’:\n",
      "\n",
      "    as_data_frame, groups, union\n",
      "\n",
      "\n",
      "The following objects are masked from ‘package:stats’:\n",
      "\n",
      "    decompose, spectrum\n",
      "\n",
      "\n",
      "The following object is masked from ‘package:base’:\n",
      "\n",
      "    union\n",
      "\n",
      "\n"
     ]
    }
   ],
   "source": [
    "library(ggplot2)\n",
    "library(CellChat)\n",
    "# library(patchwork)\n",
    "# library(Seurat)\n",
    "library(anndata)\n",
    "library(reticulate)"
   ]
  },
  {
   "cell_type": "markdown",
   "id": "f47d4b6c-e9ae-48b7-9a94-1e810e5472f4",
   "metadata": {},
   "source": [
    "# Read cellchat data"
   ]
  },
  {
   "cell_type": "code",
   "execution_count": 3,
   "id": "e5015293-38cc-4740-b887-69af211a0a58",
   "metadata": {},
   "outputs": [],
   "source": [
    "cellchat = readRDS('/extra/zhanglab0/CommonData/AMP-AD/Obj-CellChat/subclass_cellchat_control.rds')"
   ]
  },
  {
   "cell_type": "code",
   "execution_count": 58,
   "id": "dee2e852-8aa1-4a79-bde1-3cfb5267aee1",
   "metadata": {},
   "outputs": [],
   "source": [
    "#cellchat@net$weight"
   ]
  },
  {
   "cell_type": "markdown",
   "id": "3f2e4e28-6ca1-4d0b-a029-68fdbcd5f7ec",
   "metadata": {},
   "source": [
    "# Read spatialLIDB sample data"
   ]
  },
  {
   "cell_type": "code",
   "execution_count": 5,
   "id": "c283de10-7081-4aad-b7bf-ac11d5f79d46",
   "metadata": {},
   "outputs": [],
   "source": [
    "adata = read_h5ad('./adata1.h5ad')"
   ]
  },
  {
   "cell_type": "code",
   "execution_count": 6,
   "id": "1520470b-d73f-45ef-af7b-955825c92a6a",
   "metadata": {
    "scrolled": true
   },
   "outputs": [],
   "source": [
    "# adata$uns$`commot_cluster-max_cell_type-cellchat-total-total`$`communication_matrix`"
   ]
  },
  {
   "cell_type": "markdown",
   "id": "d1efdd9f-8842-48c3-9735-a075252241c0",
   "metadata": {},
   "source": [
    "# convert both to data frame"
   ]
  },
  {
   "cell_type": "code",
   "execution_count": 8,
   "id": "9a56e06a-6bba-4d27-bc92-a6871afb603c",
   "metadata": {},
   "outputs": [],
   "source": [
    "x = as.data.frame(cellchat@net$weight)\n",
    "y = adata$uns$`commot_cluster-max_cell_type-cellchat-total-total`$`communication_matrix`\n",
    "y = py_to_r(y)"
   ]
  },
  {
   "cell_type": "code",
   "execution_count": 59,
   "id": "672a9c4d-4ca8-47ba-bb53-f7e6a841597c",
   "metadata": {},
   "outputs": [],
   "source": [
    "# y"
   ]
  },
  {
   "cell_type": "markdown",
   "id": "9fae75c3-9ed9-45ec-8374-576902432650",
   "metadata": {},
   "source": [
    "# Create temporary 13x23 matrix to store row pooling"
   ]
  },
  {
   "cell_type": "code",
   "execution_count": 61,
   "id": "98341afc-05a6-4073-a463-33a4b2a7fa18",
   "metadata": {
    "scrolled": true
   },
   "outputs": [],
   "source": [
    "# Create a 13x13 matrix filled with zeros\n",
    "my_matrix <- matrix(0, nrow = 13, ncol = 23)\n",
    "df <- as.data.frame(my_matrix)\n",
    "\n",
    "# Optionally, you can name the columns if needed\n",
    "colnames(df) <- colnames(x)\n",
    "\n",
    "# Optionally, you can name the rows if needed\n",
    "rownames(df) <- rownames(y)\n",
    "\n",
    "# View the data frame\n",
    "# df\n"
   ]
  },
  {
   "cell_type": "markdown",
   "id": "9cd1c3e1-8c2b-41d0-8bce-76b03195f091",
   "metadata": {},
   "source": [
    "# pooling matrix"
   ]
  },
  {
   "cell_type": "code",
   "execution_count": 62,
   "id": "d1b0ec79-ecda-4bff-8c39-58bb8e675027",
   "metadata": {
    "scrolled": true
   },
   "outputs": [
    {
     "data": {
      "text/html": [
       "<table class=\"dataframe\">\n",
       "<caption>A data.frame: 13 × 23</caption>\n",
       "<thead>\n",
       "\t<tr><th></th><th scope=col>Astro</th><th scope=col>Chandelier</th><th scope=col>Endo</th><th scope=col>L2/3 IT</th><th scope=col>L4 IT</th><th scope=col>L5</th><th scope=col>L5/6 NP</th><th scope=col>L6 CT</th><th scope=col>L6 IT</th><th scope=col>L6 IT Car3</th><th scope=col>⋯</th><th scope=col>Micro/PVM</th><th scope=col>OPC</th><th scope=col>Oligo</th><th scope=col>Pax6</th><th scope=col>Pvalb</th><th scope=col>Sncg</th><th scope=col>Sst</th><th scope=col>Sst Chodl</th><th scope=col>VLMC</th><th scope=col>Vip</th></tr>\n",
       "\t<tr><th></th><th scope=col>&lt;dbl&gt;</th><th scope=col>&lt;dbl&gt;</th><th scope=col>&lt;dbl&gt;</th><th scope=col>&lt;dbl&gt;</th><th scope=col>&lt;dbl&gt;</th><th scope=col>&lt;dbl&gt;</th><th scope=col>&lt;dbl&gt;</th><th scope=col>&lt;dbl&gt;</th><th scope=col>&lt;dbl&gt;</th><th scope=col>&lt;dbl&gt;</th><th scope=col>⋯</th><th scope=col>&lt;dbl&gt;</th><th scope=col>&lt;dbl&gt;</th><th scope=col>&lt;dbl&gt;</th><th scope=col>&lt;dbl&gt;</th><th scope=col>&lt;dbl&gt;</th><th scope=col>&lt;dbl&gt;</th><th scope=col>&lt;dbl&gt;</th><th scope=col>&lt;dbl&gt;</th><th scope=col>&lt;dbl&gt;</th><th scope=col>&lt;dbl&gt;</th></tr>\n",
       "</thead>\n",
       "<tbody>\n",
       "\t<tr><th scope=row>astro</th><td>0</td><td>0</td><td>0</td><td>0</td><td>0</td><td>0</td><td>0</td><td>0</td><td>0</td><td>0</td><td>⋯</td><td>0</td><td>0</td><td>0</td><td>0</td><td>0</td><td>0</td><td>0</td><td>0</td><td>0</td><td>0</td></tr>\n",
       "\t<tr><th scope=row>endomural</th><td>0</td><td>0</td><td>0</td><td>0</td><td>0</td><td>0</td><td>0</td><td>0</td><td>0</td><td>0</td><td>⋯</td><td>0</td><td>0</td><td>0</td><td>0</td><td>0</td><td>0</td><td>0</td><td>0</td><td>0</td><td>0</td></tr>\n",
       "\t<tr><th scope=row>excit_l2_3</th><td>0</td><td>0</td><td>0</td><td>0</td><td>0</td><td>0</td><td>0</td><td>0</td><td>0</td><td>0</td><td>⋯</td><td>0</td><td>0</td><td>0</td><td>0</td><td>0</td><td>0</td><td>0</td><td>0</td><td>0</td><td>0</td></tr>\n",
       "\t<tr><th scope=row>excit_l3</th><td>0</td><td>0</td><td>0</td><td>0</td><td>0</td><td>0</td><td>0</td><td>0</td><td>0</td><td>0</td><td>⋯</td><td>0</td><td>0</td><td>0</td><td>0</td><td>0</td><td>0</td><td>0</td><td>0</td><td>0</td><td>0</td></tr>\n",
       "\t<tr><th scope=row>excit_l3_4_5</th><td>0</td><td>0</td><td>0</td><td>0</td><td>0</td><td>0</td><td>0</td><td>0</td><td>0</td><td>0</td><td>⋯</td><td>0</td><td>0</td><td>0</td><td>0</td><td>0</td><td>0</td><td>0</td><td>0</td><td>0</td><td>0</td></tr>\n",
       "\t<tr><th scope=row>excit_l4</th><td>0</td><td>0</td><td>0</td><td>0</td><td>0</td><td>0</td><td>0</td><td>0</td><td>0</td><td>0</td><td>⋯</td><td>0</td><td>0</td><td>0</td><td>0</td><td>0</td><td>0</td><td>0</td><td>0</td><td>0</td><td>0</td></tr>\n",
       "\t<tr><th scope=row>excit_l5</th><td>0</td><td>0</td><td>0</td><td>0</td><td>0</td><td>0</td><td>0</td><td>0</td><td>0</td><td>0</td><td>⋯</td><td>0</td><td>0</td><td>0</td><td>0</td><td>0</td><td>0</td><td>0</td><td>0</td><td>0</td><td>0</td></tr>\n",
       "\t<tr><th scope=row>excit_l5_6</th><td>0</td><td>0</td><td>0</td><td>0</td><td>0</td><td>0</td><td>0</td><td>0</td><td>0</td><td>0</td><td>⋯</td><td>0</td><td>0</td><td>0</td><td>0</td><td>0</td><td>0</td><td>0</td><td>0</td><td>0</td><td>0</td></tr>\n",
       "\t<tr><th scope=row>excit_l6</th><td>0</td><td>0</td><td>0</td><td>0</td><td>0</td><td>0</td><td>0</td><td>0</td><td>0</td><td>0</td><td>⋯</td><td>0</td><td>0</td><td>0</td><td>0</td><td>0</td><td>0</td><td>0</td><td>0</td><td>0</td><td>0</td></tr>\n",
       "\t<tr><th scope=row>inhib</th><td>0</td><td>0</td><td>0</td><td>0</td><td>0</td><td>0</td><td>0</td><td>0</td><td>0</td><td>0</td><td>⋯</td><td>0</td><td>0</td><td>0</td><td>0</td><td>0</td><td>0</td><td>0</td><td>0</td><td>0</td><td>0</td></tr>\n",
       "\t<tr><th scope=row>micro</th><td>0</td><td>0</td><td>0</td><td>0</td><td>0</td><td>0</td><td>0</td><td>0</td><td>0</td><td>0</td><td>⋯</td><td>0</td><td>0</td><td>0</td><td>0</td><td>0</td><td>0</td><td>0</td><td>0</td><td>0</td><td>0</td></tr>\n",
       "\t<tr><th scope=row>oligo</th><td>0</td><td>0</td><td>0</td><td>0</td><td>0</td><td>0</td><td>0</td><td>0</td><td>0</td><td>0</td><td>⋯</td><td>0</td><td>0</td><td>0</td><td>0</td><td>0</td><td>0</td><td>0</td><td>0</td><td>0</td><td>0</td></tr>\n",
       "\t<tr><th scope=row>opc</th><td>0</td><td>0</td><td>0</td><td>0</td><td>0</td><td>0</td><td>0</td><td>0</td><td>0</td><td>0</td><td>⋯</td><td>0</td><td>0</td><td>0</td><td>0</td><td>0</td><td>0</td><td>0</td><td>0</td><td>0</td><td>0</td></tr>\n",
       "</tbody>\n",
       "</table>\n"
      ],
      "text/latex": [
       "A data.frame: 13 × 23\n",
       "\\begin{tabular}{r|lllllllllllllllllllll}\n",
       "  & Astro & Chandelier & Endo & L2/3 IT & L4 IT & L5 & L5/6 NP & L6 CT & L6 IT & L6 IT Car3 & ⋯ & Micro/PVM & OPC & Oligo & Pax6 & Pvalb & Sncg & Sst & Sst Chodl & VLMC & Vip\\\\\n",
       "  & <dbl> & <dbl> & <dbl> & <dbl> & <dbl> & <dbl> & <dbl> & <dbl> & <dbl> & <dbl> & ⋯ & <dbl> & <dbl> & <dbl> & <dbl> & <dbl> & <dbl> & <dbl> & <dbl> & <dbl> & <dbl>\\\\\n",
       "\\hline\n",
       "\tastro & 0 & 0 & 0 & 0 & 0 & 0 & 0 & 0 & 0 & 0 & ⋯ & 0 & 0 & 0 & 0 & 0 & 0 & 0 & 0 & 0 & 0\\\\\n",
       "\tendomural & 0 & 0 & 0 & 0 & 0 & 0 & 0 & 0 & 0 & 0 & ⋯ & 0 & 0 & 0 & 0 & 0 & 0 & 0 & 0 & 0 & 0\\\\\n",
       "\texcit\\_l2\\_3 & 0 & 0 & 0 & 0 & 0 & 0 & 0 & 0 & 0 & 0 & ⋯ & 0 & 0 & 0 & 0 & 0 & 0 & 0 & 0 & 0 & 0\\\\\n",
       "\texcit\\_l3 & 0 & 0 & 0 & 0 & 0 & 0 & 0 & 0 & 0 & 0 & ⋯ & 0 & 0 & 0 & 0 & 0 & 0 & 0 & 0 & 0 & 0\\\\\n",
       "\texcit\\_l3\\_4\\_5 & 0 & 0 & 0 & 0 & 0 & 0 & 0 & 0 & 0 & 0 & ⋯ & 0 & 0 & 0 & 0 & 0 & 0 & 0 & 0 & 0 & 0\\\\\n",
       "\texcit\\_l4 & 0 & 0 & 0 & 0 & 0 & 0 & 0 & 0 & 0 & 0 & ⋯ & 0 & 0 & 0 & 0 & 0 & 0 & 0 & 0 & 0 & 0\\\\\n",
       "\texcit\\_l5 & 0 & 0 & 0 & 0 & 0 & 0 & 0 & 0 & 0 & 0 & ⋯ & 0 & 0 & 0 & 0 & 0 & 0 & 0 & 0 & 0 & 0\\\\\n",
       "\texcit\\_l5\\_6 & 0 & 0 & 0 & 0 & 0 & 0 & 0 & 0 & 0 & 0 & ⋯ & 0 & 0 & 0 & 0 & 0 & 0 & 0 & 0 & 0 & 0\\\\\n",
       "\texcit\\_l6 & 0 & 0 & 0 & 0 & 0 & 0 & 0 & 0 & 0 & 0 & ⋯ & 0 & 0 & 0 & 0 & 0 & 0 & 0 & 0 & 0 & 0\\\\\n",
       "\tinhib & 0 & 0 & 0 & 0 & 0 & 0 & 0 & 0 & 0 & 0 & ⋯ & 0 & 0 & 0 & 0 & 0 & 0 & 0 & 0 & 0 & 0\\\\\n",
       "\tmicro & 0 & 0 & 0 & 0 & 0 & 0 & 0 & 0 & 0 & 0 & ⋯ & 0 & 0 & 0 & 0 & 0 & 0 & 0 & 0 & 0 & 0\\\\\n",
       "\toligo & 0 & 0 & 0 & 0 & 0 & 0 & 0 & 0 & 0 & 0 & ⋯ & 0 & 0 & 0 & 0 & 0 & 0 & 0 & 0 & 0 & 0\\\\\n",
       "\topc & 0 & 0 & 0 & 0 & 0 & 0 & 0 & 0 & 0 & 0 & ⋯ & 0 & 0 & 0 & 0 & 0 & 0 & 0 & 0 & 0 & 0\\\\\n",
       "\\end{tabular}\n"
      ],
      "text/markdown": [
       "\n",
       "A data.frame: 13 × 23\n",
       "\n",
       "| <!--/--> | Astro &lt;dbl&gt; | Chandelier &lt;dbl&gt; | Endo &lt;dbl&gt; | L2/3 IT &lt;dbl&gt; | L4 IT &lt;dbl&gt; | L5 &lt;dbl&gt; | L5/6 NP &lt;dbl&gt; | L6 CT &lt;dbl&gt; | L6 IT &lt;dbl&gt; | L6 IT Car3 &lt;dbl&gt; | ⋯ ⋯ | Micro/PVM &lt;dbl&gt; | OPC &lt;dbl&gt; | Oligo &lt;dbl&gt; | Pax6 &lt;dbl&gt; | Pvalb &lt;dbl&gt; | Sncg &lt;dbl&gt; | Sst &lt;dbl&gt; | Sst Chodl &lt;dbl&gt; | VLMC &lt;dbl&gt; | Vip &lt;dbl&gt; |\n",
       "|---|---|---|---|---|---|---|---|---|---|---|---|---|---|---|---|---|---|---|---|---|---|\n",
       "| astro | 0 | 0 | 0 | 0 | 0 | 0 | 0 | 0 | 0 | 0 | ⋯ | 0 | 0 | 0 | 0 | 0 | 0 | 0 | 0 | 0 | 0 |\n",
       "| endomural | 0 | 0 | 0 | 0 | 0 | 0 | 0 | 0 | 0 | 0 | ⋯ | 0 | 0 | 0 | 0 | 0 | 0 | 0 | 0 | 0 | 0 |\n",
       "| excit_l2_3 | 0 | 0 | 0 | 0 | 0 | 0 | 0 | 0 | 0 | 0 | ⋯ | 0 | 0 | 0 | 0 | 0 | 0 | 0 | 0 | 0 | 0 |\n",
       "| excit_l3 | 0 | 0 | 0 | 0 | 0 | 0 | 0 | 0 | 0 | 0 | ⋯ | 0 | 0 | 0 | 0 | 0 | 0 | 0 | 0 | 0 | 0 |\n",
       "| excit_l3_4_5 | 0 | 0 | 0 | 0 | 0 | 0 | 0 | 0 | 0 | 0 | ⋯ | 0 | 0 | 0 | 0 | 0 | 0 | 0 | 0 | 0 | 0 |\n",
       "| excit_l4 | 0 | 0 | 0 | 0 | 0 | 0 | 0 | 0 | 0 | 0 | ⋯ | 0 | 0 | 0 | 0 | 0 | 0 | 0 | 0 | 0 | 0 |\n",
       "| excit_l5 | 0 | 0 | 0 | 0 | 0 | 0 | 0 | 0 | 0 | 0 | ⋯ | 0 | 0 | 0 | 0 | 0 | 0 | 0 | 0 | 0 | 0 |\n",
       "| excit_l5_6 | 0 | 0 | 0 | 0 | 0 | 0 | 0 | 0 | 0 | 0 | ⋯ | 0 | 0 | 0 | 0 | 0 | 0 | 0 | 0 | 0 | 0 |\n",
       "| excit_l6 | 0 | 0 | 0 | 0 | 0 | 0 | 0 | 0 | 0 | 0 | ⋯ | 0 | 0 | 0 | 0 | 0 | 0 | 0 | 0 | 0 | 0 |\n",
       "| inhib | 0 | 0 | 0 | 0 | 0 | 0 | 0 | 0 | 0 | 0 | ⋯ | 0 | 0 | 0 | 0 | 0 | 0 | 0 | 0 | 0 | 0 |\n",
       "| micro | 0 | 0 | 0 | 0 | 0 | 0 | 0 | 0 | 0 | 0 | ⋯ | 0 | 0 | 0 | 0 | 0 | 0 | 0 | 0 | 0 | 0 |\n",
       "| oligo | 0 | 0 | 0 | 0 | 0 | 0 | 0 | 0 | 0 | 0 | ⋯ | 0 | 0 | 0 | 0 | 0 | 0 | 0 | 0 | 0 | 0 |\n",
       "| opc | 0 | 0 | 0 | 0 | 0 | 0 | 0 | 0 | 0 | 0 | ⋯ | 0 | 0 | 0 | 0 | 0 | 0 | 0 | 0 | 0 | 0 |\n",
       "\n"
      ],
      "text/plain": [
       "             Astro Chandelier Endo L2/3 IT L4 IT L5 L5/6 NP L6 CT L6 IT\n",
       "astro        0     0          0    0       0     0  0       0     0    \n",
       "endomural    0     0          0    0       0     0  0       0     0    \n",
       "excit_l2_3   0     0          0    0       0     0  0       0     0    \n",
       "excit_l3     0     0          0    0       0     0  0       0     0    \n",
       "excit_l3_4_5 0     0          0    0       0     0  0       0     0    \n",
       "excit_l4     0     0          0    0       0     0  0       0     0    \n",
       "excit_l5     0     0          0    0       0     0  0       0     0    \n",
       "excit_l5_6   0     0          0    0       0     0  0       0     0    \n",
       "excit_l6     0     0          0    0       0     0  0       0     0    \n",
       "inhib        0     0          0    0       0     0  0       0     0    \n",
       "micro        0     0          0    0       0     0  0       0     0    \n",
       "oligo        0     0          0    0       0     0  0       0     0    \n",
       "opc          0     0          0    0       0     0  0       0     0    \n",
       "             L6 IT Car3 ⋯ Micro/PVM OPC Oligo Pax6 Pvalb Sncg Sst Sst Chodl\n",
       "astro        0          ⋯ 0         0   0     0    0     0    0   0        \n",
       "endomural    0          ⋯ 0         0   0     0    0     0    0   0        \n",
       "excit_l2_3   0          ⋯ 0         0   0     0    0     0    0   0        \n",
       "excit_l3     0          ⋯ 0         0   0     0    0     0    0   0        \n",
       "excit_l3_4_5 0          ⋯ 0         0   0     0    0     0    0   0        \n",
       "excit_l4     0          ⋯ 0         0   0     0    0     0    0   0        \n",
       "excit_l5     0          ⋯ 0         0   0     0    0     0    0   0        \n",
       "excit_l5_6   0          ⋯ 0         0   0     0    0     0    0   0        \n",
       "excit_l6     0          ⋯ 0         0   0     0    0     0    0   0        \n",
       "inhib        0          ⋯ 0         0   0     0    0     0    0   0        \n",
       "micro        0          ⋯ 0         0   0     0    0     0    0   0        \n",
       "oligo        0          ⋯ 0         0   0     0    0     0    0   0        \n",
       "opc          0          ⋯ 0         0   0     0    0     0    0   0        \n",
       "             VLMC Vip\n",
       "astro        0    0  \n",
       "endomural    0    0  \n",
       "excit_l2_3   0    0  \n",
       "excit_l3     0    0  \n",
       "excit_l3_4_5 0    0  \n",
       "excit_l4     0    0  \n",
       "excit_l5     0    0  \n",
       "excit_l5_6   0    0  \n",
       "excit_l6     0    0  \n",
       "inhib        0    0  \n",
       "micro        0    0  \n",
       "oligo        0    0  \n",
       "opc          0    0  "
      ]
     },
     "metadata": {},
     "output_type": "display_data"
    }
   ],
   "source": [
    "# Create a 13x23 matrix filled with zeros\n",
    "my_matrix <- matrix(0, nrow = 13, ncol = 23)\n",
    "df <- as.data.frame(my_matrix)\n",
    "\n",
    "# Optionally, you can name the columns if needed\n",
    "colnames(df) <- colnames(x)\n",
    "\n",
    "# Optionally, you can name the rows if needed\n",
    "rownames(df) <- rownames(y)\n",
    "\n",
    "# View the data frame\n",
    "df"
   ]
  },
  {
   "cell_type": "code",
   "execution_count": 23,
   "id": "1e36c2c8-719e-4dde-90e9-f2f798442d82",
   "metadata": {},
   "outputs": [],
   "source": [
    "# summing rows for opc\n",
    "opc = x$'OPC'\n",
    "\n",
    "# summing rows for excit_l4\n",
    "excit_l4 = x$'L4 IT'\n",
    "\n",
    "# summing rows for astro\n",
    "astro = x$'Astro'\n",
    "\n",
    "# summing rows for inhib\n",
    "inhib = x$'Chandelier' + x$'Lamp5'+ x$'Lamp5 Lhx6'+ x$'Pax6'+ x$'Pvalb'+ x$'Sncg'+ x$'Sst'+ x$'Sst Chodl'+ x$'Vip' \n",
    "\n",
    "# summing rows for endomural\n",
    "endomural = x$'Endo'\n",
    "\n",
    "# summing rows for excit_l3\n",
    "\n",
    "# summing rows for excit_l5_6\n",
    "excit_l5_6 = x$'L5/6 NP'\n",
    "\n",
    "# summing rows for excit_l2_3\n",
    "excit_l2_3 = x$'L2/3 IT'\n",
    "\n",
    "# summing rows for micro\n",
    "micro = x$'Micro/PVM'\n",
    "\n",
    "# summing rows for oligo = \n",
    "oligo = x$'Oligo'\n",
    "\n",
    "# summing rows for excit_l5\n",
    "excit_l5 = x$'L5'\n",
    "\n",
    "# summing rows for excit_l6\n",
    "excit_l6 = x$'L6 CT' + x$'L6 IT' + x$'L6 IT Car3' + x$'L6b' \n",
    "\n",
    "# summing rows for excit_l3_4_5\n",
    "excit_l3_4_5 = x$'VLMC'\n",
    "\n",
    "df['astro',] = astro\n",
    "df['endomural',] = endomural\n",
    "df['excit_l2_3',] = excit_l2_3\n",
    "# df[1,] = excit_l3\n",
    "df['excit_l3_4_5',] = excit_l3_4_5\n",
    "df['excit_l4',] = excit_l4\n",
    "df['excit_l5',] = excit_l5\n",
    "df['excit_l5_6',] = excit_l5_6\n",
    "df['excit_l6',] = excit_l6\n",
    "df['inhib',] = inhib\n",
    "df['micro',] = micro\n",
    "df['oligo',] = oligo\n",
    "df['opc',] = opc"
   ]
  },
  {
   "cell_type": "code",
   "execution_count": 63,
   "id": "0ab37091-757c-4451-b656-77f84ace3043",
   "metadata": {},
   "outputs": [],
   "source": [
    "# df"
   ]
  },
  {
   "cell_type": "markdown",
   "id": "d3abd2d2-68dd-4264-b0ca-cc970947240a",
   "metadata": {},
   "source": [
    "## pooling columns from temporary 13x23 matrix"
   ]
  },
  {
   "cell_type": "code",
   "execution_count": 27,
   "id": "d2a03a09-750f-4b15-9335-97ef5a0228d0",
   "metadata": {},
   "outputs": [],
   "source": [
    "# summing cols for opc\n",
    "col_opc = df['OPC']\n",
    "\n",
    "# summing cols for excit_l4\n",
    "col_excit_l4 = df['L4 IT']\n",
    "\n",
    "# summing cols for astro\n",
    "col_astro = df['Astro']\n",
    "\n",
    "# summing cols for inhib\n",
    "col_inhib = df['Chandelier'] + df['Lamp5']+ df['Lamp5 Lhx6']+ df['Pax6']+ df['Pvalb']+ df['Sncg']+ df['Sst']+ df['Sst Chodl']+ df['Vip'] \n",
    "\n",
    "# summing cols for endomural\n",
    "col_endomural = df['Endo']\n",
    "\n",
    "# summing cols for excit_l3\n",
    "\n",
    "# summing cols for excit_l5_6\n",
    "col_excit_l5_6 = df['L5/6 NP']\n",
    "\n",
    "# summing cols for excit_l2_3\n",
    "col_excit_l2_3 = df['L2/3 IT']\n",
    "\n",
    "# summing cols for micro\n",
    "col_micro = df['Micro/PVM']\n",
    "\n",
    "# summing cols for oligo = \n",
    "col_oligo = df['Oligo']\n",
    "\n",
    "# summing cols for excit_l5\n",
    "col_excit_l5 = df['L5']\n",
    "\n",
    "# summing cols for excit_l6\n",
    "col_excit_l6 = df['L6 CT'] + df['L6 IT'] + df['L6 IT Car3'] + df['L6b']\n",
    "\n",
    "# summing cols for excit_l3_4_5\n",
    "col_excit_l3_4_5 = df['VLMC']\n"
   ]
  },
  {
   "cell_type": "markdown",
   "id": "72a60bfc-f6b1-40e9-b260-be91e6d1c0b9",
   "metadata": {},
   "source": [
    "# create a 13x13 matrix to store pooling from both row and columns"
   ]
  },
  {
   "cell_type": "code",
   "execution_count": 30,
   "id": "1569660d-c4da-46d8-8127-b3e0424598b0",
   "metadata": {},
   "outputs": [
    {
     "data": {
      "text/html": [
       "<table class=\"dataframe\">\n",
       "<caption>A data.frame: 13 × 13</caption>\n",
       "<thead>\n",
       "\t<tr><th></th><th scope=col>astro</th><th scope=col>endomural</th><th scope=col>excit_l2_3</th><th scope=col>excit_l3</th><th scope=col>excit_l3_4_5</th><th scope=col>excit_l4</th><th scope=col>excit_l5</th><th scope=col>excit_l5_6</th><th scope=col>excit_l6</th><th scope=col>inhib</th><th scope=col>micro</th><th scope=col>oligo</th><th scope=col>opc</th></tr>\n",
       "\t<tr><th></th><th scope=col>&lt;dbl&gt;</th><th scope=col>&lt;dbl&gt;</th><th scope=col>&lt;dbl&gt;</th><th scope=col>&lt;dbl&gt;</th><th scope=col>&lt;dbl&gt;</th><th scope=col>&lt;dbl&gt;</th><th scope=col>&lt;dbl&gt;</th><th scope=col>&lt;dbl&gt;</th><th scope=col>&lt;dbl&gt;</th><th scope=col>&lt;dbl&gt;</th><th scope=col>&lt;dbl&gt;</th><th scope=col>&lt;dbl&gt;</th><th scope=col>&lt;dbl&gt;</th></tr>\n",
       "</thead>\n",
       "<tbody>\n",
       "\t<tr><th scope=row>astro</th><td>0</td><td>0</td><td>0</td><td>0</td><td>0</td><td>0</td><td>0</td><td>0</td><td>0</td><td>0</td><td>0</td><td>0</td><td>0</td></tr>\n",
       "\t<tr><th scope=row>endomural</th><td>0</td><td>0</td><td>0</td><td>0</td><td>0</td><td>0</td><td>0</td><td>0</td><td>0</td><td>0</td><td>0</td><td>0</td><td>0</td></tr>\n",
       "\t<tr><th scope=row>excit_l2_3</th><td>0</td><td>0</td><td>0</td><td>0</td><td>0</td><td>0</td><td>0</td><td>0</td><td>0</td><td>0</td><td>0</td><td>0</td><td>0</td></tr>\n",
       "\t<tr><th scope=row>excit_l3</th><td>0</td><td>0</td><td>0</td><td>0</td><td>0</td><td>0</td><td>0</td><td>0</td><td>0</td><td>0</td><td>0</td><td>0</td><td>0</td></tr>\n",
       "\t<tr><th scope=row>excit_l3_4_5</th><td>0</td><td>0</td><td>0</td><td>0</td><td>0</td><td>0</td><td>0</td><td>0</td><td>0</td><td>0</td><td>0</td><td>0</td><td>0</td></tr>\n",
       "\t<tr><th scope=row>excit_l4</th><td>0</td><td>0</td><td>0</td><td>0</td><td>0</td><td>0</td><td>0</td><td>0</td><td>0</td><td>0</td><td>0</td><td>0</td><td>0</td></tr>\n",
       "\t<tr><th scope=row>excit_l5</th><td>0</td><td>0</td><td>0</td><td>0</td><td>0</td><td>0</td><td>0</td><td>0</td><td>0</td><td>0</td><td>0</td><td>0</td><td>0</td></tr>\n",
       "\t<tr><th scope=row>excit_l5_6</th><td>0</td><td>0</td><td>0</td><td>0</td><td>0</td><td>0</td><td>0</td><td>0</td><td>0</td><td>0</td><td>0</td><td>0</td><td>0</td></tr>\n",
       "\t<tr><th scope=row>excit_l6</th><td>0</td><td>0</td><td>0</td><td>0</td><td>0</td><td>0</td><td>0</td><td>0</td><td>0</td><td>0</td><td>0</td><td>0</td><td>0</td></tr>\n",
       "\t<tr><th scope=row>inhib</th><td>0</td><td>0</td><td>0</td><td>0</td><td>0</td><td>0</td><td>0</td><td>0</td><td>0</td><td>0</td><td>0</td><td>0</td><td>0</td></tr>\n",
       "\t<tr><th scope=row>micro</th><td>0</td><td>0</td><td>0</td><td>0</td><td>0</td><td>0</td><td>0</td><td>0</td><td>0</td><td>0</td><td>0</td><td>0</td><td>0</td></tr>\n",
       "\t<tr><th scope=row>oligo</th><td>0</td><td>0</td><td>0</td><td>0</td><td>0</td><td>0</td><td>0</td><td>0</td><td>0</td><td>0</td><td>0</td><td>0</td><td>0</td></tr>\n",
       "\t<tr><th scope=row>opc</th><td>0</td><td>0</td><td>0</td><td>0</td><td>0</td><td>0</td><td>0</td><td>0</td><td>0</td><td>0</td><td>0</td><td>0</td><td>0</td></tr>\n",
       "</tbody>\n",
       "</table>\n"
      ],
      "text/latex": [
       "A data.frame: 13 × 13\n",
       "\\begin{tabular}{r|lllllllllllll}\n",
       "  & astro & endomural & excit\\_l2\\_3 & excit\\_l3 & excit\\_l3\\_4\\_5 & excit\\_l4 & excit\\_l5 & excit\\_l5\\_6 & excit\\_l6 & inhib & micro & oligo & opc\\\\\n",
       "  & <dbl> & <dbl> & <dbl> & <dbl> & <dbl> & <dbl> & <dbl> & <dbl> & <dbl> & <dbl> & <dbl> & <dbl> & <dbl>\\\\\n",
       "\\hline\n",
       "\tastro & 0 & 0 & 0 & 0 & 0 & 0 & 0 & 0 & 0 & 0 & 0 & 0 & 0\\\\\n",
       "\tendomural & 0 & 0 & 0 & 0 & 0 & 0 & 0 & 0 & 0 & 0 & 0 & 0 & 0\\\\\n",
       "\texcit\\_l2\\_3 & 0 & 0 & 0 & 0 & 0 & 0 & 0 & 0 & 0 & 0 & 0 & 0 & 0\\\\\n",
       "\texcit\\_l3 & 0 & 0 & 0 & 0 & 0 & 0 & 0 & 0 & 0 & 0 & 0 & 0 & 0\\\\\n",
       "\texcit\\_l3\\_4\\_5 & 0 & 0 & 0 & 0 & 0 & 0 & 0 & 0 & 0 & 0 & 0 & 0 & 0\\\\\n",
       "\texcit\\_l4 & 0 & 0 & 0 & 0 & 0 & 0 & 0 & 0 & 0 & 0 & 0 & 0 & 0\\\\\n",
       "\texcit\\_l5 & 0 & 0 & 0 & 0 & 0 & 0 & 0 & 0 & 0 & 0 & 0 & 0 & 0\\\\\n",
       "\texcit\\_l5\\_6 & 0 & 0 & 0 & 0 & 0 & 0 & 0 & 0 & 0 & 0 & 0 & 0 & 0\\\\\n",
       "\texcit\\_l6 & 0 & 0 & 0 & 0 & 0 & 0 & 0 & 0 & 0 & 0 & 0 & 0 & 0\\\\\n",
       "\tinhib & 0 & 0 & 0 & 0 & 0 & 0 & 0 & 0 & 0 & 0 & 0 & 0 & 0\\\\\n",
       "\tmicro & 0 & 0 & 0 & 0 & 0 & 0 & 0 & 0 & 0 & 0 & 0 & 0 & 0\\\\\n",
       "\toligo & 0 & 0 & 0 & 0 & 0 & 0 & 0 & 0 & 0 & 0 & 0 & 0 & 0\\\\\n",
       "\topc & 0 & 0 & 0 & 0 & 0 & 0 & 0 & 0 & 0 & 0 & 0 & 0 & 0\\\\\n",
       "\\end{tabular}\n"
      ],
      "text/markdown": [
       "\n",
       "A data.frame: 13 × 13\n",
       "\n",
       "| <!--/--> | astro &lt;dbl&gt; | endomural &lt;dbl&gt; | excit_l2_3 &lt;dbl&gt; | excit_l3 &lt;dbl&gt; | excit_l3_4_5 &lt;dbl&gt; | excit_l4 &lt;dbl&gt; | excit_l5 &lt;dbl&gt; | excit_l5_6 &lt;dbl&gt; | excit_l6 &lt;dbl&gt; | inhib &lt;dbl&gt; | micro &lt;dbl&gt; | oligo &lt;dbl&gt; | opc &lt;dbl&gt; |\n",
       "|---|---|---|---|---|---|---|---|---|---|---|---|---|---|\n",
       "| astro | 0 | 0 | 0 | 0 | 0 | 0 | 0 | 0 | 0 | 0 | 0 | 0 | 0 |\n",
       "| endomural | 0 | 0 | 0 | 0 | 0 | 0 | 0 | 0 | 0 | 0 | 0 | 0 | 0 |\n",
       "| excit_l2_3 | 0 | 0 | 0 | 0 | 0 | 0 | 0 | 0 | 0 | 0 | 0 | 0 | 0 |\n",
       "| excit_l3 | 0 | 0 | 0 | 0 | 0 | 0 | 0 | 0 | 0 | 0 | 0 | 0 | 0 |\n",
       "| excit_l3_4_5 | 0 | 0 | 0 | 0 | 0 | 0 | 0 | 0 | 0 | 0 | 0 | 0 | 0 |\n",
       "| excit_l4 | 0 | 0 | 0 | 0 | 0 | 0 | 0 | 0 | 0 | 0 | 0 | 0 | 0 |\n",
       "| excit_l5 | 0 | 0 | 0 | 0 | 0 | 0 | 0 | 0 | 0 | 0 | 0 | 0 | 0 |\n",
       "| excit_l5_6 | 0 | 0 | 0 | 0 | 0 | 0 | 0 | 0 | 0 | 0 | 0 | 0 | 0 |\n",
       "| excit_l6 | 0 | 0 | 0 | 0 | 0 | 0 | 0 | 0 | 0 | 0 | 0 | 0 | 0 |\n",
       "| inhib | 0 | 0 | 0 | 0 | 0 | 0 | 0 | 0 | 0 | 0 | 0 | 0 | 0 |\n",
       "| micro | 0 | 0 | 0 | 0 | 0 | 0 | 0 | 0 | 0 | 0 | 0 | 0 | 0 |\n",
       "| oligo | 0 | 0 | 0 | 0 | 0 | 0 | 0 | 0 | 0 | 0 | 0 | 0 | 0 |\n",
       "| opc | 0 | 0 | 0 | 0 | 0 | 0 | 0 | 0 | 0 | 0 | 0 | 0 | 0 |\n",
       "\n"
      ],
      "text/plain": [
       "             astro endomural excit_l2_3 excit_l3 excit_l3_4_5 excit_l4 excit_l5\n",
       "astro        0     0         0          0        0            0        0       \n",
       "endomural    0     0         0          0        0            0        0       \n",
       "excit_l2_3   0     0         0          0        0            0        0       \n",
       "excit_l3     0     0         0          0        0            0        0       \n",
       "excit_l3_4_5 0     0         0          0        0            0        0       \n",
       "excit_l4     0     0         0          0        0            0        0       \n",
       "excit_l5     0     0         0          0        0            0        0       \n",
       "excit_l5_6   0     0         0          0        0            0        0       \n",
       "excit_l6     0     0         0          0        0            0        0       \n",
       "inhib        0     0         0          0        0            0        0       \n",
       "micro        0     0         0          0        0            0        0       \n",
       "oligo        0     0         0          0        0            0        0       \n",
       "opc          0     0         0          0        0            0        0       \n",
       "             excit_l5_6 excit_l6 inhib micro oligo opc\n",
       "astro        0          0        0     0     0     0  \n",
       "endomural    0          0        0     0     0     0  \n",
       "excit_l2_3   0          0        0     0     0     0  \n",
       "excit_l3     0          0        0     0     0     0  \n",
       "excit_l3_4_5 0          0        0     0     0     0  \n",
       "excit_l4     0          0        0     0     0     0  \n",
       "excit_l5     0          0        0     0     0     0  \n",
       "excit_l5_6   0          0        0     0     0     0  \n",
       "excit_l6     0          0        0     0     0     0  \n",
       "inhib        0          0        0     0     0     0  \n",
       "micro        0          0        0     0     0     0  \n",
       "oligo        0          0        0     0     0     0  \n",
       "opc          0          0        0     0     0     0  "
      ]
     },
     "metadata": {},
     "output_type": "display_data"
    }
   ],
   "source": [
    "# Create a 13x13 matrix filled with zeros\n",
    "my_matrix <- matrix(0, nrow = 13, ncol = 13)\n",
    "dfx <- as.data.frame(my_matrix)\n",
    "\n",
    "# Optionally, you can name the columns if needed\n",
    "colnames(dfx) <- colnames(y)\n",
    "\n",
    "# Optionally, you can name the rows if needed\n",
    "rownames(dfx) <- rownames(y)\n",
    "\n",
    "# View the data frame\n",
    "dfx"
   ]
  },
  {
   "cell_type": "code",
   "execution_count": 64,
   "id": "3130e018-5a6e-4e83-b710-f0bf72a3e787",
   "metadata": {},
   "outputs": [
    {
     "data": {
      "text/html": [
       "<table class=\"dataframe\">\n",
       "<caption>A data.frame: 13 × 13</caption>\n",
       "<thead>\n",
       "\t<tr><th></th><th scope=col>astro</th><th scope=col>endomural</th><th scope=col>excit_l2_3</th><th scope=col>excit_l3</th><th scope=col>excit_l3_4_5</th><th scope=col>excit_l4</th><th scope=col>excit_l5</th><th scope=col>excit_l5_6</th><th scope=col>excit_l6</th><th scope=col>inhib</th><th scope=col>micro</th><th scope=col>oligo</th><th scope=col>opc</th></tr>\n",
       "\t<tr><th></th><th scope=col>&lt;dbl&gt;</th><th scope=col>&lt;dbl&gt;</th><th scope=col>&lt;dbl&gt;</th><th scope=col>&lt;dbl&gt;</th><th scope=col>&lt;dbl&gt;</th><th scope=col>&lt;dbl&gt;</th><th scope=col>&lt;dbl&gt;</th><th scope=col>&lt;dbl&gt;</th><th scope=col>&lt;dbl&gt;</th><th scope=col>&lt;dbl&gt;</th><th scope=col>&lt;dbl&gt;</th><th scope=col>&lt;dbl&gt;</th><th scope=col>&lt;dbl&gt;</th></tr>\n",
       "</thead>\n",
       "<tbody>\n",
       "\t<tr><th scope=row>astro</th><td>1.13115432</td><td>0.20615222</td><td>1.21161228</td><td>0</td><td>0.47755637</td><td>1.154741209</td><td>1.34747571</td><td>0.97247056</td><td> 5.1699915</td><td> 7.78088245</td><td>0.07250952</td><td>0.08796856</td><td>1.00246481</td></tr>\n",
       "\t<tr><th scope=row>endomural</th><td>0.00000000</td><td>0.00000000</td><td>0.05198143</td><td>0</td><td>0.02335379</td><td>0.000000000</td><td>0.06837935</td><td>0.08755652</td><td> 0.4243249</td><td> 0.56886987</td><td>0.04927855</td><td>0.12150028</td><td>0.00000000</td></tr>\n",
       "\t<tr><th scope=row>excit_l2_3</th><td>0.12055303</td><td>0.06282294</td><td>0.10443223</td><td>0</td><td>0.23253280</td><td>0.041669169</td><td>0.06431697</td><td>0.09903349</td><td> 0.9251110</td><td> 0.56626007</td><td>0.00000000</td><td>0.06607008</td><td>0.10446437</td></tr>\n",
       "\t<tr><th scope=row>excit_l3</th><td>0.00000000</td><td>0.00000000</td><td>0.00000000</td><td>0</td><td>0.00000000</td><td>0.000000000</td><td>0.00000000</td><td>0.00000000</td><td> 0.0000000</td><td> 0.00000000</td><td>0.00000000</td><td>0.00000000</td><td>0.00000000</td></tr>\n",
       "\t<tr><th scope=row>excit_l3_4_5</th><td>0.08080596</td><td>0.02152904</td><td>0.08566308</td><td>0</td><td>0.04976004</td><td>0.013221114</td><td>0.08398643</td><td>0.04335762</td><td> 0.3352842</td><td> 0.37207214</td><td>0.00000000</td><td>0.00000000</td><td>0.04285643</td></tr>\n",
       "\t<tr><th scope=row>excit_l4</th><td>0.07509013</td><td>0.05930432</td><td>0.02025350</td><td>0</td><td>0.13314008</td><td>0.005848247</td><td>0.01986334</td><td>0.06013490</td><td> 0.2326352</td><td> 0.46908280</td><td>0.00000000</td><td>0.00000000</td><td>0.07074058</td></tr>\n",
       "\t<tr><th scope=row>excit_l5</th><td>0.14526771</td><td>0.06127146</td><td>0.11639102</td><td>0</td><td>0.23793547</td><td>0.076926787</td><td>0.06722446</td><td>0.07058681</td><td> 0.8186261</td><td> 0.78137052</td><td>0.00000000</td><td>0.05824202</td><td>0.12238388</td></tr>\n",
       "\t<tr><th scope=row>excit_l5_6</th><td>0.15199505</td><td>0.05338610</td><td>0.07085979</td><td>0</td><td>0.16450294</td><td>0.032345866</td><td>0.03618848</td><td>0.07060611</td><td> 0.3063485</td><td> 0.58544821</td><td>0.00000000</td><td>0.05954476</td><td>0.06094501</td></tr>\n",
       "\t<tr><th scope=row>excit_l6</th><td>0.52453837</td><td>0.24359593</td><td>0.32863841</td><td>0</td><td>0.73371984</td><td>0.215249860</td><td>0.35650348</td><td>0.26767862</td><td> 2.6488756</td><td> 2.51571822</td><td>0.05562578</td><td>0.30221486</td><td>0.36368891</td></tr>\n",
       "\t<tr><th scope=row>inhib</th><td>5.15438598</td><td>0.23863411</td><td>6.54752706</td><td>0</td><td>2.01833360</td><td>6.637274615</td><td>7.69216213</td><td>4.38122431</td><td>28.8290793</td><td>42.87636776</td><td>0.01466273</td><td>0.08373663</td><td>5.40899585</td></tr>\n",
       "\t<tr><th scope=row>micro</th><td>0.02323824</td><td>0.00000000</td><td>0.02626841</td><td>0</td><td>0.00000000</td><td>0.015180276</td><td>0.02795030</td><td>0.02936658</td><td> 0.1758191</td><td> 0.05980255</td><td>0.00000000</td><td>0.00000000</td><td>0.00000000</td></tr>\n",
       "\t<tr><th scope=row>oligo</th><td>0.44616621</td><td>0.07246813</td><td>0.76491383</td><td>0</td><td>0.00000000</td><td>0.837783075</td><td>0.94864089</td><td>0.50955114</td><td> 3.5083440</td><td> 4.94640136</td><td>0.03284844</td><td>0.03005591</td><td>0.45829971</td></tr>\n",
       "\t<tr><th scope=row>opc</th><td>1.36252274</td><td>0.09918492</td><td>1.06396120</td><td>0</td><td>0.74916815</td><td>1.035219607</td><td>1.27500779</td><td>0.85297128</td><td> 4.7658768</td><td> 6.73621069</td><td>0.02678200</td><td>0.02449213</td><td>1.29693245</td></tr>\n",
       "</tbody>\n",
       "</table>\n"
      ],
      "text/latex": [
       "A data.frame: 13 × 13\n",
       "\\begin{tabular}{r|lllllllllllll}\n",
       "  & astro & endomural & excit\\_l2\\_3 & excit\\_l3 & excit\\_l3\\_4\\_5 & excit\\_l4 & excit\\_l5 & excit\\_l5\\_6 & excit\\_l6 & inhib & micro & oligo & opc\\\\\n",
       "  & <dbl> & <dbl> & <dbl> & <dbl> & <dbl> & <dbl> & <dbl> & <dbl> & <dbl> & <dbl> & <dbl> & <dbl> & <dbl>\\\\\n",
       "\\hline\n",
       "\tastro & 1.13115432 & 0.20615222 & 1.21161228 & 0 & 0.47755637 & 1.154741209 & 1.34747571 & 0.97247056 &  5.1699915 &  7.78088245 & 0.07250952 & 0.08796856 & 1.00246481\\\\\n",
       "\tendomural & 0.00000000 & 0.00000000 & 0.05198143 & 0 & 0.02335379 & 0.000000000 & 0.06837935 & 0.08755652 &  0.4243249 &  0.56886987 & 0.04927855 & 0.12150028 & 0.00000000\\\\\n",
       "\texcit\\_l2\\_3 & 0.12055303 & 0.06282294 & 0.10443223 & 0 & 0.23253280 & 0.041669169 & 0.06431697 & 0.09903349 &  0.9251110 &  0.56626007 & 0.00000000 & 0.06607008 & 0.10446437\\\\\n",
       "\texcit\\_l3 & 0.00000000 & 0.00000000 & 0.00000000 & 0 & 0.00000000 & 0.000000000 & 0.00000000 & 0.00000000 &  0.0000000 &  0.00000000 & 0.00000000 & 0.00000000 & 0.00000000\\\\\n",
       "\texcit\\_l3\\_4\\_5 & 0.08080596 & 0.02152904 & 0.08566308 & 0 & 0.04976004 & 0.013221114 & 0.08398643 & 0.04335762 &  0.3352842 &  0.37207214 & 0.00000000 & 0.00000000 & 0.04285643\\\\\n",
       "\texcit\\_l4 & 0.07509013 & 0.05930432 & 0.02025350 & 0 & 0.13314008 & 0.005848247 & 0.01986334 & 0.06013490 &  0.2326352 &  0.46908280 & 0.00000000 & 0.00000000 & 0.07074058\\\\\n",
       "\texcit\\_l5 & 0.14526771 & 0.06127146 & 0.11639102 & 0 & 0.23793547 & 0.076926787 & 0.06722446 & 0.07058681 &  0.8186261 &  0.78137052 & 0.00000000 & 0.05824202 & 0.12238388\\\\\n",
       "\texcit\\_l5\\_6 & 0.15199505 & 0.05338610 & 0.07085979 & 0 & 0.16450294 & 0.032345866 & 0.03618848 & 0.07060611 &  0.3063485 &  0.58544821 & 0.00000000 & 0.05954476 & 0.06094501\\\\\n",
       "\texcit\\_l6 & 0.52453837 & 0.24359593 & 0.32863841 & 0 & 0.73371984 & 0.215249860 & 0.35650348 & 0.26767862 &  2.6488756 &  2.51571822 & 0.05562578 & 0.30221486 & 0.36368891\\\\\n",
       "\tinhib & 5.15438598 & 0.23863411 & 6.54752706 & 0 & 2.01833360 & 6.637274615 & 7.69216213 & 4.38122431 & 28.8290793 & 42.87636776 & 0.01466273 & 0.08373663 & 5.40899585\\\\\n",
       "\tmicro & 0.02323824 & 0.00000000 & 0.02626841 & 0 & 0.00000000 & 0.015180276 & 0.02795030 & 0.02936658 &  0.1758191 &  0.05980255 & 0.00000000 & 0.00000000 & 0.00000000\\\\\n",
       "\toligo & 0.44616621 & 0.07246813 & 0.76491383 & 0 & 0.00000000 & 0.837783075 & 0.94864089 & 0.50955114 &  3.5083440 &  4.94640136 & 0.03284844 & 0.03005591 & 0.45829971\\\\\n",
       "\topc & 1.36252274 & 0.09918492 & 1.06396120 & 0 & 0.74916815 & 1.035219607 & 1.27500779 & 0.85297128 &  4.7658768 &  6.73621069 & 0.02678200 & 0.02449213 & 1.29693245\\\\\n",
       "\\end{tabular}\n"
      ],
      "text/markdown": [
       "\n",
       "A data.frame: 13 × 13\n",
       "\n",
       "| <!--/--> | astro &lt;dbl&gt; | endomural &lt;dbl&gt; | excit_l2_3 &lt;dbl&gt; | excit_l3 &lt;dbl&gt; | excit_l3_4_5 &lt;dbl&gt; | excit_l4 &lt;dbl&gt; | excit_l5 &lt;dbl&gt; | excit_l5_6 &lt;dbl&gt; | excit_l6 &lt;dbl&gt; | inhib &lt;dbl&gt; | micro &lt;dbl&gt; | oligo &lt;dbl&gt; | opc &lt;dbl&gt; |\n",
       "|---|---|---|---|---|---|---|---|---|---|---|---|---|---|\n",
       "| astro | 1.13115432 | 0.20615222 | 1.21161228 | 0 | 0.47755637 | 1.154741209 | 1.34747571 | 0.97247056 |  5.1699915 |  7.78088245 | 0.07250952 | 0.08796856 | 1.00246481 |\n",
       "| endomural | 0.00000000 | 0.00000000 | 0.05198143 | 0 | 0.02335379 | 0.000000000 | 0.06837935 | 0.08755652 |  0.4243249 |  0.56886987 | 0.04927855 | 0.12150028 | 0.00000000 |\n",
       "| excit_l2_3 | 0.12055303 | 0.06282294 | 0.10443223 | 0 | 0.23253280 | 0.041669169 | 0.06431697 | 0.09903349 |  0.9251110 |  0.56626007 | 0.00000000 | 0.06607008 | 0.10446437 |\n",
       "| excit_l3 | 0.00000000 | 0.00000000 | 0.00000000 | 0 | 0.00000000 | 0.000000000 | 0.00000000 | 0.00000000 |  0.0000000 |  0.00000000 | 0.00000000 | 0.00000000 | 0.00000000 |\n",
       "| excit_l3_4_5 | 0.08080596 | 0.02152904 | 0.08566308 | 0 | 0.04976004 | 0.013221114 | 0.08398643 | 0.04335762 |  0.3352842 |  0.37207214 | 0.00000000 | 0.00000000 | 0.04285643 |\n",
       "| excit_l4 | 0.07509013 | 0.05930432 | 0.02025350 | 0 | 0.13314008 | 0.005848247 | 0.01986334 | 0.06013490 |  0.2326352 |  0.46908280 | 0.00000000 | 0.00000000 | 0.07074058 |\n",
       "| excit_l5 | 0.14526771 | 0.06127146 | 0.11639102 | 0 | 0.23793547 | 0.076926787 | 0.06722446 | 0.07058681 |  0.8186261 |  0.78137052 | 0.00000000 | 0.05824202 | 0.12238388 |\n",
       "| excit_l5_6 | 0.15199505 | 0.05338610 | 0.07085979 | 0 | 0.16450294 | 0.032345866 | 0.03618848 | 0.07060611 |  0.3063485 |  0.58544821 | 0.00000000 | 0.05954476 | 0.06094501 |\n",
       "| excit_l6 | 0.52453837 | 0.24359593 | 0.32863841 | 0 | 0.73371984 | 0.215249860 | 0.35650348 | 0.26767862 |  2.6488756 |  2.51571822 | 0.05562578 | 0.30221486 | 0.36368891 |\n",
       "| inhib | 5.15438598 | 0.23863411 | 6.54752706 | 0 | 2.01833360 | 6.637274615 | 7.69216213 | 4.38122431 | 28.8290793 | 42.87636776 | 0.01466273 | 0.08373663 | 5.40899585 |\n",
       "| micro | 0.02323824 | 0.00000000 | 0.02626841 | 0 | 0.00000000 | 0.015180276 | 0.02795030 | 0.02936658 |  0.1758191 |  0.05980255 | 0.00000000 | 0.00000000 | 0.00000000 |\n",
       "| oligo | 0.44616621 | 0.07246813 | 0.76491383 | 0 | 0.00000000 | 0.837783075 | 0.94864089 | 0.50955114 |  3.5083440 |  4.94640136 | 0.03284844 | 0.03005591 | 0.45829971 |\n",
       "| opc | 1.36252274 | 0.09918492 | 1.06396120 | 0 | 0.74916815 | 1.035219607 | 1.27500779 | 0.85297128 |  4.7658768 |  6.73621069 | 0.02678200 | 0.02449213 | 1.29693245 |\n",
       "\n"
      ],
      "text/plain": [
       "             astro      endomural  excit_l2_3 excit_l3 excit_l3_4_5 excit_l4   \n",
       "astro        1.13115432 0.20615222 1.21161228 0        0.47755637   1.154741209\n",
       "endomural    0.00000000 0.00000000 0.05198143 0        0.02335379   0.000000000\n",
       "excit_l2_3   0.12055303 0.06282294 0.10443223 0        0.23253280   0.041669169\n",
       "excit_l3     0.00000000 0.00000000 0.00000000 0        0.00000000   0.000000000\n",
       "excit_l3_4_5 0.08080596 0.02152904 0.08566308 0        0.04976004   0.013221114\n",
       "excit_l4     0.07509013 0.05930432 0.02025350 0        0.13314008   0.005848247\n",
       "excit_l5     0.14526771 0.06127146 0.11639102 0        0.23793547   0.076926787\n",
       "excit_l5_6   0.15199505 0.05338610 0.07085979 0        0.16450294   0.032345866\n",
       "excit_l6     0.52453837 0.24359593 0.32863841 0        0.73371984   0.215249860\n",
       "inhib        5.15438598 0.23863411 6.54752706 0        2.01833360   6.637274615\n",
       "micro        0.02323824 0.00000000 0.02626841 0        0.00000000   0.015180276\n",
       "oligo        0.44616621 0.07246813 0.76491383 0        0.00000000   0.837783075\n",
       "opc          1.36252274 0.09918492 1.06396120 0        0.74916815   1.035219607\n",
       "             excit_l5   excit_l5_6 excit_l6   inhib       micro      oligo     \n",
       "astro        1.34747571 0.97247056  5.1699915  7.78088245 0.07250952 0.08796856\n",
       "endomural    0.06837935 0.08755652  0.4243249  0.56886987 0.04927855 0.12150028\n",
       "excit_l2_3   0.06431697 0.09903349  0.9251110  0.56626007 0.00000000 0.06607008\n",
       "excit_l3     0.00000000 0.00000000  0.0000000  0.00000000 0.00000000 0.00000000\n",
       "excit_l3_4_5 0.08398643 0.04335762  0.3352842  0.37207214 0.00000000 0.00000000\n",
       "excit_l4     0.01986334 0.06013490  0.2326352  0.46908280 0.00000000 0.00000000\n",
       "excit_l5     0.06722446 0.07058681  0.8186261  0.78137052 0.00000000 0.05824202\n",
       "excit_l5_6   0.03618848 0.07060611  0.3063485  0.58544821 0.00000000 0.05954476\n",
       "excit_l6     0.35650348 0.26767862  2.6488756  2.51571822 0.05562578 0.30221486\n",
       "inhib        7.69216213 4.38122431 28.8290793 42.87636776 0.01466273 0.08373663\n",
       "micro        0.02795030 0.02936658  0.1758191  0.05980255 0.00000000 0.00000000\n",
       "oligo        0.94864089 0.50955114  3.5083440  4.94640136 0.03284844 0.03005591\n",
       "opc          1.27500779 0.85297128  4.7658768  6.73621069 0.02678200 0.02449213\n",
       "             opc       \n",
       "astro        1.00246481\n",
       "endomural    0.00000000\n",
       "excit_l2_3   0.10446437\n",
       "excit_l3     0.00000000\n",
       "excit_l3_4_5 0.04285643\n",
       "excit_l4     0.07074058\n",
       "excit_l5     0.12238388\n",
       "excit_l5_6   0.06094501\n",
       "excit_l6     0.36368891\n",
       "inhib        5.40899585\n",
       "micro        0.00000000\n",
       "oligo        0.45829971\n",
       "opc          1.29693245"
      ]
     },
     "metadata": {},
     "output_type": "display_data"
    }
   ],
   "source": [
    "dfx['astro'] = col_astro\n",
    "dfx['endomural'] = col_endomural\n",
    "dfx['excit_l2_3'] = col_excit_l2_3\n",
    "# df[1,] = excit_l3\n",
    "dfx['excit_l3_4_5'] = col_excit_l3_4_5\n",
    "dfx['excit_l4'] = col_excit_l4\n",
    "dfx['excit_l5'] = col_excit_l5\n",
    "dfx['excit_l5_6'] = col_excit_l5_6\n",
    "dfx['excit_l6'] = col_excit_l6\n",
    "dfx['inhib'] = col_inhib\n",
    "dfx['micro'] = col_micro\n",
    "dfx['oligo'] = col_oligo\n",
    "dfx['opc'] = col_opc\n",
    "dfx"
   ]
  },
  {
   "cell_type": "markdown",
   "id": "d38de1cd-44ac-420e-bfd9-c77230ebba4f",
   "metadata": {},
   "source": [
    "# correlation"
   ]
  },
  {
   "cell_type": "code",
   "execution_count": 65,
   "id": "babb8dac-747d-4a14-b340-a011f289e726",
   "metadata": {},
   "outputs": [],
   "source": [
    "# cor(dfx, y, method = \"pearson\")"
   ]
  },
  {
   "cell_type": "code",
   "execution_count": 66,
   "id": "68acb9d7-bab3-4bf9-afe9-eab2c3a9c9ae",
   "metadata": {},
   "outputs": [],
   "source": [
    "# cor(dfx, y, method = \"kendall\")"
   ]
  },
  {
   "cell_type": "code",
   "execution_count": 67,
   "id": "fa03c820-2696-48b2-bd79-b5b8ed8a6179",
   "metadata": {},
   "outputs": [],
   "source": [
    "# cor(dfx, y, method = \"spearman\")"
   ]
  },
  {
   "cell_type": "code",
   "execution_count": 68,
   "id": "28a3de7d-4f14-4426-b029-171664539858",
   "metadata": {},
   "outputs": [],
   "source": [
    "# cor(dfx[1], y[1], method = \"spearman\")"
   ]
  },
  {
   "cell_type": "markdown",
   "id": "72cce56d-e241-461b-b048-dc49a1f5f77d",
   "metadata": {},
   "source": [
    "# flatten and find correlation & p-value"
   ]
  },
  {
   "cell_type": "code",
   "execution_count": 54,
   "id": "c61becb7-c055-406c-a0f6-4472ff034386",
   "metadata": {},
   "outputs": [],
   "source": [
    "# Flatten the data frames into vectors\n",
    "x_vector <- as.vector(as.matrix(dfx))\n",
    "y_vector <- as.vector(as.matrix(y))\n"
   ]
  },
  {
   "cell_type": "code",
   "execution_count": 55,
   "id": "180547cd-67cb-4636-9853-84843a39bebc",
   "metadata": {},
   "outputs": [
    {
     "data": {
      "text/plain": [
       "\n",
       "\tPearson's product-moment correlation\n",
       "\n",
       "data:  x_vector and y_vector\n",
       "t = 0.50402, df = 167, p-value = 0.6149\n",
       "alternative hypothesis: true correlation is not equal to 0\n",
       "95 percent confidence interval:\n",
       " -0.1126502  0.1888218\n",
       "sample estimates:\n",
       "       cor \n",
       "0.03897262 \n"
      ]
     },
     "metadata": {},
     "output_type": "display_data"
    }
   ],
   "source": [
    "# Calculate the correlation between the two vectors\n",
    "# correlation <- cor(x_vector, y_vector)\n",
    "p_value <- cor.test(x_vector, y_vector, method = \"pearson\")\n",
    "p_value"
   ]
  },
  {
   "cell_type": "code",
   "execution_count": 56,
   "id": "80fab30b-5e89-47da-a183-bcd976f365ae",
   "metadata": {},
   "outputs": [
    {
     "data": {
      "text/plain": [
       "\n",
       "\tKendall's rank correlation tau\n",
       "\n",
       "data:  x_vector and y_vector\n",
       "z = -0.50018, p-value = 0.6169\n",
       "alternative hypothesis: true tau is not equal to 0\n",
       "sample estimates:\n",
       "        tau \n",
       "-0.02652854 \n"
      ]
     },
     "metadata": {},
     "output_type": "display_data"
    }
   ],
   "source": [
    "# Calculate the correlation between the two vectors\n",
    "# correlation <- cor(x_vector, y_vector)\n",
    "p_value <- cor.test(x_vector, y_vector, method = \"kendall\")\n",
    "p_value"
   ]
  },
  {
   "cell_type": "code",
   "execution_count": 57,
   "id": "efe02413-5c9f-4d12-8b4e-acf5cc77971b",
   "metadata": {},
   "outputs": [
    {
     "name": "stderr",
     "output_type": "stream",
     "text": [
      "Warning message in cor.test.default(x_vector, y_vector, method = \"spearman\"):\n",
      "“Cannot compute exact p-value with ties”\n"
     ]
    },
    {
     "data": {
      "text/plain": [
       "\n",
       "\tSpearman's rank correlation rho\n",
       "\n",
       "data:  x_vector and y_vector\n",
       "S = 831952, p-value = 0.6589\n",
       "alternative hypothesis: true rho is not equal to 0\n",
       "sample estimates:\n",
       "    rho \n",
       "-0.0342 \n"
      ]
     },
     "metadata": {},
     "output_type": "display_data"
    }
   ],
   "source": [
    "# Calculate the correlation between the two vectors\n",
    "# correlation <- cor(x_vector, y_vector)\n",
    "p_value <- cor.test(x_vector, y_vector, method = \"spearman\")\n",
    "p_value"
   ]
  },
  {
   "cell_type": "code",
   "execution_count": null,
   "id": "1c5e6735-bb07-41f1-8d5b-5d4c40433450",
   "metadata": {},
   "outputs": [],
   "source": []
  }
 ],
 "metadata": {
  "kernelspec": {
   "display_name": "R",
   "language": "R",
   "name": "ir"
  },
  "language_info": {
   "codemirror_mode": "r",
   "file_extension": ".r",
   "mimetype": "text/x-r-source",
   "name": "R",
   "pygments_lexer": "r",
   "version": "4.3.1"
  }
 },
 "nbformat": 4,
 "nbformat_minor": 5
}
